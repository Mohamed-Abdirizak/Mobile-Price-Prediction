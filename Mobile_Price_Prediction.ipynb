{
  "cells": [
    {
      "cell_type": "markdown",
      "metadata": {
        "id": "7KzkD_39VPpG"
      },
      "source": [
        "# Part 1: Loading the dataset and libraries\n"
      ]
    },
    {
      "cell_type": "code",
      "execution_count": 856,
      "metadata": {
        "id": "k8CRVW_mY0WX"
      },
      "outputs": [],
      "source": [
        "import pandas as pd"
      ]
    },
    {
      "cell_type": "code",
      "execution_count": 857,
      "metadata": {
        "id": "IuFf_C_kY0ZA"
      },
      "outputs": [],
      "source": [
        "data = pd.read_csv(\"train.csv\")"
      ]
    },
    {
      "cell_type": "code",
      "execution_count": 858,
      "metadata": {
        "colab": {
          "base_uri": "https://localhost:8080/",
          "height": 256
        },
        "id": "qY3ibvHoY0bz",
        "outputId": "a0fbeec3-8b91-45f6-8bba-5cce9c8d52e0"
      },
      "outputs": [
        {
          "output_type": "execute_result",
          "data": {
            "text/plain": [
              "   battery_power  blue  clock_speed  dual_sim  fc  four_g  int_memory  m_dep  \\\n",
              "0            842     0          2.2         0   1       0           7    0.6   \n",
              "1           1021     1          0.5         1   0       1          53    0.7   \n",
              "2            563     1          0.5         1   2       1          41    0.9   \n",
              "3            615     1          2.5         0   0       0          10    0.8   \n",
              "4           1821     1          1.2         0  13       1          44    0.6   \n",
              "\n",
              "   mobile_wt  n_cores  ...  px_height  px_width   ram  sc_h  sc_w  talk_time  \\\n",
              "0        188        2  ...         20       756  2549     9     7         19   \n",
              "1        136        3  ...        905      1988  2631    17     3          7   \n",
              "2        145        5  ...       1263      1716  2603    11     2          9   \n",
              "3        131        6  ...       1216      1786  2769    16     8         11   \n",
              "4        141        2  ...       1208      1212  1411     8     2         15   \n",
              "\n",
              "   three_g  touch_screen  wifi  price_range  \n",
              "0        0             0     1            1  \n",
              "1        1             1     0            2  \n",
              "2        1             1     0            2  \n",
              "3        1             0     0            2  \n",
              "4        1             1     0            1  \n",
              "\n",
              "[5 rows x 21 columns]"
            ],
            "text/html": [
              "\n",
              "  <div id=\"df-3a624a3b-2978-4b96-b02b-4f2c59dc38d5\" class=\"colab-df-container\">\n",
              "    <div>\n",
              "<style scoped>\n",
              "    .dataframe tbody tr th:only-of-type {\n",
              "        vertical-align: middle;\n",
              "    }\n",
              "\n",
              "    .dataframe tbody tr th {\n",
              "        vertical-align: top;\n",
              "    }\n",
              "\n",
              "    .dataframe thead th {\n",
              "        text-align: right;\n",
              "    }\n",
              "</style>\n",
              "<table border=\"1\" class=\"dataframe\">\n",
              "  <thead>\n",
              "    <tr style=\"text-align: right;\">\n",
              "      <th></th>\n",
              "      <th>battery_power</th>\n",
              "      <th>blue</th>\n",
              "      <th>clock_speed</th>\n",
              "      <th>dual_sim</th>\n",
              "      <th>fc</th>\n",
              "      <th>four_g</th>\n",
              "      <th>int_memory</th>\n",
              "      <th>m_dep</th>\n",
              "      <th>mobile_wt</th>\n",
              "      <th>n_cores</th>\n",
              "      <th>...</th>\n",
              "      <th>px_height</th>\n",
              "      <th>px_width</th>\n",
              "      <th>ram</th>\n",
              "      <th>sc_h</th>\n",
              "      <th>sc_w</th>\n",
              "      <th>talk_time</th>\n",
              "      <th>three_g</th>\n",
              "      <th>touch_screen</th>\n",
              "      <th>wifi</th>\n",
              "      <th>price_range</th>\n",
              "    </tr>\n",
              "  </thead>\n",
              "  <tbody>\n",
              "    <tr>\n",
              "      <th>0</th>\n",
              "      <td>842</td>\n",
              "      <td>0</td>\n",
              "      <td>2.2</td>\n",
              "      <td>0</td>\n",
              "      <td>1</td>\n",
              "      <td>0</td>\n",
              "      <td>7</td>\n",
              "      <td>0.6</td>\n",
              "      <td>188</td>\n",
              "      <td>2</td>\n",
              "      <td>...</td>\n",
              "      <td>20</td>\n",
              "      <td>756</td>\n",
              "      <td>2549</td>\n",
              "      <td>9</td>\n",
              "      <td>7</td>\n",
              "      <td>19</td>\n",
              "      <td>0</td>\n",
              "      <td>0</td>\n",
              "      <td>1</td>\n",
              "      <td>1</td>\n",
              "    </tr>\n",
              "    <tr>\n",
              "      <th>1</th>\n",
              "      <td>1021</td>\n",
              "      <td>1</td>\n",
              "      <td>0.5</td>\n",
              "      <td>1</td>\n",
              "      <td>0</td>\n",
              "      <td>1</td>\n",
              "      <td>53</td>\n",
              "      <td>0.7</td>\n",
              "      <td>136</td>\n",
              "      <td>3</td>\n",
              "      <td>...</td>\n",
              "      <td>905</td>\n",
              "      <td>1988</td>\n",
              "      <td>2631</td>\n",
              "      <td>17</td>\n",
              "      <td>3</td>\n",
              "      <td>7</td>\n",
              "      <td>1</td>\n",
              "      <td>1</td>\n",
              "      <td>0</td>\n",
              "      <td>2</td>\n",
              "    </tr>\n",
              "    <tr>\n",
              "      <th>2</th>\n",
              "      <td>563</td>\n",
              "      <td>1</td>\n",
              "      <td>0.5</td>\n",
              "      <td>1</td>\n",
              "      <td>2</td>\n",
              "      <td>1</td>\n",
              "      <td>41</td>\n",
              "      <td>0.9</td>\n",
              "      <td>145</td>\n",
              "      <td>5</td>\n",
              "      <td>...</td>\n",
              "      <td>1263</td>\n",
              "      <td>1716</td>\n",
              "      <td>2603</td>\n",
              "      <td>11</td>\n",
              "      <td>2</td>\n",
              "      <td>9</td>\n",
              "      <td>1</td>\n",
              "      <td>1</td>\n",
              "      <td>0</td>\n",
              "      <td>2</td>\n",
              "    </tr>\n",
              "    <tr>\n",
              "      <th>3</th>\n",
              "      <td>615</td>\n",
              "      <td>1</td>\n",
              "      <td>2.5</td>\n",
              "      <td>0</td>\n",
              "      <td>0</td>\n",
              "      <td>0</td>\n",
              "      <td>10</td>\n",
              "      <td>0.8</td>\n",
              "      <td>131</td>\n",
              "      <td>6</td>\n",
              "      <td>...</td>\n",
              "      <td>1216</td>\n",
              "      <td>1786</td>\n",
              "      <td>2769</td>\n",
              "      <td>16</td>\n",
              "      <td>8</td>\n",
              "      <td>11</td>\n",
              "      <td>1</td>\n",
              "      <td>0</td>\n",
              "      <td>0</td>\n",
              "      <td>2</td>\n",
              "    </tr>\n",
              "    <tr>\n",
              "      <th>4</th>\n",
              "      <td>1821</td>\n",
              "      <td>1</td>\n",
              "      <td>1.2</td>\n",
              "      <td>0</td>\n",
              "      <td>13</td>\n",
              "      <td>1</td>\n",
              "      <td>44</td>\n",
              "      <td>0.6</td>\n",
              "      <td>141</td>\n",
              "      <td>2</td>\n",
              "      <td>...</td>\n",
              "      <td>1208</td>\n",
              "      <td>1212</td>\n",
              "      <td>1411</td>\n",
              "      <td>8</td>\n",
              "      <td>2</td>\n",
              "      <td>15</td>\n",
              "      <td>1</td>\n",
              "      <td>1</td>\n",
              "      <td>0</td>\n",
              "      <td>1</td>\n",
              "    </tr>\n",
              "  </tbody>\n",
              "</table>\n",
              "<p>5 rows × 21 columns</p>\n",
              "</div>\n",
              "    <div class=\"colab-df-buttons\">\n",
              "\n",
              "  <div class=\"colab-df-container\">\n",
              "    <button class=\"colab-df-convert\" onclick=\"convertToInteractive('df-3a624a3b-2978-4b96-b02b-4f2c59dc38d5')\"\n",
              "            title=\"Convert this dataframe to an interactive table.\"\n",
              "            style=\"display:none;\">\n",
              "\n",
              "  <svg xmlns=\"http://www.w3.org/2000/svg\" height=\"24px\" viewBox=\"0 -960 960 960\">\n",
              "    <path d=\"M120-120v-720h720v720H120Zm60-500h600v-160H180v160Zm220 220h160v-160H400v160Zm0 220h160v-160H400v160ZM180-400h160v-160H180v160Zm440 0h160v-160H620v160ZM180-180h160v-160H180v160Zm440 0h160v-160H620v160Z\"/>\n",
              "  </svg>\n",
              "    </button>\n",
              "\n",
              "  <style>\n",
              "    .colab-df-container {\n",
              "      display:flex;\n",
              "      gap: 12px;\n",
              "    }\n",
              "\n",
              "    .colab-df-convert {\n",
              "      background-color: #E8F0FE;\n",
              "      border: none;\n",
              "      border-radius: 50%;\n",
              "      cursor: pointer;\n",
              "      display: none;\n",
              "      fill: #1967D2;\n",
              "      height: 32px;\n",
              "      padding: 0 0 0 0;\n",
              "      width: 32px;\n",
              "    }\n",
              "\n",
              "    .colab-df-convert:hover {\n",
              "      background-color: #E2EBFA;\n",
              "      box-shadow: 0px 1px 2px rgba(60, 64, 67, 0.3), 0px 1px 3px 1px rgba(60, 64, 67, 0.15);\n",
              "      fill: #174EA6;\n",
              "    }\n",
              "\n",
              "    .colab-df-buttons div {\n",
              "      margin-bottom: 4px;\n",
              "    }\n",
              "\n",
              "    [theme=dark] .colab-df-convert {\n",
              "      background-color: #3B4455;\n",
              "      fill: #D2E3FC;\n",
              "    }\n",
              "\n",
              "    [theme=dark] .colab-df-convert:hover {\n",
              "      background-color: #434B5C;\n",
              "      box-shadow: 0px 1px 3px 1px rgba(0, 0, 0, 0.15);\n",
              "      filter: drop-shadow(0px 1px 2px rgba(0, 0, 0, 0.3));\n",
              "      fill: #FFFFFF;\n",
              "    }\n",
              "  </style>\n",
              "\n",
              "    <script>\n",
              "      const buttonEl =\n",
              "        document.querySelector('#df-3a624a3b-2978-4b96-b02b-4f2c59dc38d5 button.colab-df-convert');\n",
              "      buttonEl.style.display =\n",
              "        google.colab.kernel.accessAllowed ? 'block' : 'none';\n",
              "\n",
              "      async function convertToInteractive(key) {\n",
              "        const element = document.querySelector('#df-3a624a3b-2978-4b96-b02b-4f2c59dc38d5');\n",
              "        const dataTable =\n",
              "          await google.colab.kernel.invokeFunction('convertToInteractive',\n",
              "                                                    [key], {});\n",
              "        if (!dataTable) return;\n",
              "\n",
              "        const docLinkHtml = 'Like what you see? Visit the ' +\n",
              "          '<a target=\"_blank\" href=https://colab.research.google.com/notebooks/data_table.ipynb>data table notebook</a>'\n",
              "          + ' to learn more about interactive tables.';\n",
              "        element.innerHTML = '';\n",
              "        dataTable['output_type'] = 'display_data';\n",
              "        await google.colab.output.renderOutput(dataTable, element);\n",
              "        const docLink = document.createElement('div');\n",
              "        docLink.innerHTML = docLinkHtml;\n",
              "        element.appendChild(docLink);\n",
              "      }\n",
              "    </script>\n",
              "  </div>\n",
              "\n",
              "\n",
              "<div id=\"df-ff0a44bf-d298-4554-a1e9-a6671a9015c3\">\n",
              "  <button class=\"colab-df-quickchart\" onclick=\"quickchart('df-ff0a44bf-d298-4554-a1e9-a6671a9015c3')\"\n",
              "            title=\"Suggest charts\"\n",
              "            style=\"display:none;\">\n",
              "\n",
              "<svg xmlns=\"http://www.w3.org/2000/svg\" height=\"24px\"viewBox=\"0 0 24 24\"\n",
              "     width=\"24px\">\n",
              "    <g>\n",
              "        <path d=\"M19 3H5c-1.1 0-2 .9-2 2v14c0 1.1.9 2 2 2h14c1.1 0 2-.9 2-2V5c0-1.1-.9-2-2-2zM9 17H7v-7h2v7zm4 0h-2V7h2v10zm4 0h-2v-4h2v4z\"/>\n",
              "    </g>\n",
              "</svg>\n",
              "  </button>\n",
              "\n",
              "<style>\n",
              "  .colab-df-quickchart {\n",
              "      --bg-color: #E8F0FE;\n",
              "      --fill-color: #1967D2;\n",
              "      --hover-bg-color: #E2EBFA;\n",
              "      --hover-fill-color: #174EA6;\n",
              "      --disabled-fill-color: #AAA;\n",
              "      --disabled-bg-color: #DDD;\n",
              "  }\n",
              "\n",
              "  [theme=dark] .colab-df-quickchart {\n",
              "      --bg-color: #3B4455;\n",
              "      --fill-color: #D2E3FC;\n",
              "      --hover-bg-color: #434B5C;\n",
              "      --hover-fill-color: #FFFFFF;\n",
              "      --disabled-bg-color: #3B4455;\n",
              "      --disabled-fill-color: #666;\n",
              "  }\n",
              "\n",
              "  .colab-df-quickchart {\n",
              "    background-color: var(--bg-color);\n",
              "    border: none;\n",
              "    border-radius: 50%;\n",
              "    cursor: pointer;\n",
              "    display: none;\n",
              "    fill: var(--fill-color);\n",
              "    height: 32px;\n",
              "    padding: 0;\n",
              "    width: 32px;\n",
              "  }\n",
              "\n",
              "  .colab-df-quickchart:hover {\n",
              "    background-color: var(--hover-bg-color);\n",
              "    box-shadow: 0 1px 2px rgba(60, 64, 67, 0.3), 0 1px 3px 1px rgba(60, 64, 67, 0.15);\n",
              "    fill: var(--button-hover-fill-color);\n",
              "  }\n",
              "\n",
              "  .colab-df-quickchart-complete:disabled,\n",
              "  .colab-df-quickchart-complete:disabled:hover {\n",
              "    background-color: var(--disabled-bg-color);\n",
              "    fill: var(--disabled-fill-color);\n",
              "    box-shadow: none;\n",
              "  }\n",
              "\n",
              "  .colab-df-spinner {\n",
              "    border: 2px solid var(--fill-color);\n",
              "    border-color: transparent;\n",
              "    border-bottom-color: var(--fill-color);\n",
              "    animation:\n",
              "      spin 1s steps(1) infinite;\n",
              "  }\n",
              "\n",
              "  @keyframes spin {\n",
              "    0% {\n",
              "      border-color: transparent;\n",
              "      border-bottom-color: var(--fill-color);\n",
              "      border-left-color: var(--fill-color);\n",
              "    }\n",
              "    20% {\n",
              "      border-color: transparent;\n",
              "      border-left-color: var(--fill-color);\n",
              "      border-top-color: var(--fill-color);\n",
              "    }\n",
              "    30% {\n",
              "      border-color: transparent;\n",
              "      border-left-color: var(--fill-color);\n",
              "      border-top-color: var(--fill-color);\n",
              "      border-right-color: var(--fill-color);\n",
              "    }\n",
              "    40% {\n",
              "      border-color: transparent;\n",
              "      border-right-color: var(--fill-color);\n",
              "      border-top-color: var(--fill-color);\n",
              "    }\n",
              "    60% {\n",
              "      border-color: transparent;\n",
              "      border-right-color: var(--fill-color);\n",
              "    }\n",
              "    80% {\n",
              "      border-color: transparent;\n",
              "      border-right-color: var(--fill-color);\n",
              "      border-bottom-color: var(--fill-color);\n",
              "    }\n",
              "    90% {\n",
              "      border-color: transparent;\n",
              "      border-bottom-color: var(--fill-color);\n",
              "    }\n",
              "  }\n",
              "</style>\n",
              "\n",
              "  <script>\n",
              "    async function quickchart(key) {\n",
              "      const quickchartButtonEl =\n",
              "        document.querySelector('#' + key + ' button');\n",
              "      quickchartButtonEl.disabled = true;  // To prevent multiple clicks.\n",
              "      quickchartButtonEl.classList.add('colab-df-spinner');\n",
              "      try {\n",
              "        const charts = await google.colab.kernel.invokeFunction(\n",
              "            'suggestCharts', [key], {});\n",
              "      } catch (error) {\n",
              "        console.error('Error during call to suggestCharts:', error);\n",
              "      }\n",
              "      quickchartButtonEl.classList.remove('colab-df-spinner');\n",
              "      quickchartButtonEl.classList.add('colab-df-quickchart-complete');\n",
              "    }\n",
              "    (() => {\n",
              "      let quickchartButtonEl =\n",
              "        document.querySelector('#df-ff0a44bf-d298-4554-a1e9-a6671a9015c3 button');\n",
              "      quickchartButtonEl.style.display =\n",
              "        google.colab.kernel.accessAllowed ? 'block' : 'none';\n",
              "    })();\n",
              "  </script>\n",
              "</div>\n",
              "\n",
              "    </div>\n",
              "  </div>\n"
            ],
            "application/vnd.google.colaboratory.intrinsic+json": {
              "type": "dataframe",
              "variable_name": "data"
            }
          },
          "metadata": {},
          "execution_count": 858
        }
      ],
      "source": [
        "data.head()"
      ]
    },
    {
      "cell_type": "markdown",
      "metadata": {
        "id": "oDSRmqUIVQPP"
      },
      "source": [
        "# Part 2: Data understanding\n"
      ]
    },
    {
      "cell_type": "code",
      "execution_count": 859,
      "metadata": {
        "colab": {
          "base_uri": "https://localhost:8080/"
        },
        "id": "hDghNtWqbFtV",
        "outputId": "59346e94-3ae6-429c-8f00-4c343ac673b2"
      },
      "outputs": [
        {
          "output_type": "execute_result",
          "data": {
            "text/plain": [
              "Index(['battery_power', 'blue', 'clock_speed', 'dual_sim', 'fc', 'four_g',\n",
              "       'int_memory', 'm_dep', 'mobile_wt', 'n_cores', 'pc', 'px_height',\n",
              "       'px_width', 'ram', 'sc_h', 'sc_w', 'talk_time', 'three_g',\n",
              "       'touch_screen', 'wifi', 'price_range'],\n",
              "      dtype='object')"
            ]
          },
          "metadata": {},
          "execution_count": 859
        }
      ],
      "source": [
        "data.columns"
      ]
    },
    {
      "cell_type": "code",
      "execution_count": 860,
      "metadata": {
        "colab": {
          "base_uri": "https://localhost:8080/"
        },
        "id": "9lCkmCCabFwS",
        "outputId": "9d11d904-92e0-4d4e-9a68-d2860ad71242"
      },
      "outputs": [
        {
          "output_type": "execute_result",
          "data": {
            "text/plain": [
              "(2000, 21)"
            ]
          },
          "metadata": {},
          "execution_count": 860
        }
      ],
      "source": [
        "data.shape"
      ]
    },
    {
      "cell_type": "code",
      "execution_count": 861,
      "metadata": {
        "colab": {
          "base_uri": "https://localhost:8080/"
        },
        "id": "QxJJ6rBNbFzb",
        "outputId": "d8252f93-f3b9-44d5-e1af-3028ad4cda30"
      },
      "outputs": [
        {
          "output_type": "execute_result",
          "data": {
            "text/plain": [
              "1    500\n",
              "2    500\n",
              "3    500\n",
              "0    500\n",
              "Name: price_range, dtype: int64"
            ]
          },
          "metadata": {},
          "execution_count": 861
        }
      ],
      "source": [
        "data.price_range.value_counts()"
      ]
    },
    {
      "cell_type": "code",
      "execution_count": 862,
      "metadata": {
        "id": "u6h51fUEbQnG"
      },
      "outputs": [],
      "source": [
        "# 0(low cost), 1(medium cost), 2(high cost) and 3(very high cost)."
      ]
    },
    {
      "cell_type": "markdown",
      "metadata": {
        "id": "sV6z7lIMVQmG"
      },
      "source": [
        "## deleting uneeded variables\n"
      ]
    },
    {
      "cell_type": "code",
      "execution_count": 863,
      "metadata": {
        "colab": {
          "base_uri": "https://localhost:8080/",
          "height": 256
        },
        "id": "VuyltgtBbU_R",
        "outputId": "ae6fc582-c89e-4ef3-8ad9-7a177ee57ef8"
      },
      "outputs": [
        {
          "output_type": "execute_result",
          "data": {
            "text/plain": [
              "   battery_power  blue  clock_speed  dual_sim  fc  four_g  int_memory  m_dep  \\\n",
              "0            842     0          2.2         0   1       0           7    0.6   \n",
              "1           1021     1          0.5         1   0       1          53    0.7   \n",
              "2            563     1          0.5         1   2       1          41    0.9   \n",
              "3            615     1          2.5         0   0       0          10    0.8   \n",
              "4           1821     1          1.2         0  13       1          44    0.6   \n",
              "\n",
              "   mobile_wt  n_cores  ...  px_height  px_width   ram  sc_h  sc_w  talk_time  \\\n",
              "0        188        2  ...         20       756  2549     9     7         19   \n",
              "1        136        3  ...        905      1988  2631    17     3          7   \n",
              "2        145        5  ...       1263      1716  2603    11     2          9   \n",
              "3        131        6  ...       1216      1786  2769    16     8         11   \n",
              "4        141        2  ...       1208      1212  1411     8     2         15   \n",
              "\n",
              "   three_g  touch_screen  wifi  price_range  \n",
              "0        0             0     1            1  \n",
              "1        1             1     0            2  \n",
              "2        1             1     0            2  \n",
              "3        1             0     0            2  \n",
              "4        1             1     0            1  \n",
              "\n",
              "[5 rows x 21 columns]"
            ],
            "text/html": [
              "\n",
              "  <div id=\"df-345b94d6-da77-43cb-8317-92a8bb6961a7\" class=\"colab-df-container\">\n",
              "    <div>\n",
              "<style scoped>\n",
              "    .dataframe tbody tr th:only-of-type {\n",
              "        vertical-align: middle;\n",
              "    }\n",
              "\n",
              "    .dataframe tbody tr th {\n",
              "        vertical-align: top;\n",
              "    }\n",
              "\n",
              "    .dataframe thead th {\n",
              "        text-align: right;\n",
              "    }\n",
              "</style>\n",
              "<table border=\"1\" class=\"dataframe\">\n",
              "  <thead>\n",
              "    <tr style=\"text-align: right;\">\n",
              "      <th></th>\n",
              "      <th>battery_power</th>\n",
              "      <th>blue</th>\n",
              "      <th>clock_speed</th>\n",
              "      <th>dual_sim</th>\n",
              "      <th>fc</th>\n",
              "      <th>four_g</th>\n",
              "      <th>int_memory</th>\n",
              "      <th>m_dep</th>\n",
              "      <th>mobile_wt</th>\n",
              "      <th>n_cores</th>\n",
              "      <th>...</th>\n",
              "      <th>px_height</th>\n",
              "      <th>px_width</th>\n",
              "      <th>ram</th>\n",
              "      <th>sc_h</th>\n",
              "      <th>sc_w</th>\n",
              "      <th>talk_time</th>\n",
              "      <th>three_g</th>\n",
              "      <th>touch_screen</th>\n",
              "      <th>wifi</th>\n",
              "      <th>price_range</th>\n",
              "    </tr>\n",
              "  </thead>\n",
              "  <tbody>\n",
              "    <tr>\n",
              "      <th>0</th>\n",
              "      <td>842</td>\n",
              "      <td>0</td>\n",
              "      <td>2.2</td>\n",
              "      <td>0</td>\n",
              "      <td>1</td>\n",
              "      <td>0</td>\n",
              "      <td>7</td>\n",
              "      <td>0.6</td>\n",
              "      <td>188</td>\n",
              "      <td>2</td>\n",
              "      <td>...</td>\n",
              "      <td>20</td>\n",
              "      <td>756</td>\n",
              "      <td>2549</td>\n",
              "      <td>9</td>\n",
              "      <td>7</td>\n",
              "      <td>19</td>\n",
              "      <td>0</td>\n",
              "      <td>0</td>\n",
              "      <td>1</td>\n",
              "      <td>1</td>\n",
              "    </tr>\n",
              "    <tr>\n",
              "      <th>1</th>\n",
              "      <td>1021</td>\n",
              "      <td>1</td>\n",
              "      <td>0.5</td>\n",
              "      <td>1</td>\n",
              "      <td>0</td>\n",
              "      <td>1</td>\n",
              "      <td>53</td>\n",
              "      <td>0.7</td>\n",
              "      <td>136</td>\n",
              "      <td>3</td>\n",
              "      <td>...</td>\n",
              "      <td>905</td>\n",
              "      <td>1988</td>\n",
              "      <td>2631</td>\n",
              "      <td>17</td>\n",
              "      <td>3</td>\n",
              "      <td>7</td>\n",
              "      <td>1</td>\n",
              "      <td>1</td>\n",
              "      <td>0</td>\n",
              "      <td>2</td>\n",
              "    </tr>\n",
              "    <tr>\n",
              "      <th>2</th>\n",
              "      <td>563</td>\n",
              "      <td>1</td>\n",
              "      <td>0.5</td>\n",
              "      <td>1</td>\n",
              "      <td>2</td>\n",
              "      <td>1</td>\n",
              "      <td>41</td>\n",
              "      <td>0.9</td>\n",
              "      <td>145</td>\n",
              "      <td>5</td>\n",
              "      <td>...</td>\n",
              "      <td>1263</td>\n",
              "      <td>1716</td>\n",
              "      <td>2603</td>\n",
              "      <td>11</td>\n",
              "      <td>2</td>\n",
              "      <td>9</td>\n",
              "      <td>1</td>\n",
              "      <td>1</td>\n",
              "      <td>0</td>\n",
              "      <td>2</td>\n",
              "    </tr>\n",
              "    <tr>\n",
              "      <th>3</th>\n",
              "      <td>615</td>\n",
              "      <td>1</td>\n",
              "      <td>2.5</td>\n",
              "      <td>0</td>\n",
              "      <td>0</td>\n",
              "      <td>0</td>\n",
              "      <td>10</td>\n",
              "      <td>0.8</td>\n",
              "      <td>131</td>\n",
              "      <td>6</td>\n",
              "      <td>...</td>\n",
              "      <td>1216</td>\n",
              "      <td>1786</td>\n",
              "      <td>2769</td>\n",
              "      <td>16</td>\n",
              "      <td>8</td>\n",
              "      <td>11</td>\n",
              "      <td>1</td>\n",
              "      <td>0</td>\n",
              "      <td>0</td>\n",
              "      <td>2</td>\n",
              "    </tr>\n",
              "    <tr>\n",
              "      <th>4</th>\n",
              "      <td>1821</td>\n",
              "      <td>1</td>\n",
              "      <td>1.2</td>\n",
              "      <td>0</td>\n",
              "      <td>13</td>\n",
              "      <td>1</td>\n",
              "      <td>44</td>\n",
              "      <td>0.6</td>\n",
              "      <td>141</td>\n",
              "      <td>2</td>\n",
              "      <td>...</td>\n",
              "      <td>1208</td>\n",
              "      <td>1212</td>\n",
              "      <td>1411</td>\n",
              "      <td>8</td>\n",
              "      <td>2</td>\n",
              "      <td>15</td>\n",
              "      <td>1</td>\n",
              "      <td>1</td>\n",
              "      <td>0</td>\n",
              "      <td>1</td>\n",
              "    </tr>\n",
              "  </tbody>\n",
              "</table>\n",
              "<p>5 rows × 21 columns</p>\n",
              "</div>\n",
              "    <div class=\"colab-df-buttons\">\n",
              "\n",
              "  <div class=\"colab-df-container\">\n",
              "    <button class=\"colab-df-convert\" onclick=\"convertToInteractive('df-345b94d6-da77-43cb-8317-92a8bb6961a7')\"\n",
              "            title=\"Convert this dataframe to an interactive table.\"\n",
              "            style=\"display:none;\">\n",
              "\n",
              "  <svg xmlns=\"http://www.w3.org/2000/svg\" height=\"24px\" viewBox=\"0 -960 960 960\">\n",
              "    <path d=\"M120-120v-720h720v720H120Zm60-500h600v-160H180v160Zm220 220h160v-160H400v160Zm0 220h160v-160H400v160ZM180-400h160v-160H180v160Zm440 0h160v-160H620v160ZM180-180h160v-160H180v160Zm440 0h160v-160H620v160Z\"/>\n",
              "  </svg>\n",
              "    </button>\n",
              "\n",
              "  <style>\n",
              "    .colab-df-container {\n",
              "      display:flex;\n",
              "      gap: 12px;\n",
              "    }\n",
              "\n",
              "    .colab-df-convert {\n",
              "      background-color: #E8F0FE;\n",
              "      border: none;\n",
              "      border-radius: 50%;\n",
              "      cursor: pointer;\n",
              "      display: none;\n",
              "      fill: #1967D2;\n",
              "      height: 32px;\n",
              "      padding: 0 0 0 0;\n",
              "      width: 32px;\n",
              "    }\n",
              "\n",
              "    .colab-df-convert:hover {\n",
              "      background-color: #E2EBFA;\n",
              "      box-shadow: 0px 1px 2px rgba(60, 64, 67, 0.3), 0px 1px 3px 1px rgba(60, 64, 67, 0.15);\n",
              "      fill: #174EA6;\n",
              "    }\n",
              "\n",
              "    .colab-df-buttons div {\n",
              "      margin-bottom: 4px;\n",
              "    }\n",
              "\n",
              "    [theme=dark] .colab-df-convert {\n",
              "      background-color: #3B4455;\n",
              "      fill: #D2E3FC;\n",
              "    }\n",
              "\n",
              "    [theme=dark] .colab-df-convert:hover {\n",
              "      background-color: #434B5C;\n",
              "      box-shadow: 0px 1px 3px 1px rgba(0, 0, 0, 0.15);\n",
              "      filter: drop-shadow(0px 1px 2px rgba(0, 0, 0, 0.3));\n",
              "      fill: #FFFFFF;\n",
              "    }\n",
              "  </style>\n",
              "\n",
              "    <script>\n",
              "      const buttonEl =\n",
              "        document.querySelector('#df-345b94d6-da77-43cb-8317-92a8bb6961a7 button.colab-df-convert');\n",
              "      buttonEl.style.display =\n",
              "        google.colab.kernel.accessAllowed ? 'block' : 'none';\n",
              "\n",
              "      async function convertToInteractive(key) {\n",
              "        const element = document.querySelector('#df-345b94d6-da77-43cb-8317-92a8bb6961a7');\n",
              "        const dataTable =\n",
              "          await google.colab.kernel.invokeFunction('convertToInteractive',\n",
              "                                                    [key], {});\n",
              "        if (!dataTable) return;\n",
              "\n",
              "        const docLinkHtml = 'Like what you see? Visit the ' +\n",
              "          '<a target=\"_blank\" href=https://colab.research.google.com/notebooks/data_table.ipynb>data table notebook</a>'\n",
              "          + ' to learn more about interactive tables.';\n",
              "        element.innerHTML = '';\n",
              "        dataTable['output_type'] = 'display_data';\n",
              "        await google.colab.output.renderOutput(dataTable, element);\n",
              "        const docLink = document.createElement('div');\n",
              "        docLink.innerHTML = docLinkHtml;\n",
              "        element.appendChild(docLink);\n",
              "      }\n",
              "    </script>\n",
              "  </div>\n",
              "\n",
              "\n",
              "<div id=\"df-ed061fe5-fb4f-4011-970c-cd583b4b55e9\">\n",
              "  <button class=\"colab-df-quickchart\" onclick=\"quickchart('df-ed061fe5-fb4f-4011-970c-cd583b4b55e9')\"\n",
              "            title=\"Suggest charts\"\n",
              "            style=\"display:none;\">\n",
              "\n",
              "<svg xmlns=\"http://www.w3.org/2000/svg\" height=\"24px\"viewBox=\"0 0 24 24\"\n",
              "     width=\"24px\">\n",
              "    <g>\n",
              "        <path d=\"M19 3H5c-1.1 0-2 .9-2 2v14c0 1.1.9 2 2 2h14c1.1 0 2-.9 2-2V5c0-1.1-.9-2-2-2zM9 17H7v-7h2v7zm4 0h-2V7h2v10zm4 0h-2v-4h2v4z\"/>\n",
              "    </g>\n",
              "</svg>\n",
              "  </button>\n",
              "\n",
              "<style>\n",
              "  .colab-df-quickchart {\n",
              "      --bg-color: #E8F0FE;\n",
              "      --fill-color: #1967D2;\n",
              "      --hover-bg-color: #E2EBFA;\n",
              "      --hover-fill-color: #174EA6;\n",
              "      --disabled-fill-color: #AAA;\n",
              "      --disabled-bg-color: #DDD;\n",
              "  }\n",
              "\n",
              "  [theme=dark] .colab-df-quickchart {\n",
              "      --bg-color: #3B4455;\n",
              "      --fill-color: #D2E3FC;\n",
              "      --hover-bg-color: #434B5C;\n",
              "      --hover-fill-color: #FFFFFF;\n",
              "      --disabled-bg-color: #3B4455;\n",
              "      --disabled-fill-color: #666;\n",
              "  }\n",
              "\n",
              "  .colab-df-quickchart {\n",
              "    background-color: var(--bg-color);\n",
              "    border: none;\n",
              "    border-radius: 50%;\n",
              "    cursor: pointer;\n",
              "    display: none;\n",
              "    fill: var(--fill-color);\n",
              "    height: 32px;\n",
              "    padding: 0;\n",
              "    width: 32px;\n",
              "  }\n",
              "\n",
              "  .colab-df-quickchart:hover {\n",
              "    background-color: var(--hover-bg-color);\n",
              "    box-shadow: 0 1px 2px rgba(60, 64, 67, 0.3), 0 1px 3px 1px rgba(60, 64, 67, 0.15);\n",
              "    fill: var(--button-hover-fill-color);\n",
              "  }\n",
              "\n",
              "  .colab-df-quickchart-complete:disabled,\n",
              "  .colab-df-quickchart-complete:disabled:hover {\n",
              "    background-color: var(--disabled-bg-color);\n",
              "    fill: var(--disabled-fill-color);\n",
              "    box-shadow: none;\n",
              "  }\n",
              "\n",
              "  .colab-df-spinner {\n",
              "    border: 2px solid var(--fill-color);\n",
              "    border-color: transparent;\n",
              "    border-bottom-color: var(--fill-color);\n",
              "    animation:\n",
              "      spin 1s steps(1) infinite;\n",
              "  }\n",
              "\n",
              "  @keyframes spin {\n",
              "    0% {\n",
              "      border-color: transparent;\n",
              "      border-bottom-color: var(--fill-color);\n",
              "      border-left-color: var(--fill-color);\n",
              "    }\n",
              "    20% {\n",
              "      border-color: transparent;\n",
              "      border-left-color: var(--fill-color);\n",
              "      border-top-color: var(--fill-color);\n",
              "    }\n",
              "    30% {\n",
              "      border-color: transparent;\n",
              "      border-left-color: var(--fill-color);\n",
              "      border-top-color: var(--fill-color);\n",
              "      border-right-color: var(--fill-color);\n",
              "    }\n",
              "    40% {\n",
              "      border-color: transparent;\n",
              "      border-right-color: var(--fill-color);\n",
              "      border-top-color: var(--fill-color);\n",
              "    }\n",
              "    60% {\n",
              "      border-color: transparent;\n",
              "      border-right-color: var(--fill-color);\n",
              "    }\n",
              "    80% {\n",
              "      border-color: transparent;\n",
              "      border-right-color: var(--fill-color);\n",
              "      border-bottom-color: var(--fill-color);\n",
              "    }\n",
              "    90% {\n",
              "      border-color: transparent;\n",
              "      border-bottom-color: var(--fill-color);\n",
              "    }\n",
              "  }\n",
              "</style>\n",
              "\n",
              "  <script>\n",
              "    async function quickchart(key) {\n",
              "      const quickchartButtonEl =\n",
              "        document.querySelector('#' + key + ' button');\n",
              "      quickchartButtonEl.disabled = true;  // To prevent multiple clicks.\n",
              "      quickchartButtonEl.classList.add('colab-df-spinner');\n",
              "      try {\n",
              "        const charts = await google.colab.kernel.invokeFunction(\n",
              "            'suggestCharts', [key], {});\n",
              "      } catch (error) {\n",
              "        console.error('Error during call to suggestCharts:', error);\n",
              "      }\n",
              "      quickchartButtonEl.classList.remove('colab-df-spinner');\n",
              "      quickchartButtonEl.classList.add('colab-df-quickchart-complete');\n",
              "    }\n",
              "    (() => {\n",
              "      let quickchartButtonEl =\n",
              "        document.querySelector('#df-ed061fe5-fb4f-4011-970c-cd583b4b55e9 button');\n",
              "      quickchartButtonEl.style.display =\n",
              "        google.colab.kernel.accessAllowed ? 'block' : 'none';\n",
              "    })();\n",
              "  </script>\n",
              "</div>\n",
              "\n",
              "    </div>\n",
              "  </div>\n"
            ],
            "application/vnd.google.colaboratory.intrinsic+json": {
              "type": "dataframe",
              "variable_name": "data"
            }
          },
          "metadata": {},
          "execution_count": 863
        }
      ],
      "source": [
        "data.head()"
      ]
    },
    {
      "cell_type": "code",
      "execution_count": 864,
      "metadata": {
        "id": "OhphYSGabVB9"
      },
      "outputs": [],
      "source": [
        "#### all the variables we need.................. cause midkasto wuxuu saameen kuleeyahay target varaiblkeena"
      ]
    },
    {
      "cell_type": "code",
      "source": [
        "from google.colab import drive\n",
        "drive.mount('/content/drive')"
      ],
      "metadata": {
        "id": "ly1v2x37wQCc"
      },
      "execution_count": null,
      "outputs": []
    },
    {
      "cell_type": "markdown",
      "metadata": {
        "id": "LU35EaDuVQpb"
      },
      "source": [
        "# Part 3: Solving Missing Values\n"
      ]
    },
    {
      "cell_type": "code",
      "execution_count": 865,
      "metadata": {
        "colab": {
          "base_uri": "https://localhost:8080/",
          "height": 256
        },
        "id": "5i4_jWoYbk79",
        "outputId": "da0e363d-f154-448b-ec03-83fa1b638805"
      },
      "outputs": [
        {
          "output_type": "execute_result",
          "data": {
            "text/plain": [
              "   battery_power  blue  clock_speed  dual_sim  fc  four_g  int_memory  m_dep  \\\n",
              "0            842     0          2.2         0   1       0           7    0.6   \n",
              "1           1021     1          0.5         1   0       1          53    0.7   \n",
              "2            563     1          0.5         1   2       1          41    0.9   \n",
              "3            615     1          2.5         0   0       0          10    0.8   \n",
              "4           1821     1          1.2         0  13       1          44    0.6   \n",
              "\n",
              "   mobile_wt  n_cores  ...  px_height  px_width   ram  sc_h  sc_w  talk_time  \\\n",
              "0        188        2  ...         20       756  2549     9     7         19   \n",
              "1        136        3  ...        905      1988  2631    17     3          7   \n",
              "2        145        5  ...       1263      1716  2603    11     2          9   \n",
              "3        131        6  ...       1216      1786  2769    16     8         11   \n",
              "4        141        2  ...       1208      1212  1411     8     2         15   \n",
              "\n",
              "   three_g  touch_screen  wifi  price_range  \n",
              "0        0             0     1            1  \n",
              "1        1             1     0            2  \n",
              "2        1             1     0            2  \n",
              "3        1             0     0            2  \n",
              "4        1             1     0            1  \n",
              "\n",
              "[5 rows x 21 columns]"
            ],
            "text/html": [
              "\n",
              "  <div id=\"df-2da53870-bb3e-4ce4-b3f9-9a7e51e584a5\" class=\"colab-df-container\">\n",
              "    <div>\n",
              "<style scoped>\n",
              "    .dataframe tbody tr th:only-of-type {\n",
              "        vertical-align: middle;\n",
              "    }\n",
              "\n",
              "    .dataframe tbody tr th {\n",
              "        vertical-align: top;\n",
              "    }\n",
              "\n",
              "    .dataframe thead th {\n",
              "        text-align: right;\n",
              "    }\n",
              "</style>\n",
              "<table border=\"1\" class=\"dataframe\">\n",
              "  <thead>\n",
              "    <tr style=\"text-align: right;\">\n",
              "      <th></th>\n",
              "      <th>battery_power</th>\n",
              "      <th>blue</th>\n",
              "      <th>clock_speed</th>\n",
              "      <th>dual_sim</th>\n",
              "      <th>fc</th>\n",
              "      <th>four_g</th>\n",
              "      <th>int_memory</th>\n",
              "      <th>m_dep</th>\n",
              "      <th>mobile_wt</th>\n",
              "      <th>n_cores</th>\n",
              "      <th>...</th>\n",
              "      <th>px_height</th>\n",
              "      <th>px_width</th>\n",
              "      <th>ram</th>\n",
              "      <th>sc_h</th>\n",
              "      <th>sc_w</th>\n",
              "      <th>talk_time</th>\n",
              "      <th>three_g</th>\n",
              "      <th>touch_screen</th>\n",
              "      <th>wifi</th>\n",
              "      <th>price_range</th>\n",
              "    </tr>\n",
              "  </thead>\n",
              "  <tbody>\n",
              "    <tr>\n",
              "      <th>0</th>\n",
              "      <td>842</td>\n",
              "      <td>0</td>\n",
              "      <td>2.2</td>\n",
              "      <td>0</td>\n",
              "      <td>1</td>\n",
              "      <td>0</td>\n",
              "      <td>7</td>\n",
              "      <td>0.6</td>\n",
              "      <td>188</td>\n",
              "      <td>2</td>\n",
              "      <td>...</td>\n",
              "      <td>20</td>\n",
              "      <td>756</td>\n",
              "      <td>2549</td>\n",
              "      <td>9</td>\n",
              "      <td>7</td>\n",
              "      <td>19</td>\n",
              "      <td>0</td>\n",
              "      <td>0</td>\n",
              "      <td>1</td>\n",
              "      <td>1</td>\n",
              "    </tr>\n",
              "    <tr>\n",
              "      <th>1</th>\n",
              "      <td>1021</td>\n",
              "      <td>1</td>\n",
              "      <td>0.5</td>\n",
              "      <td>1</td>\n",
              "      <td>0</td>\n",
              "      <td>1</td>\n",
              "      <td>53</td>\n",
              "      <td>0.7</td>\n",
              "      <td>136</td>\n",
              "      <td>3</td>\n",
              "      <td>...</td>\n",
              "      <td>905</td>\n",
              "      <td>1988</td>\n",
              "      <td>2631</td>\n",
              "      <td>17</td>\n",
              "      <td>3</td>\n",
              "      <td>7</td>\n",
              "      <td>1</td>\n",
              "      <td>1</td>\n",
              "      <td>0</td>\n",
              "      <td>2</td>\n",
              "    </tr>\n",
              "    <tr>\n",
              "      <th>2</th>\n",
              "      <td>563</td>\n",
              "      <td>1</td>\n",
              "      <td>0.5</td>\n",
              "      <td>1</td>\n",
              "      <td>2</td>\n",
              "      <td>1</td>\n",
              "      <td>41</td>\n",
              "      <td>0.9</td>\n",
              "      <td>145</td>\n",
              "      <td>5</td>\n",
              "      <td>...</td>\n",
              "      <td>1263</td>\n",
              "      <td>1716</td>\n",
              "      <td>2603</td>\n",
              "      <td>11</td>\n",
              "      <td>2</td>\n",
              "      <td>9</td>\n",
              "      <td>1</td>\n",
              "      <td>1</td>\n",
              "      <td>0</td>\n",
              "      <td>2</td>\n",
              "    </tr>\n",
              "    <tr>\n",
              "      <th>3</th>\n",
              "      <td>615</td>\n",
              "      <td>1</td>\n",
              "      <td>2.5</td>\n",
              "      <td>0</td>\n",
              "      <td>0</td>\n",
              "      <td>0</td>\n",
              "      <td>10</td>\n",
              "      <td>0.8</td>\n",
              "      <td>131</td>\n",
              "      <td>6</td>\n",
              "      <td>...</td>\n",
              "      <td>1216</td>\n",
              "      <td>1786</td>\n",
              "      <td>2769</td>\n",
              "      <td>16</td>\n",
              "      <td>8</td>\n",
              "      <td>11</td>\n",
              "      <td>1</td>\n",
              "      <td>0</td>\n",
              "      <td>0</td>\n",
              "      <td>2</td>\n",
              "    </tr>\n",
              "    <tr>\n",
              "      <th>4</th>\n",
              "      <td>1821</td>\n",
              "      <td>1</td>\n",
              "      <td>1.2</td>\n",
              "      <td>0</td>\n",
              "      <td>13</td>\n",
              "      <td>1</td>\n",
              "      <td>44</td>\n",
              "      <td>0.6</td>\n",
              "      <td>141</td>\n",
              "      <td>2</td>\n",
              "      <td>...</td>\n",
              "      <td>1208</td>\n",
              "      <td>1212</td>\n",
              "      <td>1411</td>\n",
              "      <td>8</td>\n",
              "      <td>2</td>\n",
              "      <td>15</td>\n",
              "      <td>1</td>\n",
              "      <td>1</td>\n",
              "      <td>0</td>\n",
              "      <td>1</td>\n",
              "    </tr>\n",
              "  </tbody>\n",
              "</table>\n",
              "<p>5 rows × 21 columns</p>\n",
              "</div>\n",
              "    <div class=\"colab-df-buttons\">\n",
              "\n",
              "  <div class=\"colab-df-container\">\n",
              "    <button class=\"colab-df-convert\" onclick=\"convertToInteractive('df-2da53870-bb3e-4ce4-b3f9-9a7e51e584a5')\"\n",
              "            title=\"Convert this dataframe to an interactive table.\"\n",
              "            style=\"display:none;\">\n",
              "\n",
              "  <svg xmlns=\"http://www.w3.org/2000/svg\" height=\"24px\" viewBox=\"0 -960 960 960\">\n",
              "    <path d=\"M120-120v-720h720v720H120Zm60-500h600v-160H180v160Zm220 220h160v-160H400v160Zm0 220h160v-160H400v160ZM180-400h160v-160H180v160Zm440 0h160v-160H620v160ZM180-180h160v-160H180v160Zm440 0h160v-160H620v160Z\"/>\n",
              "  </svg>\n",
              "    </button>\n",
              "\n",
              "  <style>\n",
              "    .colab-df-container {\n",
              "      display:flex;\n",
              "      gap: 12px;\n",
              "    }\n",
              "\n",
              "    .colab-df-convert {\n",
              "      background-color: #E8F0FE;\n",
              "      border: none;\n",
              "      border-radius: 50%;\n",
              "      cursor: pointer;\n",
              "      display: none;\n",
              "      fill: #1967D2;\n",
              "      height: 32px;\n",
              "      padding: 0 0 0 0;\n",
              "      width: 32px;\n",
              "    }\n",
              "\n",
              "    .colab-df-convert:hover {\n",
              "      background-color: #E2EBFA;\n",
              "      box-shadow: 0px 1px 2px rgba(60, 64, 67, 0.3), 0px 1px 3px 1px rgba(60, 64, 67, 0.15);\n",
              "      fill: #174EA6;\n",
              "    }\n",
              "\n",
              "    .colab-df-buttons div {\n",
              "      margin-bottom: 4px;\n",
              "    }\n",
              "\n",
              "    [theme=dark] .colab-df-convert {\n",
              "      background-color: #3B4455;\n",
              "      fill: #D2E3FC;\n",
              "    }\n",
              "\n",
              "    [theme=dark] .colab-df-convert:hover {\n",
              "      background-color: #434B5C;\n",
              "      box-shadow: 0px 1px 3px 1px rgba(0, 0, 0, 0.15);\n",
              "      filter: drop-shadow(0px 1px 2px rgba(0, 0, 0, 0.3));\n",
              "      fill: #FFFFFF;\n",
              "    }\n",
              "  </style>\n",
              "\n",
              "    <script>\n",
              "      const buttonEl =\n",
              "        document.querySelector('#df-2da53870-bb3e-4ce4-b3f9-9a7e51e584a5 button.colab-df-convert');\n",
              "      buttonEl.style.display =\n",
              "        google.colab.kernel.accessAllowed ? 'block' : 'none';\n",
              "\n",
              "      async function convertToInteractive(key) {\n",
              "        const element = document.querySelector('#df-2da53870-bb3e-4ce4-b3f9-9a7e51e584a5');\n",
              "        const dataTable =\n",
              "          await google.colab.kernel.invokeFunction('convertToInteractive',\n",
              "                                                    [key], {});\n",
              "        if (!dataTable) return;\n",
              "\n",
              "        const docLinkHtml = 'Like what you see? Visit the ' +\n",
              "          '<a target=\"_blank\" href=https://colab.research.google.com/notebooks/data_table.ipynb>data table notebook</a>'\n",
              "          + ' to learn more about interactive tables.';\n",
              "        element.innerHTML = '';\n",
              "        dataTable['output_type'] = 'display_data';\n",
              "        await google.colab.output.renderOutput(dataTable, element);\n",
              "        const docLink = document.createElement('div');\n",
              "        docLink.innerHTML = docLinkHtml;\n",
              "        element.appendChild(docLink);\n",
              "      }\n",
              "    </script>\n",
              "  </div>\n",
              "\n",
              "\n",
              "<div id=\"df-6943085f-4c1d-496a-86d7-a5fcdc642917\">\n",
              "  <button class=\"colab-df-quickchart\" onclick=\"quickchart('df-6943085f-4c1d-496a-86d7-a5fcdc642917')\"\n",
              "            title=\"Suggest charts\"\n",
              "            style=\"display:none;\">\n",
              "\n",
              "<svg xmlns=\"http://www.w3.org/2000/svg\" height=\"24px\"viewBox=\"0 0 24 24\"\n",
              "     width=\"24px\">\n",
              "    <g>\n",
              "        <path d=\"M19 3H5c-1.1 0-2 .9-2 2v14c0 1.1.9 2 2 2h14c1.1 0 2-.9 2-2V5c0-1.1-.9-2-2-2zM9 17H7v-7h2v7zm4 0h-2V7h2v10zm4 0h-2v-4h2v4z\"/>\n",
              "    </g>\n",
              "</svg>\n",
              "  </button>\n",
              "\n",
              "<style>\n",
              "  .colab-df-quickchart {\n",
              "      --bg-color: #E8F0FE;\n",
              "      --fill-color: #1967D2;\n",
              "      --hover-bg-color: #E2EBFA;\n",
              "      --hover-fill-color: #174EA6;\n",
              "      --disabled-fill-color: #AAA;\n",
              "      --disabled-bg-color: #DDD;\n",
              "  }\n",
              "\n",
              "  [theme=dark] .colab-df-quickchart {\n",
              "      --bg-color: #3B4455;\n",
              "      --fill-color: #D2E3FC;\n",
              "      --hover-bg-color: #434B5C;\n",
              "      --hover-fill-color: #FFFFFF;\n",
              "      --disabled-bg-color: #3B4455;\n",
              "      --disabled-fill-color: #666;\n",
              "  }\n",
              "\n",
              "  .colab-df-quickchart {\n",
              "    background-color: var(--bg-color);\n",
              "    border: none;\n",
              "    border-radius: 50%;\n",
              "    cursor: pointer;\n",
              "    display: none;\n",
              "    fill: var(--fill-color);\n",
              "    height: 32px;\n",
              "    padding: 0;\n",
              "    width: 32px;\n",
              "  }\n",
              "\n",
              "  .colab-df-quickchart:hover {\n",
              "    background-color: var(--hover-bg-color);\n",
              "    box-shadow: 0 1px 2px rgba(60, 64, 67, 0.3), 0 1px 3px 1px rgba(60, 64, 67, 0.15);\n",
              "    fill: var(--button-hover-fill-color);\n",
              "  }\n",
              "\n",
              "  .colab-df-quickchart-complete:disabled,\n",
              "  .colab-df-quickchart-complete:disabled:hover {\n",
              "    background-color: var(--disabled-bg-color);\n",
              "    fill: var(--disabled-fill-color);\n",
              "    box-shadow: none;\n",
              "  }\n",
              "\n",
              "  .colab-df-spinner {\n",
              "    border: 2px solid var(--fill-color);\n",
              "    border-color: transparent;\n",
              "    border-bottom-color: var(--fill-color);\n",
              "    animation:\n",
              "      spin 1s steps(1) infinite;\n",
              "  }\n",
              "\n",
              "  @keyframes spin {\n",
              "    0% {\n",
              "      border-color: transparent;\n",
              "      border-bottom-color: var(--fill-color);\n",
              "      border-left-color: var(--fill-color);\n",
              "    }\n",
              "    20% {\n",
              "      border-color: transparent;\n",
              "      border-left-color: var(--fill-color);\n",
              "      border-top-color: var(--fill-color);\n",
              "    }\n",
              "    30% {\n",
              "      border-color: transparent;\n",
              "      border-left-color: var(--fill-color);\n",
              "      border-top-color: var(--fill-color);\n",
              "      border-right-color: var(--fill-color);\n",
              "    }\n",
              "    40% {\n",
              "      border-color: transparent;\n",
              "      border-right-color: var(--fill-color);\n",
              "      border-top-color: var(--fill-color);\n",
              "    }\n",
              "    60% {\n",
              "      border-color: transparent;\n",
              "      border-right-color: var(--fill-color);\n",
              "    }\n",
              "    80% {\n",
              "      border-color: transparent;\n",
              "      border-right-color: var(--fill-color);\n",
              "      border-bottom-color: var(--fill-color);\n",
              "    }\n",
              "    90% {\n",
              "      border-color: transparent;\n",
              "      border-bottom-color: var(--fill-color);\n",
              "    }\n",
              "  }\n",
              "</style>\n",
              "\n",
              "  <script>\n",
              "    async function quickchart(key) {\n",
              "      const quickchartButtonEl =\n",
              "        document.querySelector('#' + key + ' button');\n",
              "      quickchartButtonEl.disabled = true;  // To prevent multiple clicks.\n",
              "      quickchartButtonEl.classList.add('colab-df-spinner');\n",
              "      try {\n",
              "        const charts = await google.colab.kernel.invokeFunction(\n",
              "            'suggestCharts', [key], {});\n",
              "      } catch (error) {\n",
              "        console.error('Error during call to suggestCharts:', error);\n",
              "      }\n",
              "      quickchartButtonEl.classList.remove('colab-df-spinner');\n",
              "      quickchartButtonEl.classList.add('colab-df-quickchart-complete');\n",
              "    }\n",
              "    (() => {\n",
              "      let quickchartButtonEl =\n",
              "        document.querySelector('#df-6943085f-4c1d-496a-86d7-a5fcdc642917 button');\n",
              "      quickchartButtonEl.style.display =\n",
              "        google.colab.kernel.accessAllowed ? 'block' : 'none';\n",
              "    })();\n",
              "  </script>\n",
              "</div>\n",
              "\n",
              "    </div>\n",
              "  </div>\n"
            ],
            "application/vnd.google.colaboratory.intrinsic+json": {
              "type": "dataframe",
              "variable_name": "data"
            }
          },
          "metadata": {},
          "execution_count": 865
        }
      ],
      "source": [
        "data.head()"
      ]
    },
    {
      "cell_type": "code",
      "execution_count": 866,
      "metadata": {
        "colab": {
          "base_uri": "https://localhost:8080/"
        },
        "id": "D7wrNCRVbk-s",
        "outputId": "4f179c7c-966e-4c3e-b082-89319a512ef4"
      },
      "outputs": [
        {
          "output_type": "execute_result",
          "data": {
            "text/plain": [
              "battery_power    0\n",
              "blue             0\n",
              "clock_speed      0\n",
              "dual_sim         0\n",
              "fc               0\n",
              "four_g           0\n",
              "int_memory       0\n",
              "m_dep            0\n",
              "mobile_wt        0\n",
              "n_cores          0\n",
              "pc               0\n",
              "px_height        0\n",
              "px_width         0\n",
              "ram              0\n",
              "sc_h             0\n",
              "sc_w             0\n",
              "talk_time        0\n",
              "three_g          0\n",
              "touch_screen     0\n",
              "wifi             0\n",
              "price_range      0\n",
              "dtype: int64"
            ]
          },
          "metadata": {},
          "execution_count": 866
        }
      ],
      "source": [
        "data.isnull().sum()"
      ]
    },
    {
      "cell_type": "markdown",
      "metadata": {
        "id": "0joRTvZDbqSn"
      },
      "source": [
        "NO Missing values"
      ]
    },
    {
      "cell_type": "markdown",
      "source": [
        "# Part 4: Data Visualizaiton"
      ],
      "metadata": {
        "id": "4O0nQfXue8Bw"
      }
    },
    {
      "cell_type": "code",
      "source": [
        "data.columns"
      ],
      "metadata": {
        "colab": {
          "base_uri": "https://localhost:8080/"
        },
        "id": "KcJC4RhefLff",
        "outputId": "85705b72-359d-419a-f561-4292e81f076d"
      },
      "execution_count": 867,
      "outputs": [
        {
          "output_type": "execute_result",
          "data": {
            "text/plain": [
              "Index(['battery_power', 'blue', 'clock_speed', 'dual_sim', 'fc', 'four_g',\n",
              "       'int_memory', 'm_dep', 'mobile_wt', 'n_cores', 'pc', 'px_height',\n",
              "       'px_width', 'ram', 'sc_h', 'sc_w', 'talk_time', 'three_g',\n",
              "       'touch_screen', 'wifi', 'price_range'],\n",
              "      dtype='object')"
            ]
          },
          "metadata": {},
          "execution_count": 867
        }
      ]
    },
    {
      "cell_type": "markdown",
      "source": [
        "## bar Chart : wifi"
      ],
      "metadata": {
        "id": "S3pCK_JclmeQ"
      }
    },
    {
      "cell_type": "code",
      "source": [
        "import matplotlib.pyplot as plt\n",
        "\n",
        "# Calculate the count of each wifi category\n",
        "wifi_counts = data['wifi'].value_counts()\n",
        "\n",
        "# Create bar plot\n",
        "plt.bar(wifi_counts.index, wifi_counts.values)\n",
        "\n",
        "# Add labels and title\n",
        "plt.xlabel('wifi')\n",
        "plt.ylabel('Count')\n",
        "plt.title('Number of phones that can connect Wifi')\n",
        "\n",
        "# Add count values on top of each bar\n",
        "for i, count in enumerate(wifi_counts.values):\n",
        "    plt.text(i, count, str(count), ha='center', va='bottom')\n",
        "\n",
        "# Display the plot\n",
        "plt.show()"
      ],
      "metadata": {
        "colab": {
          "base_uri": "https://localhost:8080/",
          "height": 0
        },
        "id": "lIXlkq6liARW",
        "outputId": "884c92fa-c5fd-43b4-a87d-ae6a8a0b64c6"
      },
      "execution_count": 868,
      "outputs": [
        {
          "output_type": "display_data",
          "data": {
            "text/plain": [
              "<Figure size 640x480 with 1 Axes>"
            ],
            "image/png": "[encoded data removed]"
          },
          "metadata": {}
        }
      ]
    },
    {
      "cell_type": "code",
      "source": [
        "!pip install squarify"
      ],
      "metadata": {
        "colab": {
          "base_uri": "https://localhost:8080/"
        },
        "id": "yBOUy68GlUcJ",
        "outputId": "a550b0be-214c-4b74-899a-9e58d5572701"
      },
      "execution_count": 869,
      "outputs": [
        {
          "output_type": "stream",
          "name": "stdout",
          "text": [
            "Requirement already satisfied: squarify in /usr/local/lib/python3.10/dist-packages (0.4.3)\n"
          ]
        }
      ]
    },
    {
      "cell_type": "markdown",
      "source": [
        "## Pie Chart: number of mobile that have a 4g+"
      ],
      "metadata": {
        "id": "sKLlA2D7lmhM"
      }
    },
    {
      "cell_type": "code",
      "source": [
        "import matplotlib.pyplot as plt\n",
        "\n",
        "# Assuming 'data' is your dataset with the variable containing 0s and 1s\n",
        "# Count the occurrences of each value\n",
        "value_counts = data['four_g'].value_counts()\n",
        "\n",
        "# Create a pie chart\n",
        "plt.pie(value_counts.values, labels=value_counts.index, autopct='%1.1f%%')\n",
        "\n",
        "# Add title\n",
        "plt.title('how many phones can accept 4g')\n",
        "\n",
        "# Display the plot\n",
        "plt.show()"
      ],
      "metadata": {
        "colab": {
          "base_uri": "https://localhost:8080/",
          "height": 0
        },
        "id": "BzKT5EQilwN4",
        "outputId": "11c2285d-1689-4bb8-83cf-d9467481b693"
      },
      "execution_count": 870,
      "outputs": [
        {
          "output_type": "display_data",
          "data": {
            "text/plain": [
              "<Figure size 640x480 with 1 Axes>"
            ],
            "image/png": "[encoded data removed]"
          },
          "metadata": {}
        }
      ]
    },
    {
      "cell_type": "code",
      "source": [
        "import matplotlib.pyplot as plt\n",
        "\n",
        "# Assuming 'data' is your dataset with the variable containing 0s and 1s\n",
        "# Count the occurrences of each value\n",
        "value_counts = data['price_range'].value_counts()\n",
        "\n",
        "# Create a pie chart\n",
        "plt.pie(value_counts.values, labels=value_counts.index, autopct='%1.1f%%')\n",
        "\n",
        "# Add title\n",
        "plt.title('Price Range Values')\n",
        "\n",
        "# Display the plot\n",
        "plt.show()"
      ],
      "metadata": {
        "colab": {
          "base_uri": "https://localhost:8080/",
          "height": 0
        },
        "id": "Dc9ohYemqis6",
        "outputId": "2c886da7-2f37-4c29-f900-a060eb5c538b"
      },
      "execution_count": 871,
      "outputs": [
        {
          "output_type": "display_data",
          "data": {
            "text/plain": [
              "<Figure size 640x480 with 1 Axes>"
            ],
            "image/png": "[encoded data removed]"
          },
          "metadata": {}
        }
      ]
    },
    {
      "cell_type": "code",
      "source": [
        "import matplotlib.pyplot as plt\n",
        "\n",
        "# Assuming 'data' is your dataset with the variable containing 0s and 1s\n",
        "# Count the occurrences of each value\n",
        "value_counts = data['blue'].value_counts()\n",
        "\n",
        "colors = ['skyblue', 'lightcoral']\n",
        "\n",
        "\n",
        "# Create a donut chart\n",
        "plt.pie(value_counts.values, labels=value_counts.index, autopct='%1.1f%%', wedgeprops={'width': 0.5}, colors = colors)\n",
        "\n",
        "# Add title\n",
        "plt.title('Is the Phone accepts the Bluetooth')\n",
        "\n",
        "# Display the plot\n",
        "plt.show()"
      ],
      "metadata": {
        "colab": {
          "base_uri": "https://localhost:8080/",
          "height": 0
        },
        "id": "P2aW6waDmK7Q",
        "outputId": "8e33ea68-ac03-457b-a2a2-217c606712e9"
      },
      "execution_count": 872,
      "outputs": [
        {
          "output_type": "display_data",
          "data": {
            "text/plain": [
              "<Figure size 640x480 with 1 Axes>"
            ],
            "image/png": "[encoded data removed]"
          },
          "metadata": {}
        }
      ]
    },
    {
      "cell_type": "markdown",
      "source": [
        "##"
      ],
      "metadata": {
        "id": "XxjmFiWNlmov"
      }
    },
    {
      "cell_type": "code",
      "source": [],
      "metadata": {
        "id": "aF2ZBMiJiAW9"
      },
      "execution_count": 872,
      "outputs": []
    },
    {
      "cell_type": "code",
      "source": [
        "import matplotlib.pyplot as plt\n",
        "\n",
        "# Assuming 'data' is your dataset with the variable containing 0s and 1s\n",
        "# Count the occurrences of each value\n",
        "value_counts = data['price_range'].value_counts()\n",
        "\n",
        "# Create a pie chart\n",
        "plt.pie(value_counts.values, labels=value_counts.index, autopct='%1.1f%%')\n",
        "\n",
        "# Add title\n",
        "plt.title('Pie Chart')\n",
        "\n",
        "# Display the plot\n",
        "plt.show()"
      ],
      "metadata": {
        "colab": {
          "base_uri": "https://localhost:8080/",
          "height": 0
        },
        "id": "P14yjToFo6Yr",
        "outputId": "dcdf1078-0eb3-4adb-b68e-b352d391e42d"
      },
      "execution_count": 873,
      "outputs": [
        {
          "output_type": "display_data",
          "data": {
            "text/plain": [
              "<Figure size 640x480 with 1 Axes>"
            ],
            "image/png": "[encoded data removed]"
          },
          "metadata": {}
        }
      ]
    },
    {
      "cell_type": "code",
      "source": [
        "data.head()"
      ],
      "metadata": {
        "colab": {
          "base_uri": "https://localhost:8080/",
          "height": 0
        },
        "id": "-kmNhmBe29Y7",
        "outputId": "54f1d4b8-a6d2-4c14-bd8a-8c7f2bda8995"
      },
      "execution_count": 874,
      "outputs": [
        {
          "output_type": "execute_result",
          "data": {
            "text/plain": [
              "   battery_power  blue  clock_speed  dual_sim  fc  four_g  int_memory  m_dep  \\\n",
              "0            842     0          2.2         0   1       0           7    0.6   \n",
              "1           1021     1          0.5         1   0       1          53    0.7   \n",
              "2            563     1          0.5         1   2       1          41    0.9   \n",
              "3            615     1          2.5         0   0       0          10    0.8   \n",
              "4           1821     1          1.2         0  13       1          44    0.6   \n",
              "\n",
              "   mobile_wt  n_cores  ...  px_height  px_width   ram  sc_h  sc_w  talk_time  \\\n",
              "0        188        2  ...         20       756  2549     9     7         19   \n",
              "1        136        3  ...        905      1988  2631    17     3          7   \n",
              "2        145        5  ...       1263      1716  2603    11     2          9   \n",
              "3        131        6  ...       1216      1786  2769    16     8         11   \n",
              "4        141        2  ...       1208      1212  1411     8     2         15   \n",
              "\n",
              "   three_g  touch_screen  wifi  price_range  \n",
              "0        0             0     1            1  \n",
              "1        1             1     0            2  \n",
              "2        1             1     0            2  \n",
              "3        1             0     0            2  \n",
              "4        1             1     0            1  \n",
              "\n",
              "[5 rows x 21 columns]"
            ],
            "text/html": [
              "\n",
              "  <div id=\"df-32c5331d-2244-4d6b-8508-7568a91f7164\" class=\"colab-df-container\">\n",
              "    <div>\n",
              "<style scoped>\n",
              "    .dataframe tbody tr th:only-of-type {\n",
              "        vertical-align: middle;\n",
              "    }\n",
              "\n",
              "    .dataframe tbody tr th {\n",
              "        vertical-align: top;\n",
              "    }\n",
              "\n",
              "    .dataframe thead th {\n",
              "        text-align: right;\n",
              "    }\n",
              "</style>\n",
              "<table border=\"1\" class=\"dataframe\">\n",
              "  <thead>\n",
              "    <tr style=\"text-align: right;\">\n",
              "      <th></th>\n",
              "      <th>battery_power</th>\n",
              "      <th>blue</th>\n",
              "      <th>clock_speed</th>\n",
              "      <th>dual_sim</th>\n",
              "      <th>fc</th>\n",
              "      <th>four_g</th>\n",
              "      <th>int_memory</th>\n",
              "      <th>m_dep</th>\n",
              "      <th>mobile_wt</th>\n",
              "      <th>n_cores</th>\n",
              "      <th>...</th>\n",
              "      <th>px_height</th>\n",
              "      <th>px_width</th>\n",
              "      <th>ram</th>\n",
              "      <th>sc_h</th>\n",
              "      <th>sc_w</th>\n",
              "      <th>talk_time</th>\n",
              "      <th>three_g</th>\n",
              "      <th>touch_screen</th>\n",
              "      <th>wifi</th>\n",
              "      <th>price_range</th>\n",
              "    </tr>\n",
              "  </thead>\n",
              "  <tbody>\n",
              "    <tr>\n",
              "      <th>0</th>\n",
              "      <td>842</td>\n",
              "      <td>0</td>\n",
              "      <td>2.2</td>\n",
              "      <td>0</td>\n",
              "      <td>1</td>\n",
              "      <td>0</td>\n",
              "      <td>7</td>\n",
              "      <td>0.6</td>\n",
              "      <td>188</td>\n",
              "      <td>2</td>\n",
              "      <td>...</td>\n",
              "      <td>20</td>\n",
              "      <td>756</td>\n",
              "      <td>2549</td>\n",
              "      <td>9</td>\n",
              "      <td>7</td>\n",
              "      <td>19</td>\n",
              "      <td>0</td>\n",
              "      <td>0</td>\n",
              "      <td>1</td>\n",
              "      <td>1</td>\n",
              "    </tr>\n",
              "    <tr>\n",
              "      <th>1</th>\n",
              "      <td>1021</td>\n",
              "      <td>1</td>\n",
              "      <td>0.5</td>\n",
              "      <td>1</td>\n",
              "      <td>0</td>\n",
              "      <td>1</td>\n",
              "      <td>53</td>\n",
              "      <td>0.7</td>\n",
              "      <td>136</td>\n",
              "      <td>3</td>\n",
              "      <td>...</td>\n",
              "      <td>905</td>\n",
              "      <td>1988</td>\n",
              "      <td>2631</td>\n",
              "      <td>17</td>\n",
              "      <td>3</td>\n",
              "      <td>7</td>\n",
              "      <td>1</td>\n",
              "      <td>1</td>\n",
              "      <td>0</td>\n",
              "      <td>2</td>\n",
              "    </tr>\n",
              "    <tr>\n",
              "      <th>2</th>\n",
              "      <td>563</td>\n",
              "      <td>1</td>\n",
              "      <td>0.5</td>\n",
              "      <td>1</td>\n",
              "      <td>2</td>\n",
              "      <td>1</td>\n",
              "      <td>41</td>\n",
              "      <td>0.9</td>\n",
              "      <td>145</td>\n",
              "      <td>5</td>\n",
              "      <td>...</td>\n",
              "      <td>1263</td>\n",
              "      <td>1716</td>\n",
              "      <td>2603</td>\n",
              "      <td>11</td>\n",
              "      <td>2</td>\n",
              "      <td>9</td>\n",
              "      <td>1</td>\n",
              "      <td>1</td>\n",
              "      <td>0</td>\n",
              "      <td>2</td>\n",
              "    </tr>\n",
              "    <tr>\n",
              "      <th>3</th>\n",
              "      <td>615</td>\n",
              "      <td>1</td>\n",
              "      <td>2.5</td>\n",
              "      <td>0</td>\n",
              "      <td>0</td>\n",
              "      <td>0</td>\n",
              "      <td>10</td>\n",
              "      <td>0.8</td>\n",
              "      <td>131</td>\n",
              "      <td>6</td>\n",
              "      <td>...</td>\n",
              "      <td>1216</td>\n",
              "      <td>1786</td>\n",
              "      <td>2769</td>\n",
              "      <td>16</td>\n",
              "      <td>8</td>\n",
              "      <td>11</td>\n",
              "      <td>1</td>\n",
              "      <td>0</td>\n",
              "      <td>0</td>\n",
              "      <td>2</td>\n",
              "    </tr>\n",
              "    <tr>\n",
              "      <th>4</th>\n",
              "      <td>1821</td>\n",
              "      <td>1</td>\n",
              "      <td>1.2</td>\n",
              "      <td>0</td>\n",
              "      <td>13</td>\n",
              "      <td>1</td>\n",
              "      <td>44</td>\n",
              "      <td>0.6</td>\n",
              "      <td>141</td>\n",
              "      <td>2</td>\n",
              "      <td>...</td>\n",
              "      <td>1208</td>\n",
              "      <td>1212</td>\n",
              "      <td>1411</td>\n",
              "      <td>8</td>\n",
              "      <td>2</td>\n",
              "      <td>15</td>\n",
              "      <td>1</td>\n",
              "      <td>1</td>\n",
              "      <td>0</td>\n",
              "      <td>1</td>\n",
              "    </tr>\n",
              "  </tbody>\n",
              "</table>\n",
              "<p>5 rows × 21 columns</p>\n",
              "</div>\n",
              "    <div class=\"colab-df-buttons\">\n",
              "\n",
              "  <div class=\"colab-df-container\">\n",
              "    <button class=\"colab-df-convert\" onclick=\"convertToInteractive('df-32c5331d-2244-4d6b-8508-7568a91f7164')\"\n",
              "            title=\"Convert this dataframe to an interactive table.\"\n",
              "            style=\"display:none;\">\n",
              "\n",
              "  <svg xmlns=\"http://www.w3.org/2000/svg\" height=\"24px\" viewBox=\"0 -960 960 960\">\n",
              "    <path d=\"M120-120v-720h720v720H120Zm60-500h600v-160H180v160Zm220 220h160v-160H400v160Zm0 220h160v-160H400v160ZM180-400h160v-160H180v160Zm440 0h160v-160H620v160ZM180-180h160v-160H180v160Zm440 0h160v-160H620v160Z\"/>\n",
              "  </svg>\n",
              "    </button>\n",
              "\n",
              "  <style>\n",
              "    .colab-df-container {\n",
              "      display:flex;\n",
              "      gap: 12px;\n",
              "    }\n",
              "\n",
              "    .colab-df-convert {\n",
              "      background-color: #E8F0FE;\n",
              "      border: none;\n",
              "      border-radius: 50%;\n",
              "      cursor: pointer;\n",
              "      display: none;\n",
              "      fill: #1967D2;\n",
              "      height: 32px;\n",
              "      padding: 0 0 0 0;\n",
              "      width: 32px;\n",
              "    }\n",
              "\n",
              "    .colab-df-convert:hover {\n",
              "      background-color: #E2EBFA;\n",
              "      box-shadow: 0px 1px 2px rgba(60, 64, 67, 0.3), 0px 1px 3px 1px rgba(60, 64, 67, 0.15);\n",
              "      fill: #174EA6;\n",
              "    }\n",
              "\n",
              "    .colab-df-buttons div {\n",
              "      margin-bottom: 4px;\n",
              "    }\n",
              "\n",
              "    [theme=dark] .colab-df-convert {\n",
              "      background-color: #3B4455;\n",
              "      fill: #D2E3FC;\n",
              "    }\n",
              "\n",
              "    [theme=dark] .colab-df-convert:hover {\n",
              "      background-color: #434B5C;\n",
              "      box-shadow: 0px 1px 3px 1px rgba(0, 0, 0, 0.15);\n",
              "      filter: drop-shadow(0px 1px 2px rgba(0, 0, 0, 0.3));\n",
              "      fill: #FFFFFF;\n",
              "    }\n",
              "  </style>\n",
              "\n",
              "    <script>\n",
              "      const buttonEl =\n",
              "        document.querySelector('#df-32c5331d-2244-4d6b-8508-7568a91f7164 button.colab-df-convert');\n",
              "      buttonEl.style.display =\n",
              "        google.colab.kernel.accessAllowed ? 'block' : 'none';\n",
              "\n",
              "      async function convertToInteractive(key) {\n",
              "        const element = document.querySelector('#df-32c5331d-2244-4d6b-8508-7568a91f7164');\n",
              "        const dataTable =\n",
              "          await google.colab.kernel.invokeFunction('convertToInteractive',\n",
              "                                                    [key], {});\n",
              "        if (!dataTable) return;\n",
              "\n",
              "        const docLinkHtml = 'Like what you see? Visit the ' +\n",
              "          '<a target=\"_blank\" href=https://colab.research.google.com/notebooks/data_table.ipynb>data table notebook</a>'\n",
              "          + ' to learn more about interactive tables.';\n",
              "        element.innerHTML = '';\n",
              "        dataTable['output_type'] = 'display_data';\n",
              "        await google.colab.output.renderOutput(dataTable, element);\n",
              "        const docLink = document.createElement('div');\n",
              "        docLink.innerHTML = docLinkHtml;\n",
              "        element.appendChild(docLink);\n",
              "      }\n",
              "    </script>\n",
              "  </div>\n",
              "\n",
              "\n",
              "<div id=\"df-84a957e5-4628-4c7f-877a-8caf82292cc8\">\n",
              "  <button class=\"colab-df-quickchart\" onclick=\"quickchart('df-84a957e5-4628-4c7f-877a-8caf82292cc8')\"\n",
              "            title=\"Suggest charts\"\n",
              "            style=\"display:none;\">\n",
              "\n",
              "<svg xmlns=\"http://www.w3.org/2000/svg\" height=\"24px\"viewBox=\"0 0 24 24\"\n",
              "     width=\"24px\">\n",
              "    <g>\n",
              "        <path d=\"M19 3H5c-1.1 0-2 .9-2 2v14c0 1.1.9 2 2 2h14c1.1 0 2-.9 2-2V5c0-1.1-.9-2-2-2zM9 17H7v-7h2v7zm4 0h-2V7h2v10zm4 0h-2v-4h2v4z\"/>\n",
              "    </g>\n",
              "</svg>\n",
              "  </button>\n",
              "\n",
              "<style>\n",
              "  .colab-df-quickchart {\n",
              "      --bg-color: #E8F0FE;\n",
              "      --fill-color: #1967D2;\n",
              "      --hover-bg-color: #E2EBFA;\n",
              "      --hover-fill-color: #174EA6;\n",
              "      --disabled-fill-color: #AAA;\n",
              "      --disabled-bg-color: #DDD;\n",
              "  }\n",
              "\n",
              "  [theme=dark] .colab-df-quickchart {\n",
              "      --bg-color: #3B4455;\n",
              "      --fill-color: #D2E3FC;\n",
              "      --hover-bg-color: #434B5C;\n",
              "      --hover-fill-color: #FFFFFF;\n",
              "      --disabled-bg-color: #3B4455;\n",
              "      --disabled-fill-color: #666;\n",
              "  }\n",
              "\n",
              "  .colab-df-quickchart {\n",
              "    background-color: var(--bg-color);\n",
              "    border: none;\n",
              "    border-radius: 50%;\n",
              "    cursor: pointer;\n",
              "    display: none;\n",
              "    fill: var(--fill-color);\n",
              "    height: 32px;\n",
              "    padding: 0;\n",
              "    width: 32px;\n",
              "  }\n",
              "\n",
              "  .colab-df-quickchart:hover {\n",
              "    background-color: var(--hover-bg-color);\n",
              "    box-shadow: 0 1px 2px rgba(60, 64, 67, 0.3), 0 1px 3px 1px rgba(60, 64, 67, 0.15);\n",
              "    fill: var(--button-hover-fill-color);\n",
              "  }\n",
              "\n",
              "  .colab-df-quickchart-complete:disabled,\n",
              "  .colab-df-quickchart-complete:disabled:hover {\n",
              "    background-color: var(--disabled-bg-color);\n",
              "    fill: var(--disabled-fill-color);\n",
              "    box-shadow: none;\n",
              "  }\n",
              "\n",
              "  .colab-df-spinner {\n",
              "    border: 2px solid var(--fill-color);\n",
              "    border-color: transparent;\n",
              "    border-bottom-color: var(--fill-color);\n",
              "    animation:\n",
              "      spin 1s steps(1) infinite;\n",
              "  }\n",
              "\n",
              "  @keyframes spin {\n",
              "    0% {\n",
              "      border-color: transparent;\n",
              "      border-bottom-color: var(--fill-color);\n",
              "      border-left-color: var(--fill-color);\n",
              "    }\n",
              "    20% {\n",
              "      border-color: transparent;\n",
              "      border-left-color: var(--fill-color);\n",
              "      border-top-color: var(--fill-color);\n",
              "    }\n",
              "    30% {\n",
              "      border-color: transparent;\n",
              "      border-left-color: var(--fill-color);\n",
              "      border-top-color: var(--fill-color);\n",
              "      border-right-color: var(--fill-color);\n",
              "    }\n",
              "    40% {\n",
              "      border-color: transparent;\n",
              "      border-right-color: var(--fill-color);\n",
              "      border-top-color: var(--fill-color);\n",
              "    }\n",
              "    60% {\n",
              "      border-color: transparent;\n",
              "      border-right-color: var(--fill-color);\n",
              "    }\n",
              "    80% {\n",
              "      border-color: transparent;\n",
              "      border-right-color: var(--fill-color);\n",
              "      border-bottom-color: var(--fill-color);\n",
              "    }\n",
              "    90% {\n",
              "      border-color: transparent;\n",
              "      border-bottom-color: var(--fill-color);\n",
              "    }\n",
              "  }\n",
              "</style>\n",
              "\n",
              "  <script>\n",
              "    async function quickchart(key) {\n",
              "      const quickchartButtonEl =\n",
              "        document.querySelector('#' + key + ' button');\n",
              "      quickchartButtonEl.disabled = true;  // To prevent multiple clicks.\n",
              "      quickchartButtonEl.classList.add('colab-df-spinner');\n",
              "      try {\n",
              "        const charts = await google.colab.kernel.invokeFunction(\n",
              "            'suggestCharts', [key], {});\n",
              "      } catch (error) {\n",
              "        console.error('Error during call to suggestCharts:', error);\n",
              "      }\n",
              "      quickchartButtonEl.classList.remove('colab-df-spinner');\n",
              "      quickchartButtonEl.classList.add('colab-df-quickchart-complete');\n",
              "    }\n",
              "    (() => {\n",
              "      let quickchartButtonEl =\n",
              "        document.querySelector('#df-84a957e5-4628-4c7f-877a-8caf82292cc8 button');\n",
              "      quickchartButtonEl.style.display =\n",
              "        google.colab.kernel.accessAllowed ? 'block' : 'none';\n",
              "    })();\n",
              "  </script>\n",
              "</div>\n",
              "\n",
              "    </div>\n",
              "  </div>\n"
            ],
            "application/vnd.google.colaboratory.intrinsic+json": {
              "type": "dataframe",
              "variable_name": "data"
            }
          },
          "metadata": {},
          "execution_count": 874
        }
      ]
    },
    {
      "cell_type": "code",
      "source": [
        "data.n_cores.value_counts()"
      ],
      "metadata": {
        "colab": {
          "base_uri": "https://localhost:8080/"
        },
        "id": "eY5ThUe78g_u",
        "outputId": "0a6c895f-4ff9-4cb6-cd4f-143a85fa6929"
      },
      "execution_count": 875,
      "outputs": [
        {
          "output_type": "execute_result",
          "data": {
            "text/plain": [
              "4    274\n",
              "7    259\n",
              "8    256\n",
              "2    247\n",
              "3    246\n",
              "5    246\n",
              "1    242\n",
              "6    230\n",
              "Name: n_cores, dtype: int64"
            ]
          },
          "metadata": {},
          "execution_count": 875
        }
      ]
    },
    {
      "cell_type": "code",
      "source": [
        "data.ram.value_counts()"
      ],
      "metadata": {
        "colab": {
          "base_uri": "https://localhost:8080/"
        },
        "id": "htm_aISf8leX",
        "outputId": "28eda293-9838-4b03-836f-db4c13c4745f"
      },
      "execution_count": 876,
      "outputs": [
        {
          "output_type": "execute_result",
          "data": {
            "text/plain": [
              "1464    4\n",
              "3142    4\n",
              "2610    4\n",
              "2227    4\n",
              "1229    4\n",
              "       ..\n",
              "2312    1\n",
              "2167    1\n",
              "3508    1\n",
              "297     1\n",
              "3919    1\n",
              "Name: ram, Length: 1562, dtype: int64"
            ]
          },
          "metadata": {},
          "execution_count": 876
        }
      ]
    },
    {
      "cell_type": "markdown",
      "source": [
        "## Bar chart : number of phones that have a 3g+"
      ],
      "metadata": {
        "id": "c3yxr6MI3ZkZ"
      }
    },
    {
      "cell_type": "code",
      "source": [
        "import matplotlib.pyplot as plt\n",
        "\n",
        "# Calculate the count of each price range category\n",
        "three_g_counts = data['three_g'].value_counts()\n",
        "\n",
        "# Create bar plot\n",
        "plt.bar(three_g_counts.index, three_g_counts.values)\n",
        "\n",
        "# Add labels and title\n",
        "plt.xlabel('three_g')\n",
        "plt.ylabel('Count')\n",
        "plt.title('Accepts 3g+')\n",
        "# i = 0\n",
        "# # Add count values on top of each bar\n",
        "# for i, count in enumerate(three_g_counts.values):\n",
        "#     plt.text(i, count, str(count), ha='center', va='bottom')\n",
        "\n",
        "# print(i)\n",
        "# print(count)\n",
        "# print(str(count))\n",
        "# Display the plot\n",
        "plt.show()\n"
      ],
      "metadata": {
        "colab": {
          "base_uri": "https://localhost:8080/",
          "height": 0
        },
        "id": "9Ieg5QZ-iAUH",
        "outputId": "47aa7def-dfb3-44d8-b7d4-ee70bc57f38a"
      },
      "execution_count": 877,
      "outputs": [
        {
          "output_type": "display_data",
          "data": {
            "text/plain": [
              "<Figure size 640x480 with 1 Axes>"
            ],
            "image/png": "[encoded data removed]"
          },
          "metadata": {}
        }
      ]
    },
    {
      "cell_type": "code",
      "source": [
        "import matplotlib.pyplot as plt\n",
        "\n",
        "# Calculate the count of each category\n",
        "three_g_counts = data['three_g'].value_counts()\n",
        "\n",
        "# Create bar plot\n",
        "plt.bar(three_g_counts.index, three_g_counts.values)\n",
        "\n",
        "# Add labels and title\n",
        "plt.xlabel('three_g')\n",
        "plt.ylabel('Count')\n",
        "plt.title('Accepts 3G+')\n",
        "\n",
        "# Add count values on top or below each bar\n",
        "for i, count in enumerate(three_g_counts.values):\n",
        "    if i == 0:\n",
        "        plt.text(i, count, str(count), ha='center', va='top')  # Display count below the first bar\n",
        "    else:\n",
        "        plt.text(i, count, str(count), ha='center', va='bottom')  # Display count above other bars\n",
        "\n",
        "# Display the plot\n",
        "plt.show()"
      ],
      "metadata": {
        "colab": {
          "base_uri": "https://localhost:8080/",
          "height": 0
        },
        "id": "BYizXrV2iAZi",
        "outputId": "e06b36cc-2e6a-40a4-88a8-723afb406500"
      },
      "execution_count": 878,
      "outputs": [
        {
          "output_type": "display_data",
          "data": {
            "text/plain": [
              "<Figure size 640x480 with 1 Axes>"
            ],
            "image/png": "[encoded data removed]"
          },
          "metadata": {}
        }
      ]
    },
    {
      "cell_type": "markdown",
      "source": [
        "## Comparing two variables"
      ],
      "metadata": {
        "id": "gQHOGsBdsswe"
      }
    },
    {
      "cell_type": "markdown",
      "source": [
        "### Bar Plot: 4g and wifi"
      ],
      "metadata": {
        "id": "XBuuAOttsszU"
      }
    },
    {
      "cell_type": "code",
      "source": [
        "import numpy as np\n",
        "import matplotlib.pyplot as plt\n",
        "\n",
        "# Assuming 'data' is your dataset with two columns: 'blue' and 'dual_sim'\n",
        "# Count the occurrences of each category in both columns\n",
        "value_counts1 = data['four_g'].value_counts()\n",
        "value_counts2 = data['wifi'].value_counts()\n",
        "\n",
        "# Set the width of the bars\n",
        "bar_width = 0.35\n",
        "\n",
        "# Set the positions of the bars on the x-axis\n",
        "x1 = np.arange(len(value_counts1))\n",
        "x2 = [x + bar_width for x in x1]\n",
        "\n",
        "# Create the side-by-side bar plots\n",
        "plt.bar(x1, value_counts1.values, width=bar_width, label='Four g')\n",
        "plt.bar(x2, value_counts2.values, width=bar_width, label='Wifi')\n",
        "\n",
        "# Add labels and title\n",
        "plt.xlabel('Category')\n",
        "plt.ylabel('Count')\n",
        "plt.title('Comparison of four 4g and wifi')\n",
        "plt.xticks([r + bar_width/2 for r in range(len(value_counts1))], value_counts1.index)\n",
        "\n",
        "# Display the legend\n",
        "plt.legend()\n",
        "\n",
        "# Display the plot\n",
        "plt.show()"
      ],
      "metadata": {
        "colab": {
          "base_uri": "https://localhost:8080/",
          "height": 0
        },
        "id": "PJzzCWSi69bE",
        "outputId": "0cf0e1ca-10d6-4a43-e9e7-2781e5f82235"
      },
      "execution_count": 879,
      "outputs": [
        {
          "output_type": "display_data",
          "data": {
            "text/plain": [
              "<Figure size 640x480 with 1 Axes>"
            ],
            "image/png": "[encoded data removed]"
          },
          "metadata": {}
        }
      ]
    },
    {
      "cell_type": "markdown",
      "source": [
        "### Bar plot: 3g and 4g"
      ],
      "metadata": {
        "id": "hGgwkO_h7o7M"
      }
    },
    {
      "cell_type": "code",
      "source": [],
      "metadata": {
        "id": "TSha-JT69ZMn"
      },
      "execution_count": 879,
      "outputs": []
    },
    {
      "cell_type": "code",
      "source": [
        "import numpy as np\n",
        "import matplotlib.pyplot as plt\n",
        "\n",
        "# Assuming 'data' is your dataset with two columns: 'blue' and 'dual_sim'\n",
        "# Count the occurrences of each category in both columns\n",
        "value_counts1 = data['four_g'].value_counts()\n",
        "value_counts2 = data['three_g'].value_counts()\n",
        "\n",
        "# Set the width of the bars\n",
        "bar_width = 0.35\n",
        "\n",
        "# Set the positions of the bars on the x-axis\n",
        "x1 = np.arange(len(value_counts1))\n",
        "x2 = [x + bar_width for x in x1]\n",
        "\n",
        "# Create the side-by-side bar plots\n",
        "plt.bar(x1, value_counts1.values, width=bar_width, label='Four g')\n",
        "plt.bar(x2, value_counts2.values, width=bar_width, label='three_g')\n",
        "\n",
        "# Add labels and title\n",
        "plt.xlabel('Category')\n",
        "plt.ylabel('Count')\n",
        "plt.title('Comparison of four 4g and three_g')\n",
        "plt.xticks([r + bar_width/2 for r in range(len(value_counts1))], value_counts1.index)\n",
        "\n",
        "# Display the legend\n",
        "plt.legend()\n",
        "\n",
        "# Display the plot\n",
        "plt.show()"
      ],
      "metadata": {
        "colab": {
          "base_uri": "https://localhost:8080/",
          "height": 0
        },
        "id": "c1LZwEc9iAfR",
        "outputId": "28cd3851-dfb0-4e79-ad35-85be459a030c"
      },
      "execution_count": 880,
      "outputs": [
        {
          "output_type": "display_data",
          "data": {
            "text/plain": [
              "<Figure size 640x480 with 1 Axes>"
            ],
            "image/png": "[encoded data removed]"
          },
          "metadata": {}
        }
      ]
    },
    {
      "cell_type": "code",
      "source": [
        "data.head()"
      ],
      "metadata": {
        "colab": {
          "base_uri": "https://localhost:8080/",
          "height": 0
        },
        "id": "kM7hEpUmiAhv",
        "outputId": "1aa664bf-6e78-4a4c-ad77-ca693dcb3e9f"
      },
      "execution_count": 881,
      "outputs": [
        {
          "output_type": "execute_result",
          "data": {
            "text/plain": [
              "   battery_power  blue  clock_speed  dual_sim  fc  four_g  int_memory  m_dep  \\\n",
              "0            842     0          2.2         0   1       0           7    0.6   \n",
              "1           1021     1          0.5         1   0       1          53    0.7   \n",
              "2            563     1          0.5         1   2       1          41    0.9   \n",
              "3            615     1          2.5         0   0       0          10    0.8   \n",
              "4           1821     1          1.2         0  13       1          44    0.6   \n",
              "\n",
              "   mobile_wt  n_cores  ...  px_height  px_width   ram  sc_h  sc_w  talk_time  \\\n",
              "0        188        2  ...         20       756  2549     9     7         19   \n",
              "1        136        3  ...        905      1988  2631    17     3          7   \n",
              "2        145        5  ...       1263      1716  2603    11     2          9   \n",
              "3        131        6  ...       1216      1786  2769    16     8         11   \n",
              "4        141        2  ...       1208      1212  1411     8     2         15   \n",
              "\n",
              "   three_g  touch_screen  wifi  price_range  \n",
              "0        0             0     1            1  \n",
              "1        1             1     0            2  \n",
              "2        1             1     0            2  \n",
              "3        1             0     0            2  \n",
              "4        1             1     0            1  \n",
              "\n",
              "[5 rows x 21 columns]"
            ],
            "text/html": [
              "\n",
              "  <div id=\"df-e65389b3-c650-4847-823c-46ad7690e95a\" class=\"colab-df-container\">\n",
              "    <div>\n",
              "<style scoped>\n",
              "    .dataframe tbody tr th:only-of-type {\n",
              "        vertical-align: middle;\n",
              "    }\n",
              "\n",
              "    .dataframe tbody tr th {\n",
              "        vertical-align: top;\n",
              "    }\n",
              "\n",
              "    .dataframe thead th {\n",
              "        text-align: right;\n",
              "    }\n",
              "</style>\n",
              "<table border=\"1\" class=\"dataframe\">\n",
              "  <thead>\n",
              "    <tr style=\"text-align: right;\">\n",
              "      <th></th>\n",
              "      <th>battery_power</th>\n",
              "      <th>blue</th>\n",
              "      <th>clock_speed</th>\n",
              "      <th>dual_sim</th>\n",
              "      <th>fc</th>\n",
              "      <th>four_g</th>\n",
              "      <th>int_memory</th>\n",
              "      <th>m_dep</th>\n",
              "      <th>mobile_wt</th>\n",
              "      <th>n_cores</th>\n",
              "      <th>...</th>\n",
              "      <th>px_height</th>\n",
              "      <th>px_width</th>\n",
              "      <th>ram</th>\n",
              "      <th>sc_h</th>\n",
              "      <th>sc_w</th>\n",
              "      <th>talk_time</th>\n",
              "      <th>three_g</th>\n",
              "      <th>touch_screen</th>\n",
              "      <th>wifi</th>\n",
              "      <th>price_range</th>\n",
              "    </tr>\n",
              "  </thead>\n",
              "  <tbody>\n",
              "    <tr>\n",
              "      <th>0</th>\n",
              "      <td>842</td>\n",
              "      <td>0</td>\n",
              "      <td>2.2</td>\n",
              "      <td>0</td>\n",
              "      <td>1</td>\n",
              "      <td>0</td>\n",
              "      <td>7</td>\n",
              "      <td>0.6</td>\n",
              "      <td>188</td>\n",
              "      <td>2</td>\n",
              "      <td>...</td>\n",
              "      <td>20</td>\n",
              "      <td>756</td>\n",
              "      <td>2549</td>\n",
              "      <td>9</td>\n",
              "      <td>7</td>\n",
              "      <td>19</td>\n",
              "      <td>0</td>\n",
              "      <td>0</td>\n",
              "      <td>1</td>\n",
              "      <td>1</td>\n",
              "    </tr>\n",
              "    <tr>\n",
              "      <th>1</th>\n",
              "      <td>1021</td>\n",
              "      <td>1</td>\n",
              "      <td>0.5</td>\n",
              "      <td>1</td>\n",
              "      <td>0</td>\n",
              "      <td>1</td>\n",
              "      <td>53</td>\n",
              "      <td>0.7</td>\n",
              "      <td>136</td>\n",
              "      <td>3</td>\n",
              "      <td>...</td>\n",
              "      <td>905</td>\n",
              "      <td>1988</td>\n",
              "      <td>2631</td>\n",
              "      <td>17</td>\n",
              "      <td>3</td>\n",
              "      <td>7</td>\n",
              "      <td>1</td>\n",
              "      <td>1</td>\n",
              "      <td>0</td>\n",
              "      <td>2</td>\n",
              "    </tr>\n",
              "    <tr>\n",
              "      <th>2</th>\n",
              "      <td>563</td>\n",
              "      <td>1</td>\n",
              "      <td>0.5</td>\n",
              "      <td>1</td>\n",
              "      <td>2</td>\n",
              "      <td>1</td>\n",
              "      <td>41</td>\n",
              "      <td>0.9</td>\n",
              "      <td>145</td>\n",
              "      <td>5</td>\n",
              "      <td>...</td>\n",
              "      <td>1263</td>\n",
              "      <td>1716</td>\n",
              "      <td>2603</td>\n",
              "      <td>11</td>\n",
              "      <td>2</td>\n",
              "      <td>9</td>\n",
              "      <td>1</td>\n",
              "      <td>1</td>\n",
              "      <td>0</td>\n",
              "      <td>2</td>\n",
              "    </tr>\n",
              "    <tr>\n",
              "      <th>3</th>\n",
              "      <td>615</td>\n",
              "      <td>1</td>\n",
              "      <td>2.5</td>\n",
              "      <td>0</td>\n",
              "      <td>0</td>\n",
              "      <td>0</td>\n",
              "      <td>10</td>\n",
              "      <td>0.8</td>\n",
              "      <td>131</td>\n",
              "      <td>6</td>\n",
              "      <td>...</td>\n",
              "      <td>1216</td>\n",
              "      <td>1786</td>\n",
              "      <td>2769</td>\n",
              "      <td>16</td>\n",
              "      <td>8</td>\n",
              "      <td>11</td>\n",
              "      <td>1</td>\n",
              "      <td>0</td>\n",
              "      <td>0</td>\n",
              "      <td>2</td>\n",
              "    </tr>\n",
              "    <tr>\n",
              "      <th>4</th>\n",
              "      <td>1821</td>\n",
              "      <td>1</td>\n",
              "      <td>1.2</td>\n",
              "      <td>0</td>\n",
              "      <td>13</td>\n",
              "      <td>1</td>\n",
              "      <td>44</td>\n",
              "      <td>0.6</td>\n",
              "      <td>141</td>\n",
              "      <td>2</td>\n",
              "      <td>...</td>\n",
              "      <td>1208</td>\n",
              "      <td>1212</td>\n",
              "      <td>1411</td>\n",
              "      <td>8</td>\n",
              "      <td>2</td>\n",
              "      <td>15</td>\n",
              "      <td>1</td>\n",
              "      <td>1</td>\n",
              "      <td>0</td>\n",
              "      <td>1</td>\n",
              "    </tr>\n",
              "  </tbody>\n",
              "</table>\n",
              "<p>5 rows × 21 columns</p>\n",
              "</div>\n",
              "    <div class=\"colab-df-buttons\">\n",
              "\n",
              "  <div class=\"colab-df-container\">\n",
              "    <button class=\"colab-df-convert\" onclick=\"convertToInteractive('df-e65389b3-c650-4847-823c-46ad7690e95a')\"\n",
              "            title=\"Convert this dataframe to an interactive table.\"\n",
              "            style=\"display:none;\">\n",
              "\n",
              "  <svg xmlns=\"http://www.w3.org/2000/svg\" height=\"24px\" viewBox=\"0 -960 960 960\">\n",
              "    <path d=\"M120-120v-720h720v720H120Zm60-500h600v-160H180v160Zm220 220h160v-160H400v160Zm0 220h160v-160H400v160ZM180-400h160v-160H180v160Zm440 0h160v-160H620v160ZM180-180h160v-160H180v160Zm440 0h160v-160H620v160Z\"/>\n",
              "  </svg>\n",
              "    </button>\n",
              "\n",
              "  <style>\n",
              "    .colab-df-container {\n",
              "      display:flex;\n",
              "      gap: 12px;\n",
              "    }\n",
              "\n",
              "    .colab-df-convert {\n",
              "      background-color: #E8F0FE;\n",
              "      border: none;\n",
              "      border-radius: 50%;\n",
              "      cursor: pointer;\n",
              "      display: none;\n",
              "      fill: #1967D2;\n",
              "      height: 32px;\n",
              "      padding: 0 0 0 0;\n",
              "      width: 32px;\n",
              "    }\n",
              "\n",
              "    .colab-df-convert:hover {\n",
              "      background-color: #E2EBFA;\n",
              "      box-shadow: 0px 1px 2px rgba(60, 64, 67, 0.3), 0px 1px 3px 1px rgba(60, 64, 67, 0.15);\n",
              "      fill: #174EA6;\n",
              "    }\n",
              "\n",
              "    .colab-df-buttons div {\n",
              "      margin-bottom: 4px;\n",
              "    }\n",
              "\n",
              "    [theme=dark] .colab-df-convert {\n",
              "      background-color: #3B4455;\n",
              "      fill: #D2E3FC;\n",
              "    }\n",
              "\n",
              "    [theme=dark] .colab-df-convert:hover {\n",
              "      background-color: #434B5C;\n",
              "      box-shadow: 0px 1px 3px 1px rgba(0, 0, 0, 0.15);\n",
              "      filter: drop-shadow(0px 1px 2px rgba(0, 0, 0, 0.3));\n",
              "      fill: #FFFFFF;\n",
              "    }\n",
              "  </style>\n",
              "\n",
              "    <script>\n",
              "      const buttonEl =\n",
              "        document.querySelector('#df-e65389b3-c650-4847-823c-46ad7690e95a button.colab-df-convert');\n",
              "      buttonEl.style.display =\n",
              "        google.colab.kernel.accessAllowed ? 'block' : 'none';\n",
              "\n",
              "      async function convertToInteractive(key) {\n",
              "        const element = document.querySelector('#df-e65389b3-c650-4847-823c-46ad7690e95a');\n",
              "        const dataTable =\n",
              "          await google.colab.kernel.invokeFunction('convertToInteractive',\n",
              "                                                    [key], {});\n",
              "        if (!dataTable) return;\n",
              "\n",
              "        const docLinkHtml = 'Like what you see? Visit the ' +\n",
              "          '<a target=\"_blank\" href=https://colab.research.google.com/notebooks/data_table.ipynb>data table notebook</a>'\n",
              "          + ' to learn more about interactive tables.';\n",
              "        element.innerHTML = '';\n",
              "        dataTable['output_type'] = 'display_data';\n",
              "        await google.colab.output.renderOutput(dataTable, element);\n",
              "        const docLink = document.createElement('div');\n",
              "        docLink.innerHTML = docLinkHtml;\n",
              "        element.appendChild(docLink);\n",
              "      }\n",
              "    </script>\n",
              "  </div>\n",
              "\n",
              "\n",
              "<div id=\"df-c5ff90ec-2d79-4a79-97ab-ddf98effc56b\">\n",
              "  <button class=\"colab-df-quickchart\" onclick=\"quickchart('df-c5ff90ec-2d79-4a79-97ab-ddf98effc56b')\"\n",
              "            title=\"Suggest charts\"\n",
              "            style=\"display:none;\">\n",
              "\n",
              "<svg xmlns=\"http://www.w3.org/2000/svg\" height=\"24px\"viewBox=\"0 0 24 24\"\n",
              "     width=\"24px\">\n",
              "    <g>\n",
              "        <path d=\"M19 3H5c-1.1 0-2 .9-2 2v14c0 1.1.9 2 2 2h14c1.1 0 2-.9 2-2V5c0-1.1-.9-2-2-2zM9 17H7v-7h2v7zm4 0h-2V7h2v10zm4 0h-2v-4h2v4z\"/>\n",
              "    </g>\n",
              "</svg>\n",
              "  </button>\n",
              "\n",
              "<style>\n",
              "  .colab-df-quickchart {\n",
              "      --bg-color: #E8F0FE;\n",
              "      --fill-color: #1967D2;\n",
              "      --hover-bg-color: #E2EBFA;\n",
              "      --hover-fill-color: #174EA6;\n",
              "      --disabled-fill-color: #AAA;\n",
              "      --disabled-bg-color: #DDD;\n",
              "  }\n",
              "\n",
              "  [theme=dark] .colab-df-quickchart {\n",
              "      --bg-color: #3B4455;\n",
              "      --fill-color: #D2E3FC;\n",
              "      --hover-bg-color: #434B5C;\n",
              "      --hover-fill-color: #FFFFFF;\n",
              "      --disabled-bg-color: #3B4455;\n",
              "      --disabled-fill-color: #666;\n",
              "  }\n",
              "\n",
              "  .colab-df-quickchart {\n",
              "    background-color: var(--bg-color);\n",
              "    border: none;\n",
              "    border-radius: 50%;\n",
              "    cursor: pointer;\n",
              "    display: none;\n",
              "    fill: var(--fill-color);\n",
              "    height: 32px;\n",
              "    padding: 0;\n",
              "    width: 32px;\n",
              "  }\n",
              "\n",
              "  .colab-df-quickchart:hover {\n",
              "    background-color: var(--hover-bg-color);\n",
              "    box-shadow: 0 1px 2px rgba(60, 64, 67, 0.3), 0 1px 3px 1px rgba(60, 64, 67, 0.15);\n",
              "    fill: var(--button-hover-fill-color);\n",
              "  }\n",
              "\n",
              "  .colab-df-quickchart-complete:disabled,\n",
              "  .colab-df-quickchart-complete:disabled:hover {\n",
              "    background-color: var(--disabled-bg-color);\n",
              "    fill: var(--disabled-fill-color);\n",
              "    box-shadow: none;\n",
              "  }\n",
              "\n",
              "  .colab-df-spinner {\n",
              "    border: 2px solid var(--fill-color);\n",
              "    border-color: transparent;\n",
              "    border-bottom-color: var(--fill-color);\n",
              "    animation:\n",
              "      spin 1s steps(1) infinite;\n",
              "  }\n",
              "\n",
              "  @keyframes spin {\n",
              "    0% {\n",
              "      border-color: transparent;\n",
              "      border-bottom-color: var(--fill-color);\n",
              "      border-left-color: var(--fill-color);\n",
              "    }\n",
              "    20% {\n",
              "      border-color: transparent;\n",
              "      border-left-color: var(--fill-color);\n",
              "      border-top-color: var(--fill-color);\n",
              "    }\n",
              "    30% {\n",
              "      border-color: transparent;\n",
              "      border-left-color: var(--fill-color);\n",
              "      border-top-color: var(--fill-color);\n",
              "      border-right-color: var(--fill-color);\n",
              "    }\n",
              "    40% {\n",
              "      border-color: transparent;\n",
              "      border-right-color: var(--fill-color);\n",
              "      border-top-color: var(--fill-color);\n",
              "    }\n",
              "    60% {\n",
              "      border-color: transparent;\n",
              "      border-right-color: var(--fill-color);\n",
              "    }\n",
              "    80% {\n",
              "      border-color: transparent;\n",
              "      border-right-color: var(--fill-color);\n",
              "      border-bottom-color: var(--fill-color);\n",
              "    }\n",
              "    90% {\n",
              "      border-color: transparent;\n",
              "      border-bottom-color: var(--fill-color);\n",
              "    }\n",
              "  }\n",
              "</style>\n",
              "\n",
              "  <script>\n",
              "    async function quickchart(key) {\n",
              "      const quickchartButtonEl =\n",
              "        document.querySelector('#' + key + ' button');\n",
              "      quickchartButtonEl.disabled = true;  // To prevent multiple clicks.\n",
              "      quickchartButtonEl.classList.add('colab-df-spinner');\n",
              "      try {\n",
              "        const charts = await google.colab.kernel.invokeFunction(\n",
              "            'suggestCharts', [key], {});\n",
              "      } catch (error) {\n",
              "        console.error('Error during call to suggestCharts:', error);\n",
              "      }\n",
              "      quickchartButtonEl.classList.remove('colab-df-spinner');\n",
              "      quickchartButtonEl.classList.add('colab-df-quickchart-complete');\n",
              "    }\n",
              "    (() => {\n",
              "      let quickchartButtonEl =\n",
              "        document.querySelector('#df-c5ff90ec-2d79-4a79-97ab-ddf98effc56b button');\n",
              "      quickchartButtonEl.style.display =\n",
              "        google.colab.kernel.accessAllowed ? 'block' : 'none';\n",
              "    })();\n",
              "  </script>\n",
              "</div>\n",
              "\n",
              "    </div>\n",
              "  </div>\n"
            ],
            "application/vnd.google.colaboratory.intrinsic+json": {
              "type": "dataframe",
              "variable_name": "data"
            }
          },
          "metadata": {},
          "execution_count": 881
        }
      ]
    },
    {
      "cell_type": "markdown",
      "source": [
        "## Bar Plot: touch_screen and wifi"
      ],
      "metadata": {
        "id": "h1xc6rMm9bN5"
      }
    },
    {
      "cell_type": "code",
      "source": [
        "import numpy as np\n",
        "import matplotlib.pyplot as plt\n",
        "\n",
        "# Assuming 'data' is your dataset with two columns: 'blue' and 'dual_sim'\n",
        "# Count the occurrences of each category in both columns\n",
        "value_counts1 = data['touch_screen'].value_counts()\n",
        "value_counts2 = data['wifi'].value_counts()\n",
        "\n",
        "# Set the width of the bars\n",
        "bar_width = 0.35\n",
        "\n",
        "# Set the positions of the bars on the x-axis\n",
        "x1 = np.arange(len(value_counts1))\n",
        "x2 = [x + bar_width for x in x1]\n",
        "\n",
        "# Create the side-by-side bar plots\n",
        "plt.bar(x1, value_counts1.values, width=bar_width, label='Touch screen')\n",
        "plt.bar(x2, value_counts2.values, width=bar_width, label='wifi')\n",
        "\n",
        "# Add labels and title\n",
        "plt.xlabel('Category')\n",
        "plt.ylabel('Count')\n",
        "plt.title('Comparison of Number of cores and clock speed')\n",
        "plt.xticks([r + bar_width/2 for r in range(len(value_counts1))], value_counts1.index)\n",
        "\n",
        "# Display the legend\n",
        "plt.legend()\n",
        "\n",
        "# Display the plot\n",
        "plt.show()"
      ],
      "metadata": {
        "colab": {
          "base_uri": "https://localhost:8080/",
          "height": 472
        },
        "id": "_cRpjuuuiAkg",
        "outputId": "fe33df7f-d017-4930-c514-8d8d98b10437"
      },
      "execution_count": 882,
      "outputs": [
        {
          "output_type": "display_data",
          "data": {
            "text/plain": [
              "<Figure size 640x480 with 1 Axes>"
            ],
            "image/png": "[encoded data removed]"
          },
          "metadata": {}
        }
      ]
    },
    {
      "cell_type": "code",
      "source": [
        "import matplotlib.pyplot as plt\n",
        "\n",
        "\n",
        "# Create scatter plot\n",
        "plt.scatter(data['ram'], data['price_range'])\n",
        "\n",
        "# Add labels and title\n",
        "plt.xlabel('ram')\n",
        "plt.ylabel('price range')\n",
        "plt.title('Scatter Plot')\n",
        "\n",
        "# Display the plot\n",
        "plt.show()"
      ],
      "metadata": {
        "colab": {
          "base_uri": "https://localhost:8080/",
          "height": 472
        },
        "id": "0TUwP-9_fLiP",
        "outputId": "1e654f8d-3624-48d3-b9b7-1c1629592825"
      },
      "execution_count": 883,
      "outputs": [
        {
          "output_type": "display_data",
          "data": {
            "text/plain": [
              "<Figure size 640x480 with 1 Axes>"
            ],
            "image/png": "[encoded data removed]"
          },
          "metadata": {}
        }
      ]
    },
    {
      "cell_type": "code",
      "source": [
        "count = len(data[data['price_range'] == 0]['ram'])\n",
        "print(count)"
      ],
      "metadata": {
        "colab": {
          "base_uri": "https://localhost:8080/"
        },
        "id": "-UgMMB3Yfz9h",
        "outputId": "f49c3b60-8136-4673-9bee-f01b2ee5819e"
      },
      "execution_count": 884,
      "outputs": [
        {
          "output_type": "stream",
          "name": "stdout",
          "text": [
            "500\n"
          ]
        }
      ]
    },
    {
      "cell_type": "code",
      "source": [
        "count = len(data[data['price_range'] == 1]['ram'])\n",
        "print(count)"
      ],
      "metadata": {
        "colab": {
          "base_uri": "https://localhost:8080/"
        },
        "id": "ZtyRfg2BfLmc",
        "outputId": "11f9c86c-d7f6-42f0-95ce-5277650748c7"
      },
      "execution_count": 885,
      "outputs": [
        {
          "output_type": "stream",
          "name": "stdout",
          "text": [
            "500\n"
          ]
        }
      ]
    },
    {
      "cell_type": "code",
      "source": [
        "count = len(data[data['price_range'] ==2]['ram'])\n",
        "print(count)"
      ],
      "metadata": {
        "colab": {
          "base_uri": "https://localhost:8080/"
        },
        "id": "va8lrIG6fLpB",
        "outputId": "f1f74ff3-38b1-4269-ae93-a8660c56a056"
      },
      "execution_count": 886,
      "outputs": [
        {
          "output_type": "stream",
          "name": "stdout",
          "text": [
            "500\n"
          ]
        }
      ]
    },
    {
      "cell_type": "code",
      "source": [
        "count = len(data[data['price_range'] == 3]['ram'])\n",
        "print(count)"
      ],
      "metadata": {
        "colab": {
          "base_uri": "https://localhost:8080/"
        },
        "id": "bxqb0WBmfLrb",
        "outputId": "dee8c1e5-6e3b-4cb7-f18c-d693bd29d4c8"
      },
      "execution_count": 887,
      "outputs": [
        {
          "output_type": "stream",
          "name": "stdout",
          "text": [
            "500\n"
          ]
        }
      ]
    },
    {
      "cell_type": "code",
      "source": [],
      "metadata": {
        "id": "Qzi_wfzJfLtz"
      },
      "execution_count": 887,
      "outputs": []
    },
    {
      "cell_type": "code",
      "source": [],
      "metadata": {
        "id": "QfiI4slkh42P"
      },
      "execution_count": 887,
      "outputs": []
    },
    {
      "cell_type": "code",
      "source": [],
      "metadata": {
        "id": "34jyC3yxh45X"
      },
      "execution_count": 887,
      "outputs": []
    },
    {
      "cell_type": "code",
      "source": [],
      "metadata": {
        "id": "muOCPV5zh48o"
      },
      "execution_count": 887,
      "outputs": []
    },
    {
      "cell_type": "code",
      "source": [],
      "metadata": {
        "id": "7i7WDlRoh4__"
      },
      "execution_count": 887,
      "outputs": []
    },
    {
      "cell_type": "code",
      "source": [],
      "metadata": {
        "id": "vjhTpITKh5Cb"
      },
      "execution_count": 887,
      "outputs": []
    },
    {
      "cell_type": "code",
      "source": [],
      "metadata": {
        "id": "_fZ_V-Zah5FD"
      },
      "execution_count": 887,
      "outputs": []
    },
    {
      "cell_type": "code",
      "source": [],
      "metadata": {
        "id": "4JxILDeqh5Hz"
      },
      "execution_count": 887,
      "outputs": []
    },
    {
      "cell_type": "code",
      "source": [],
      "metadata": {
        "id": "xBMrTxK7h5L5"
      },
      "execution_count": 887,
      "outputs": []
    },
    {
      "cell_type": "code",
      "source": [],
      "metadata": {
        "id": "FJfGSWOth5O8"
      },
      "execution_count": 887,
      "outputs": []
    },
    {
      "cell_type": "code",
      "source": [],
      "metadata": {
        "id": "dP6Jjmgjh5RZ"
      },
      "execution_count": 887,
      "outputs": []
    },
    {
      "cell_type": "code",
      "source": [],
      "metadata": {
        "id": "bXRJAmAyh5Ud"
      },
      "execution_count": 887,
      "outputs": []
    },
    {
      "cell_type": "code",
      "source": [],
      "metadata": {
        "id": "-5MkT8nzh5W-"
      },
      "execution_count": 887,
      "outputs": []
    },
    {
      "cell_type": "code",
      "source": [],
      "metadata": {
        "id": "qNxyPE--h5Zf"
      },
      "execution_count": 887,
      "outputs": []
    },
    {
      "cell_type": "code",
      "source": [],
      "metadata": {
        "id": "Cyi14z56h5b6"
      },
      "execution_count": 887,
      "outputs": []
    },
    {
      "cell_type": "code",
      "source": [],
      "metadata": {
        "id": "1rgp-hZnh5fG"
      },
      "execution_count": 887,
      "outputs": []
    },
    {
      "cell_type": "markdown",
      "metadata": {
        "id": "R8cQIqqjVQsK"
      },
      "source": [
        "# Part 5: Feature Engineering: Adding New Features\n"
      ]
    },
    {
      "cell_type": "code",
      "execution_count": 888,
      "metadata": {
        "id": "YBlacR_0bvU4"
      },
      "outputs": [],
      "source": [
        "\n",
        "# Create new features\n",
        "data['total_camera_megapixels'] = data['fc'] + data['pc']  # Total megapixels of front and primary cameras\n",
        "data['screen_area'] = data['sc_h'] * data['sc_w']  # Screen area in square units\n",
        "data['memory_to_weight_ratio'] = data['int_memory'] / data['mobile_wt']  # Memory to weight ratio\n",
        "data['screen_resolution'] = data['px_width'] * data['px_height']  # Screen resolution in pixels\n",
        "# data['screen_resolution'] = data['px_width'].astype(str) + 'x' + data['px_height'].astype(str)\n",
        "\n",
        "data['processor_speed'] = data['clock_speed'] * data['n_cores']  # Processor speed based on clock speed and number of cores\n",
        "\n",
        "# Assuming your dataset is stored in a pandas DataFrame called 'df'\n",
        "data['ram'] = data['ram'] / 1024\n",
        "data.rename(columns={'ram': 'ram_GB'}, inplace=True)\n",
        "\n",
        "# Network Compatibility:\n",
        "# \"0\" for no network compatibility,\n",
        "# \"1\" for 3G compatibility,\n",
        "# \"2\" for 4G compatibility, and\n",
        "# \"3\" for devices compatible with both 3G and 4G networks.\n",
        "data['network_compatibility'] = data['three_g'] + data['four_g'] * 2\n",
        "\n",
        "# Delete used columns\n",
        "data.drop(['fc', 'pc', 'sc_h', 'sc_w', 'px_height', 'px_width', 'clock_speed', 'int_memory', 'mobile_wt', 'n_cores','three_g', 'four_g'], axis=1, inplace=True)\n",
        "\n"
      ]
    },
    {
      "cell_type": "code",
      "execution_count": 888,
      "metadata": {
        "id": "MpZoinWiuttV"
      },
      "outputs": [],
      "source": []
    },
    {
      "cell_type": "code",
      "execution_count": 889,
      "metadata": {
        "colab": {
          "base_uri": "https://localhost:8080/",
          "height": 226
        },
        "id": "Vu_lpwXkbvXo",
        "outputId": "d8217242-3f9f-446f-d9a2-75de21b0c5e7"
      },
      "outputs": [
        {
          "output_type": "execute_result",
          "data": {
            "text/plain": [
              "   battery_power  blue  dual_sim  m_dep    ram_GB  talk_time  touch_screen  \\\n",
              "0            842     0         0    0.6  2.489258         19             0   \n",
              "1           1021     1         1    0.7  2.569336          7             1   \n",
              "2            563     1         1    0.9  2.541992          9             1   \n",
              "3            615     1         0    0.8  2.704102         11             0   \n",
              "4           1821     1         0    0.6  1.377930         15             1   \n",
              "\n",
              "   wifi  price_range  total_camera_megapixels  screen_area  \\\n",
              "0     1            1                        3           63   \n",
              "1     0            2                        6           51   \n",
              "2     0            2                        8           22   \n",
              "3     0            2                        9          128   \n",
              "4     0            1                       27           16   \n",
              "\n",
              "   memory_to_weight_ratio  screen_resolution  processor_speed  \\\n",
              "0                0.037234              15120              4.4   \n",
              "1                0.389706            1799140              1.5   \n",
              "2                0.282759            2167308              2.5   \n",
              "3                0.076336            2171776             15.0   \n",
              "4                0.312057            1464096              2.4   \n",
              "\n",
              "   network_compatibility  \n",
              "0                      0  \n",
              "1                      3  \n",
              "2                      3  \n",
              "3                      1  \n",
              "4                      3  "
            ],
            "text/html": [
              "\n",
              "  <div id=\"df-9789b67d-67af-43ac-b013-fa7e86a134e5\" class=\"colab-df-container\">\n",
              "    <div>\n",
              "<style scoped>\n",
              "    .dataframe tbody tr th:only-of-type {\n",
              "        vertical-align: middle;\n",
              "    }\n",
              "\n",
              "    .dataframe tbody tr th {\n",
              "        vertical-align: top;\n",
              "    }\n",
              "\n",
              "    .dataframe thead th {\n",
              "        text-align: right;\n",
              "    }\n",
              "</style>\n",
              "<table border=\"1\" class=\"dataframe\">\n",
              "  <thead>\n",
              "    <tr style=\"text-align: right;\">\n",
              "      <th></th>\n",
              "      <th>battery_power</th>\n",
              "      <th>blue</th>\n",
              "      <th>dual_sim</th>\n",
              "      <th>m_dep</th>\n",
              "      <th>ram_GB</th>\n",
              "      <th>talk_time</th>\n",
              "      <th>touch_screen</th>\n",
              "      <th>wifi</th>\n",
              "      <th>price_range</th>\n",
              "      <th>total_camera_megapixels</th>\n",
              "      <th>screen_area</th>\n",
              "      <th>memory_to_weight_ratio</th>\n",
              "      <th>screen_resolution</th>\n",
              "      <th>processor_speed</th>\n",
              "      <th>network_compatibility</th>\n",
              "    </tr>\n",
              "  </thead>\n",
              "  <tbody>\n",
              "    <tr>\n",
              "      <th>0</th>\n",
              "      <td>842</td>\n",
              "      <td>0</td>\n",
              "      <td>0</td>\n",
              "      <td>0.6</td>\n",
              "      <td>2.489258</td>\n",
              "      <td>19</td>\n",
              "      <td>0</td>\n",
              "      <td>1</td>\n",
              "      <td>1</td>\n",
              "      <td>3</td>\n",
              "      <td>63</td>\n",
              "      <td>0.037234</td>\n",
              "      <td>15120</td>\n",
              "      <td>4.4</td>\n",
              "      <td>0</td>\n",
              "    </tr>\n",
              "    <tr>\n",
              "      <th>1</th>\n",
              "      <td>1021</td>\n",
              "      <td>1</td>\n",
              "      <td>1</td>\n",
              "      <td>0.7</td>\n",
              "      <td>2.569336</td>\n",
              "      <td>7</td>\n",
              "      <td>1</td>\n",
              "      <td>0</td>\n",
              "      <td>2</td>\n",
              "      <td>6</td>\n",
              "      <td>51</td>\n",
              "      <td>0.389706</td>\n",
              "      <td>1799140</td>\n",
              "      <td>1.5</td>\n",
              "      <td>3</td>\n",
              "    </tr>\n",
              "    <tr>\n",
              "      <th>2</th>\n",
              "      <td>563</td>\n",
              "      <td>1</td>\n",
              "      <td>1</td>\n",
              "      <td>0.9</td>\n",
              "      <td>2.541992</td>\n",
              "      <td>9</td>\n",
              "      <td>1</td>\n",
              "      <td>0</td>\n",
              "      <td>2</td>\n",
              "      <td>8</td>\n",
              "      <td>22</td>\n",
              "      <td>0.282759</td>\n",
              "      <td>2167308</td>\n",
              "      <td>2.5</td>\n",
              "      <td>3</td>\n",
              "    </tr>\n",
              "    <tr>\n",
              "      <th>3</th>\n",
              "      <td>615</td>\n",
              "      <td>1</td>\n",
              "      <td>0</td>\n",
              "      <td>0.8</td>\n",
              "      <td>2.704102</td>\n",
              "      <td>11</td>\n",
              "      <td>0</td>\n",
              "      <td>0</td>\n",
              "      <td>2</td>\n",
              "      <td>9</td>\n",
              "      <td>128</td>\n",
              "      <td>0.076336</td>\n",
              "      <td>2171776</td>\n",
              "      <td>15.0</td>\n",
              "      <td>1</td>\n",
              "    </tr>\n",
              "    <tr>\n",
              "      <th>4</th>\n",
              "      <td>1821</td>\n",
              "      <td>1</td>\n",
              "      <td>0</td>\n",
              "      <td>0.6</td>\n",
              "      <td>1.377930</td>\n",
              "      <td>15</td>\n",
              "      <td>1</td>\n",
              "      <td>0</td>\n",
              "      <td>1</td>\n",
              "      <td>27</td>\n",
              "      <td>16</td>\n",
              "      <td>0.312057</td>\n",
              "      <td>1464096</td>\n",
              "      <td>2.4</td>\n",
              "      <td>3</td>\n",
              "    </tr>\n",
              "  </tbody>\n",
              "</table>\n",
              "</div>\n",
              "    <div class=\"colab-df-buttons\">\n",
              "\n",
              "  <div class=\"colab-df-container\">\n",
              "    <button class=\"colab-df-convert\" onclick=\"convertToInteractive('df-9789b67d-67af-43ac-b013-fa7e86a134e5')\"\n",
              "            title=\"Convert this dataframe to an interactive table.\"\n",
              "            style=\"display:none;\">\n",
              "\n",
              "  <svg xmlns=\"http://www.w3.org/2000/svg\" height=\"24px\" viewBox=\"0 -960 960 960\">\n",
              "    <path d=\"M120-120v-720h720v720H120Zm60-500h600v-160H180v160Zm220 220h160v-160H400v160Zm0 220h160v-160H400v160ZM180-400h160v-160H180v160Zm440 0h160v-160H620v160ZM180-180h160v-160H180v160Zm440 0h160v-160H620v160Z\"/>\n",
              "  </svg>\n",
              "    </button>\n",
              "\n",
              "  <style>\n",
              "    .colab-df-container {\n",
              "      display:flex;\n",
              "      gap: 12px;\n",
              "    }\n",
              "\n",
              "    .colab-df-convert {\n",
              "      background-color: #E8F0FE;\n",
              "      border: none;\n",
              "      border-radius: 50%;\n",
              "      cursor: pointer;\n",
              "      display: none;\n",
              "      fill: #1967D2;\n",
              "      height: 32px;\n",
              "      padding: 0 0 0 0;\n",
              "      width: 32px;\n",
              "    }\n",
              "\n",
              "    .colab-df-convert:hover {\n",
              "      background-color: #E2EBFA;\n",
              "      box-shadow: 0px 1px 2px rgba(60, 64, 67, 0.3), 0px 1px 3px 1px rgba(60, 64, 67, 0.15);\n",
              "      fill: #174EA6;\n",
              "    }\n",
              "\n",
              "    .colab-df-buttons div {\n",
              "      margin-bottom: 4px;\n",
              "    }\n",
              "\n",
              "    [theme=dark] .colab-df-convert {\n",
              "      background-color: #3B4455;\n",
              "      fill: #D2E3FC;\n",
              "    }\n",
              "\n",
              "    [theme=dark] .colab-df-convert:hover {\n",
              "      background-color: #434B5C;\n",
              "      box-shadow: 0px 1px 3px 1px rgba(0, 0, 0, 0.15);\n",
              "      filter: drop-shadow(0px 1px 2px rgba(0, 0, 0, 0.3));\n",
              "      fill: #FFFFFF;\n",
              "    }\n",
              "  </style>\n",
              "\n",
              "    <script>\n",
              "      const buttonEl =\n",
              "        document.querySelector('#df-9789b67d-67af-43ac-b013-fa7e86a134e5 button.colab-df-convert');\n",
              "      buttonEl.style.display =\n",
              "        google.colab.kernel.accessAllowed ? 'block' : 'none';\n",
              "\n",
              "      async function convertToInteractive(key) {\n",
              "        const element = document.querySelector('#df-9789b67d-67af-43ac-b013-fa7e86a134e5');\n",
              "        const dataTable =\n",
              "          await google.colab.kernel.invokeFunction('convertToInteractive',\n",
              "                                                    [key], {});\n",
              "        if (!dataTable) return;\n",
              "\n",
              "        const docLinkHtml = 'Like what you see? Visit the ' +\n",
              "          '<a target=\"_blank\" href=https://colab.research.google.com/notebooks/data_table.ipynb>data table notebook</a>'\n",
              "          + ' to learn more about interactive tables.';\n",
              "        element.innerHTML = '';\n",
              "        dataTable['output_type'] = 'display_data';\n",
              "        await google.colab.output.renderOutput(dataTable, element);\n",
              "        const docLink = document.createElement('div');\n",
              "        docLink.innerHTML = docLinkHtml;\n",
              "        element.appendChild(docLink);\n",
              "      }\n",
              "    </script>\n",
              "  </div>\n",
              "\n",
              "\n",
              "<div id=\"df-1a97bb88-8a50-442a-8586-49ecff3302df\">\n",
              "  <button class=\"colab-df-quickchart\" onclick=\"quickchart('df-1a97bb88-8a50-442a-8586-49ecff3302df')\"\n",
              "            title=\"Suggest charts\"\n",
              "            style=\"display:none;\">\n",
              "\n",
              "<svg xmlns=\"http://www.w3.org/2000/svg\" height=\"24px\"viewBox=\"0 0 24 24\"\n",
              "     width=\"24px\">\n",
              "    <g>\n",
              "        <path d=\"M19 3H5c-1.1 0-2 .9-2 2v14c0 1.1.9 2 2 2h14c1.1 0 2-.9 2-2V5c0-1.1-.9-2-2-2zM9 17H7v-7h2v7zm4 0h-2V7h2v10zm4 0h-2v-4h2v4z\"/>\n",
              "    </g>\n",
              "</svg>\n",
              "  </button>\n",
              "\n",
              "<style>\n",
              "  .colab-df-quickchart {\n",
              "      --bg-color: #E8F0FE;\n",
              "      --fill-color: #1967D2;\n",
              "      --hover-bg-color: #E2EBFA;\n",
              "      --hover-fill-color: #174EA6;\n",
              "      --disabled-fill-color: #AAA;\n",
              "      --disabled-bg-color: #DDD;\n",
              "  }\n",
              "\n",
              "  [theme=dark] .colab-df-quickchart {\n",
              "      --bg-color: #3B4455;\n",
              "      --fill-color: #D2E3FC;\n",
              "      --hover-bg-color: #434B5C;\n",
              "      --hover-fill-color: #FFFFFF;\n",
              "      --disabled-bg-color: #3B4455;\n",
              "      --disabled-fill-color: #666;\n",
              "  }\n",
              "\n",
              "  .colab-df-quickchart {\n",
              "    background-color: var(--bg-color);\n",
              "    border: none;\n",
              "    border-radius: 50%;\n",
              "    cursor: pointer;\n",
              "    display: none;\n",
              "    fill: var(--fill-color);\n",
              "    height: 32px;\n",
              "    padding: 0;\n",
              "    width: 32px;\n",
              "  }\n",
              "\n",
              "  .colab-df-quickchart:hover {\n",
              "    background-color: var(--hover-bg-color);\n",
              "    box-shadow: 0 1px 2px rgba(60, 64, 67, 0.3), 0 1px 3px 1px rgba(60, 64, 67, 0.15);\n",
              "    fill: var(--button-hover-fill-color);\n",
              "  }\n",
              "\n",
              "  .colab-df-quickchart-complete:disabled,\n",
              "  .colab-df-quickchart-complete:disabled:hover {\n",
              "    background-color: var(--disabled-bg-color);\n",
              "    fill: var(--disabled-fill-color);\n",
              "    box-shadow: none;\n",
              "  }\n",
              "\n",
              "  .colab-df-spinner {\n",
              "    border: 2px solid var(--fill-color);\n",
              "    border-color: transparent;\n",
              "    border-bottom-color: var(--fill-color);\n",
              "    animation:\n",
              "      spin 1s steps(1) infinite;\n",
              "  }\n",
              "\n",
              "  @keyframes spin {\n",
              "    0% {\n",
              "      border-color: transparent;\n",
              "      border-bottom-color: var(--fill-color);\n",
              "      border-left-color: var(--fill-color);\n",
              "    }\n",
              "    20% {\n",
              "      border-color: transparent;\n",
              "      border-left-color: var(--fill-color);\n",
              "      border-top-color: var(--fill-color);\n",
              "    }\n",
              "    30% {\n",
              "      border-color: transparent;\n",
              "      border-left-color: var(--fill-color);\n",
              "      border-top-color: var(--fill-color);\n",
              "      border-right-color: var(--fill-color);\n",
              "    }\n",
              "    40% {\n",
              "      border-color: transparent;\n",
              "      border-right-color: var(--fill-color);\n",
              "      border-top-color: var(--fill-color);\n",
              "    }\n",
              "    60% {\n",
              "      border-color: transparent;\n",
              "      border-right-color: var(--fill-color);\n",
              "    }\n",
              "    80% {\n",
              "      border-color: transparent;\n",
              "      border-right-color: var(--fill-color);\n",
              "      border-bottom-color: var(--fill-color);\n",
              "    }\n",
              "    90% {\n",
              "      border-color: transparent;\n",
              "      border-bottom-color: var(--fill-color);\n",
              "    }\n",
              "  }\n",
              "</style>\n",
              "\n",
              "  <script>\n",
              "    async function quickchart(key) {\n",
              "      const quickchartButtonEl =\n",
              "        document.querySelector('#' + key + ' button');\n",
              "      quickchartButtonEl.disabled = true;  // To prevent multiple clicks.\n",
              "      quickchartButtonEl.classList.add('colab-df-spinner');\n",
              "      try {\n",
              "        const charts = await google.colab.kernel.invokeFunction(\n",
              "            'suggestCharts', [key], {});\n",
              "      } catch (error) {\n",
              "        console.error('Error during call to suggestCharts:', error);\n",
              "      }\n",
              "      quickchartButtonEl.classList.remove('colab-df-spinner');\n",
              "      quickchartButtonEl.classList.add('colab-df-quickchart-complete');\n",
              "    }\n",
              "    (() => {\n",
              "      let quickchartButtonEl =\n",
              "        document.querySelector('#df-1a97bb88-8a50-442a-8586-49ecff3302df button');\n",
              "      quickchartButtonEl.style.display =\n",
              "        google.colab.kernel.accessAllowed ? 'block' : 'none';\n",
              "    })();\n",
              "  </script>\n",
              "</div>\n",
              "\n",
              "    </div>\n",
              "  </div>\n"
            ],
            "application/vnd.google.colaboratory.intrinsic+json": {
              "type": "dataframe",
              "variable_name": "data",
              "summary": "{\n  \"name\": \"data\",\n  \"rows\": 2000,\n  \"fields\": [\n    {\n      \"column\": \"battery_power\",\n      \"properties\": {\n        \"dtype\": \"number\",\n        \"std\": 439,\n        \"min\": 501,\n        \"max\": 1998,\n        \"num_unique_values\": 1094,\n        \"samples\": [\n          587,\n          1814,\n          1724\n        ],\n        \"semantic_type\": \"\",\n        \"description\": \"\"\n      }\n    },\n    {\n      \"column\": \"blue\",\n      \"properties\": {\n        \"dtype\": \"number\",\n        \"std\": 0,\n        \"min\": 0,\n        \"max\": 1,\n        \"num_unique_values\": 2,\n        \"samples\": [\n          1,\n          0\n        ],\n        \"semantic_type\": \"\",\n        \"description\": \"\"\n      }\n    },\n    {\n      \"column\": \"dual_sim\",\n      \"properties\": {\n        \"dtype\": \"number\",\n        \"std\": 0,\n        \"min\": 0,\n        \"max\": 1,\n        \"num_unique_values\": 2,\n        \"samples\": [\n          1,\n          0\n        ],\n        \"semantic_type\": \"\",\n        \"description\": \"\"\n      }\n    },\n    {\n      \"column\": \"m_dep\",\n      \"properties\": {\n        \"dtype\": \"number\",\n        \"std\": 0.2884155496235117,\n        \"min\": 0.1,\n        \"max\": 1.0,\n        \"num_unique_values\": 10,\n        \"samples\": [\n          0.4,\n          0.7\n        ],\n        \"semantic_type\": \"\",\n        \"description\": \"\"\n      }\n    },\n    {\n      \"column\": \"ram_GB\",\n      \"properties\": {\n        \"dtype\": \"number\",\n        \"std\": 1.0593086363378412,\n        \"min\": 0.25,\n        \"max\": 3.904296875,\n        \"num_unique_values\": 1562,\n        \"samples\": [\n          2.2666015625,\n          0.853515625\n        ],\n        \"semantic_type\": \"\",\n        \"description\": \"\"\n      }\n    },\n    {\n      \"column\": \"talk_time\",\n      \"properties\": {\n        \"dtype\": \"number\",\n        \"std\": 5,\n        \"min\": 2,\n        \"max\": 20,\n        \"num_unique_values\": 19,\n        \"samples\": [\n          19,\n          10\n        ],\n        \"semantic_type\": \"\",\n        \"description\": \"\"\n      }\n    },\n    {\n      \"column\": \"touch_screen\",\n      \"properties\": {\n        \"dtype\": \"number\",\n        \"std\": 0,\n        \"min\": 0,\n        \"max\": 1,\n        \"num_unique_values\": 2,\n        \"samples\": [\n          1,\n          0\n        ],\n        \"semantic_type\": \"\",\n        \"description\": \"\"\n      }\n    },\n    {\n      \"column\": \"wifi\",\n      \"properties\": {\n        \"dtype\": \"number\",\n        \"std\": 0,\n        \"min\": 0,\n        \"max\": 1,\n        \"num_unique_values\": 2,\n        \"samples\": [\n          0,\n          1\n        ],\n        \"semantic_type\": \"\",\n        \"description\": \"\"\n      }\n    },\n    {\n      \"column\": \"price_range\",\n      \"properties\": {\n        \"dtype\": \"number\",\n        \"std\": 1,\n        \"min\": 0,\n        \"max\": 3,\n        \"num_unique_values\": 4,\n        \"samples\": [\n          2,\n          0\n        ],\n        \"semantic_type\": \"\",\n        \"description\": \"\"\n      }\n    },\n    {\n      \"column\": \"total_camera_megapixels\",\n      \"properties\": {\n        \"dtype\": \"number\",\n        \"std\": 9,\n        \"min\": 0,\n        \"max\": 39,\n        \"num_unique_values\": 40,\n        \"samples\": [\n          11,\n          29\n        ],\n        \"semantic_type\": \"\",\n        \"description\": \"\"\n      }\n    },\n    {\n      \"column\": \"screen_area\",\n      \"properties\": {\n        \"dtype\": \"number\",\n        \"std\": 76,\n        \"min\": 0,\n        \"max\": 342,\n        \"num_unique_values\": 127,\n        \"samples\": [\n          40,\n          182\n        ],\n        \"semantic_type\": \"\",\n        \"description\": \"\"\n      }\n    },\n    {\n      \"column\": \"memory_to_weight_ratio\",\n      \"properties\": {\n        \"dtype\": \"number\",\n        \"std\": 0.16085669420866577,\n        \"min\": 0.01015228426395939,\n        \"max\": 0.7710843373493976,\n        \"num_unique_values\": 1587,\n        \"samples\": [\n          0.4122137404580153,\n          0.08771929824561403\n        ],\n        \"semantic_type\": \"\",\n        \"description\": \"\"\n      }\n    },\n    {\n      \"column\": \"screen_resolution\",\n      \"properties\": {\n        \"dtype\": \"number\",\n        \"std\": 829762,\n        \"min\": 0,\n        \"max\": 3886306,\n        \"num_unique_values\": 1993,\n        \"samples\": [\n          381568,\n          838040\n        ],\n        \"semantic_type\": \"\",\n        \"description\": \"\"\n      }\n    },\n    {\n      \"column\": \"processor_speed\",\n      \"properties\": {\n        \"dtype\": \"number\",\n        \"std\": 5.393003413721356,\n        \"min\": 0.5,\n        \"max\": 24.0,\n        \"num_unique_values\": 138,\n        \"samples\": [\n          12.5,\n          7.2\n        ],\n        \"semantic_type\": \"\",\n        \"description\": \"\"\n      }\n    },\n    {\n      \"column\": \"network_compatibility\",\n      \"properties\": {\n        \"dtype\": \"number\",\n        \"std\": 1,\n        \"min\": 0,\n        \"max\": 3,\n        \"num_unique_values\": 3,\n        \"samples\": [\n          0,\n          3\n        ],\n        \"semantic_type\": \"\",\n        \"description\": \"\"\n      }\n    }\n  ]\n}"
            }
          },
          "metadata": {},
          "execution_count": 889
        }
      ],
      "source": [
        "data.head()"
      ]
    },
    {
      "cell_type": "code",
      "execution_count": 890,
      "metadata": {
        "colab": {
          "base_uri": "https://localhost:8080/"
        },
        "id": "C5ehqgw0rk7D",
        "outputId": "3c3cdcf2-7796-48f1-8be6-2f668cb26549"
      },
      "outputs": [
        {
          "output_type": "execute_result",
          "data": {
            "text/plain": [
              "(2000, 15)"
            ]
          },
          "metadata": {},
          "execution_count": 890
        }
      ],
      "source": [
        "data.shape"
      ]
    },
    {
      "cell_type": "code",
      "execution_count": 891,
      "metadata": {
        "colab": {
          "base_uri": "https://localhost:8080/"
        },
        "id": "SXykOWisrk9X",
        "outputId": "e1837884-8ad1-4076-8ba1-1436a81a990f"
      },
      "outputs": [
        {
          "output_type": "execute_result",
          "data": {
            "text/plain": [
              "battery_power                int64\n",
              "blue                         int64\n",
              "dual_sim                     int64\n",
              "m_dep                      float64\n",
              "ram_GB                     float64\n",
              "talk_time                    int64\n",
              "touch_screen                 int64\n",
              "wifi                         int64\n",
              "price_range                  int64\n",
              "total_camera_megapixels      int64\n",
              "screen_area                  int64\n",
              "memory_to_weight_ratio     float64\n",
              "screen_resolution            int64\n",
              "processor_speed            float64\n",
              "network_compatibility        int64\n",
              "dtype: object"
            ]
          },
          "metadata": {},
          "execution_count": 891
        }
      ],
      "source": [
        "data.dtypes"
      ]
    },
    {
      "cell_type": "code",
      "execution_count": 891,
      "metadata": {
        "id": "fVR0RWsw5LWM"
      },
      "outputs": [],
      "source": []
    },
    {
      "cell_type": "code",
      "execution_count": 891,
      "metadata": {
        "id": "8rPrBikI5LYv"
      },
      "outputs": [],
      "source": []
    },
    {
      "cell_type": "code",
      "execution_count": 891,
      "metadata": {
        "id": "mger3OQ85Laz"
      },
      "outputs": [],
      "source": []
    },
    {
      "cell_type": "code",
      "execution_count": 891,
      "metadata": {
        "id": "VWbwysit5Lc5"
      },
      "outputs": [],
      "source": []
    },
    {
      "cell_type": "code",
      "execution_count": 891,
      "metadata": {
        "id": "Ro2T_EXh5LfQ"
      },
      "outputs": [],
      "source": []
    },
    {
      "cell_type": "code",
      "execution_count": 891,
      "metadata": {
        "id": "Bu0MEbAM5Lh2"
      },
      "outputs": [],
      "source": []
    },
    {
      "cell_type": "code",
      "execution_count": 891,
      "metadata": {
        "id": "_1X7gGet5LkX"
      },
      "outputs": [],
      "source": []
    },
    {
      "cell_type": "code",
      "execution_count": 891,
      "metadata": {
        "id": "SQuQF3Yh5Lm0"
      },
      "outputs": [],
      "source": []
    },
    {
      "cell_type": "code",
      "execution_count": 891,
      "metadata": {
        "id": "3WIogkik5Lpi"
      },
      "outputs": [],
      "source": []
    },
    {
      "cell_type": "markdown",
      "metadata": {
        "id": "7cX7eDAZVm5c"
      },
      "source": [
        "# Part 6: Encding the Categorical Varaibles\n"
      ]
    },
    {
      "cell_type": "markdown",
      "source": [
        "In my dataset, there is no categorical variables, all of the are numerical"
      ],
      "metadata": {
        "id": "k4Ca6eC8DB0e"
      }
    },
    {
      "cell_type": "markdown",
      "metadata": {
        "id": "V3WyO-R1VnUk"
      },
      "source": [
        "# Part 7: splitting Datasets into train and test\n"
      ]
    },
    {
      "cell_type": "code",
      "source": [
        "from sklearn.model_selection import train_test_split\n",
        "\n",
        "# Assuming your dataset is stored in a pandas DataFrame called 'df'\n",
        "X = data.drop('price_range', axis=1)  # Features (all columns except the target variable)\n",
        "y = data['price_range']  # Target variable\n",
        "\n",
        "\n",
        "\n",
        "# testData = pd.read_csv('test.csv')\n",
        "\n",
        "# y = testData\n",
        "\n",
        "\n",
        "\n",
        "# Split the data into training and testing sets\n",
        "X_train, X_test, y_train, y_test = train_test_split(X, y, test_size=0.2, random_state=42)"
      ],
      "metadata": {
        "id": "DI7WPIQGDLlo"
      },
      "execution_count": 892,
      "outputs": []
    },
    {
      "cell_type": "markdown",
      "metadata": {
        "id": "wApW4ClGVnW-"
      },
      "source": [
        "## Normalizing train and test\n"
      ]
    },
    {
      "cell_type": "code",
      "source": [
        "from sklearn.preprocessing import StandardScaler\n",
        "\n",
        "# Assuming you have already split your data into training and testing sets\n",
        "# X_train, X_test, y_train, y_test\n",
        "\n",
        "# Create an instance of the StandardScaler\n",
        "scaler = StandardScaler()\n",
        "\n",
        "# Apply the scaler to both the training and testing data\n",
        "X_train = scaler.fit_transform(X_train)\n",
        "X_test = scaler.transform(X_test)"
      ],
      "metadata": {
        "id": "MQjFMl_EDKi2"
      },
      "execution_count": 893,
      "outputs": []
    },
    {
      "cell_type": "markdown",
      "metadata": {
        "id": "gwO8QSfLVncU"
      },
      "source": [
        "# Part 8: Building Models: using different models\n"
      ]
    },
    {
      "cell_type": "code",
      "source": [],
      "metadata": {
        "id": "3zQD0fgKRPuN"
      },
      "execution_count": 893,
      "outputs": []
    },
    {
      "cell_type": "markdown",
      "metadata": {
        "id": "JukoXB5YVm8g"
      },
      "source": [
        "## Model 1: Logistic Regression\n"
      ]
    },
    {
      "cell_type": "code",
      "source": [
        "from sklearn.linear_model import LogisticRegression\n",
        "from sklearn.metrics import accuracy_score, f1_score, precision_score, recall_score\n",
        "\n",
        "# Assuming you have your training data (X_train, y_train) and test data (X_test, y_test)\n",
        "\n",
        "# Create and train the logistic regression model\n",
        "lr = LogisticRegression()\n",
        "lr.fit(X_train, y_train)\n",
        "\n",
        "\n",
        "\n",
        "# ...........................................HOW MACHINE TRIANS THE DATA\n",
        "\n",
        "predict_train_y = lr.predict(X_train)\n",
        "\n",
        "\n",
        "\n",
        "# Calculate the evaluation scores\n",
        "lr_accuracy_train_y = accuracy_score(y_train, predict_train_y) * 100\n",
        "lr_f1_train_y = f1_score(y_train, predict_train_y, average='macro')* 100\n",
        "lr_precision_train_y = precision_score(y_train, predict_train_y, average='macro')* 100\n",
        "lr_recall_train_y = recall_score(y_train, predict_train_y, average='macro')* 100\n",
        "\n",
        "\n",
        "# Add the Neural Network model results to the DataFrame\n",
        "train_result = pd.DataFrame([['Logistic Regression Train', lr_accuracy_train_y, lr_f1_train_y, lr_precision_train_y, lr_recall_train_y]],\n",
        "                                      columns=['Model', 'Accuracy', 'F1', 'Precision', 'Recall'])\n",
        "\n",
        "\n",
        "\n",
        "\n",
        "\n",
        "\n",
        "\n",
        "#........................................... PREDICT TEST DATA........................................................\n",
        "# Use the trained model to predict labels for the test data\n",
        "pred_test_y = lr.predict(X_test)\n",
        "\n",
        "\n",
        "# Calculate the evaluation scores\n",
        "lr_accuracy_test_y = accuracy_score(y_test, pred_test_y)* 100\n",
        "lr_f1_test_y = f1_score(y_test, pred_test_y, average='macro')* 100\n",
        "lr_precision_test_y = precision_score(y_test, pred_test_y, average='macro')* 100\n",
        "lr_recall_test_y = recall_score(y_test, pred_test_y, average='macro')* 100\n",
        "\n",
        "\n",
        "\n",
        "# Add the Neural Network model results to the DataFrame\n",
        "test_result = pd.DataFrame([['Logistic Regression Test', lr_accuracy_test_y, lr_f1_test_y, lr_precision_test_y, lr_recall_test_y]],\n",
        "                                      columns=['Model', 'Accuracy', 'F1', 'Precision', 'Recall'])\n",
        "\n",
        "\n",
        "\n",
        "\n",
        "# # Add the Neural Network model results to the DataFrame\n",
        "# results = results.append(pd.DataFrame([['Decision Tree', dt_accuracy, dt_f1, dt_precision, dt_recall]],\n",
        "#                                       columns=['Model', 'Accuracy', 'F1', 'Precision', 'Recall']),ignore_index = True)\n",
        "\n",
        "\n",
        "\n",
        "# # Print the evaluation scores\n",
        "# print(\"Accuracy:\", lr_accuracy_test_y)\n",
        "# print(\"F1 Score:\", lr_f1_test_y)\n",
        "# print(\"Precision:\", lr_precision_test_y)\n",
        "# print(\"Recall:\", lr_recall_test_y)"
      ],
      "metadata": {
        "id": "d6zvM5z8mnct"
      },
      "execution_count": 894,
      "outputs": []
    },
    {
      "cell_type": "code",
      "source": [],
      "metadata": {
        "id": "m4OkkbqJn8Xc"
      },
      "execution_count": 894,
      "outputs": []
    },
    {
      "cell_type": "code",
      "source": [
        "\n",
        "# y_pred_train = lr.predict(X_train)\n",
        "# lr_accuracy_train = accuracy_score(y_train, y_pred_train)"
      ],
      "metadata": {
        "id": "0bSOWGODlD9l"
      },
      "execution_count": 895,
      "outputs": []
    },
    {
      "cell_type": "code",
      "source": [
        "# lr_accuracy_train"
      ],
      "metadata": {
        "id": "B0NgikvFR_qt"
      },
      "execution_count": 896,
      "outputs": []
    },
    {
      "cell_type": "code",
      "source": [],
      "metadata": {
        "id": "pdnybT5zQAaS"
      },
      "execution_count": 896,
      "outputs": []
    },
    {
      "cell_type": "markdown",
      "metadata": {
        "id": "Z9lie8MoVnA2"
      },
      "source": [
        "## Model 2: Decision Trees\n"
      ]
    },
    {
      "cell_type": "code",
      "source": [
        "from sklearn.tree import DecisionTreeClassifier\n",
        "from sklearn.metrics import accuracy_score, f1_score, precision_score, recall_score\n",
        "\n",
        "# Assuming you have your training data (X_train, y_train) and test data (X_test, y_test)\n",
        "\n",
        "# Create and train the decision tree classifier\n",
        "dt = DecisionTreeClassifier(random_state=42)\n",
        "dt.fit(X_train, y_train)\n",
        "\n",
        "\n",
        "\n",
        "# ...........................................HOW MACHINE TRIANS THE DATA\n",
        "\n",
        "predict_train_y = dt.predict(X_train)\n",
        "\n",
        "\n",
        "\n",
        "# Calculate the evaluation scores\n",
        "dt_accuracy_train_y = accuracy_score(y_train, predict_train_y)* 100\n",
        "dt_f1_train_y = f1_score(y_train, predict_train_y, average='macro')* 100\n",
        "dt_precision_train_y = precision_score(y_train, predict_train_y, average='macro')* 100\n",
        "dt_recall_train_y = recall_score(y_train, predict_train_y, average='macro')* 100\n",
        "\n",
        "\n",
        "# Add the Neural Network model results to the DataFrame\n",
        "train_result = train_result.append(pd.DataFrame([['Decision Tree Train', dt_accuracy_train_y, dt_f1_train_y, dt_precision_train_y, dt_recall_train_y]],\n",
        "                                      columns=['Model', 'Accuracy', 'F1', 'Precision', 'Recall']), ignore_index = True)\n",
        "\n",
        "\n",
        "\n",
        "# results = results.append(pd.DataFrame([['Decision Tree Test', dt_accuracy_test_y, dt_f1_test_y, dt_precision_test_y, dt_recall_test_y]],\n",
        "#                                       columns=['Model', 'Accuracy', 'F1', 'Precision', 'Recall']), ignore_index = True)\n",
        "\n",
        "\n",
        "\n",
        "#........................................... PREDICT TEST DATA........................................................\n",
        "# Use the trained model to predict labels for the test data\n",
        "pred_test_y =dt.predict(X_test)\n",
        "\n",
        "\n",
        "# Calculate the evaluation scores\n",
        "dt_accuracy_test_y = accuracy_score(y_test, pred_test_y)* 100\n",
        "dt_f1_test_y = f1_score(y_test, pred_test_y, average='macro')* 100\n",
        "dt_precision_test_y = precision_score(y_test, pred_test_y, average='macro')* 100\n",
        "dt_recall_test_y = recall_score(y_test, pred_test_y, average='macro')* 100\n",
        "\n",
        "\n",
        "\n",
        "# Add the Neural Network model results to the DataFrame\n",
        "test_result = test_result.append(pd.DataFrame([['Decision Tree Test', dt_accuracy_test_y, dt_f1_test_y, dt_precision_test_y, dt_recall_test_y]],\n",
        "                                      columns=['Model', 'Accuracy', 'F1', 'Precision', 'Recall']), ignore_index = True)\n",
        "\n",
        "\n",
        "# # Add the Neural Network model results to the DataFrame\n",
        "# results = results.append(pd.DataFrame([['Decision Tree', dt_accuracy, dt_f1, dt_precision, dt_recall]],\n",
        "#                                       columns=['Model', 'Accuracy', 'F1', 'Precision', 'Recall']),ignore_index = True)\n",
        "\n",
        "\n",
        "\n",
        "# Print the evaluation scores\n",
        "# print(\"Accuracy:\", lr_accuracy_test_y)\n",
        "# print(\"F1 Score:\", lr_f1_test_y)\n",
        "# print(\"Precision:\", lr_precision_test_y)\n",
        "# print(\"Recall:\", lr_recall_test_y)\n",
        "\n",
        "\n",
        "\n",
        "\n",
        "\n",
        "# Use the trained model to predict labels for the test data\n",
        "# y_pred = dt.predict(X_test)\n",
        "\n",
        "# # Calculate the evaluation scores\n",
        "# dt_accuracy = accuracy_score(y_test, y_pred)\n",
        "# dt_f1 = f1_score(y_test, y_pred, average='macro')\n",
        "# dt_precision = precision_score(y_test, y_pred, average='macro')\n",
        "# dt_recall = recall_score(y_test, y_pred, average='macro')\n",
        "\n",
        "\n",
        "\n",
        "# # Add the Neural Network model results to the DataFrame\n",
        "# results = results.append(pd.DataFrame([['Decision Tree', dt_accuracy, dt_f1, dt_precision, dt_recall]],\n",
        "#                                       columns=['Model', 'Accuracy', 'F1', 'Precision', 'Recall']),ignore_index = True)\n",
        "\n",
        "\n",
        "# # Print the evaluation scores\n",
        "# print(\"Accuracy:\", dt_accuracy)\n",
        "# print(\"F1 Score:\", dt_f1)\n",
        "# print(\"Precision:\", dt_precision)\n",
        "# print(\"Recall:\", dt_recall)"
      ],
      "metadata": {
        "colab": {
          "base_uri": "https://localhost:8080/"
        },
        "id": "SryqVYB5FSpZ",
        "outputId": "8bfc5919-ab8c-43f9-d334-b533875c0f83"
      },
      "execution_count": 897,
      "outputs": [
        {
          "output_type": "stream",
          "name": "stderr",
          "text": [
            "<ipython-input-897-bc7b662bd566>:26: FutureWarning: The frame.append method is deprecated and will be removed from pandas in a future version. Use pandas.concat instead.\n",
            "  train_result = train_result.append(pd.DataFrame([['Decision Tree Train', dt_accuracy_train_y, dt_f1_train_y, dt_precision_train_y, dt_recall_train_y]],\n",
            "<ipython-input-897-bc7b662bd566>:50: FutureWarning: The frame.append method is deprecated and will be removed from pandas in a future version. Use pandas.concat instead.\n",
            "  test_result = test_result.append(pd.DataFrame([['Decision Tree Test', dt_accuracy_test_y, dt_f1_test_y, dt_precision_test_y, dt_recall_test_y]],\n"
          ]
        }
      ]
    },
    {
      "cell_type": "markdown",
      "metadata": {
        "id": "kUo7osOOV0eY"
      },
      "source": [
        "## Model 3: Random Forests\n"
      ]
    },
    {
      "cell_type": "code",
      "source": [
        "from sklearn.ensemble import RandomForestClassifier\n",
        "from sklearn.metrics import accuracy_score, f1_score, precision_score, recall_score\n",
        "\n",
        "# Assuming you have your training data (X_train, y_train) and test data (X_test, y_test)\n",
        "\n",
        "# Create and train the Random Forest classifier\n",
        "rf = RandomForestClassifier(random_state=42)\n",
        "rf.fit(X_train, y_train)\n",
        "\n",
        "\n",
        "\n",
        "# ...........................................HOW MACHINE TRIANS THE DATA\n",
        "\n",
        "predict_train_y = rf.predict(X_train)\n",
        "\n",
        "\n",
        "\n",
        "# Calculate the evaluation scores\n",
        "rf_accuracy_train_y = accuracy_score(y_train, predict_train_y)* 100\n",
        "rf_f1_train_y = f1_score(y_train, predict_train_y, average='macro')* 100\n",
        "rf_precision_train_y = precision_score(y_train, predict_train_y, average='macro')* 100\n",
        "rf_recall_train_y = recall_score(y_train, predict_train_y, average='macro')* 100\n",
        "\n",
        "\n",
        "# Add the Neural Network model results to the DataFrame\n",
        "train_result = train_result.append(pd.DataFrame([['Random Forest Train', rf_accuracy_train_y, rf_f1_train_y, rf_precision_train_y, rf_recall_train_y]],\n",
        "                                      columns=['Model', 'Accuracy', 'F1', 'Precision', 'Recall']), ignore_index = True)\n",
        "\n",
        "\n",
        "\n",
        "# results = results.append(pd.DataFrame([['Decision Tree Test', dt_accuracy_test_y, dt_f1_test_y, dt_precision_test_y, dt_recall_test_y]],\n",
        "#                                       columns=['Model', 'Accuracy', 'F1', 'Precision', 'Recall']), ignore_index = True)\n",
        "\n",
        "\n",
        "\n",
        "#........................................... PREDICT TEST DATA........................................................\n",
        "# Use the trained model to predict labels for the test data\n",
        "pred_test_y =rf.predict(X_test)\n",
        "\n",
        "\n",
        "# Calculate the evaluation scores\n",
        "rf_accuracy_test_y = accuracy_score(y_test, pred_test_y)* 100\n",
        "rf_f1_test_y = f1_score(y_test, pred_test_y, average='macro')* 100\n",
        "rf_precision_test_y = precision_score(y_test, pred_test_y, average='macro')* 100\n",
        "rf_recall_test_y = recall_score(y_test, pred_test_y, average='macro')* 100\n",
        "\n",
        "\n",
        "\n",
        "# Add the Neural Network model results to the DataFrame\n",
        "test_result = test_result.append(pd.DataFrame([['Random Forest Test', rf_accuracy_test_y, rf_f1_test_y, rf_precision_test_y, rf_recall_test_y]],\n",
        "                                      columns=['Model', 'Accuracy', 'F1', 'Precision', 'Recall']), ignore_index = True)\n",
        "\n",
        "\n",
        "# # Use the trained model to predict labels for the test data\n",
        "# y_pred = rf.predict(X_test)\n",
        "\n",
        "# # Calculate the evaluation scores\n",
        "# rf_accuracy = accuracy_score(y_test, y_pred)\n",
        "# rf_f1 = f1_score(y_test, y_pred, average='macro')\n",
        "# rf_precision = precision_score(y_test, y_pred, average='macro')\n",
        "# rf_recall = recall_score(y_test, y_pred, average='macro')\n",
        "\n",
        "\n",
        "\n",
        "# # Add the Neural Network model results to the DataFrame\n",
        "# results = results.append(pd.DataFrame([['Random Forest', rf_accuracy, rf_f1, rf_precision, rf_recall]],\n",
        "#                                       columns=['Model', 'Accuracy', 'F1', 'Precision', 'Recall']),ignore_index = True)\n",
        "\n",
        "# # Print the evaluation scores\n",
        "# print(\"Accuracy:\", rf_accuracy)\n",
        "# print(\"F1 Score:\", rf_f1)\n",
        "# print(\"Precision:\", rf_precision)\n",
        "# print(\"Recall:\", rf_recall)"
      ],
      "metadata": {
        "colab": {
          "base_uri": "https://localhost:8080/"
        },
        "id": "4QYy8JPOFac2",
        "outputId": "6dc0d7d1-e6fe-486e-8213-05ddaad44b75"
      },
      "execution_count": 898,
      "outputs": [
        {
          "output_type": "stream",
          "name": "stderr",
          "text": [
            "<ipython-input-898-48b19ddf3650>:26: FutureWarning: The frame.append method is deprecated and will be removed from pandas in a future version. Use pandas.concat instead.\n",
            "  train_result = train_result.append(pd.DataFrame([['Random Forest Train', rf_accuracy_train_y, rf_f1_train_y, rf_precision_train_y, rf_recall_train_y]],\n",
            "<ipython-input-898-48b19ddf3650>:50: FutureWarning: The frame.append method is deprecated and will be removed from pandas in a future version. Use pandas.concat instead.\n",
            "  test_result = test_result.append(pd.DataFrame([['Random Forest Test', rf_accuracy_test_y, rf_f1_test_y, rf_precision_test_y, rf_recall_test_y]],\n"
          ]
        }
      ]
    },
    {
      "cell_type": "markdown",
      "metadata": {
        "id": "06BZOKDLV0zj"
      },
      "source": [
        "## Model 4: Gradient Boosting Machines (GBMs)\n"
      ]
    },
    {
      "cell_type": "code",
      "source": [
        "from sklearn.ensemble import GradientBoostingClassifier\n",
        "from sklearn.metrics import accuracy_score, f1_score, precision_score, recall_score\n",
        "\n",
        "# Assuming you have your training data (X_train, y_train) and test data (X_test, y_test)\n",
        "\n",
        "# Create and train the Gradient Boosting classifier\n",
        "gb = GradientBoostingClassifier()\n",
        "gb.fit(X_train, y_train)\n",
        "\n",
        "\n",
        "\n",
        "# ...........................................HOW MACHINE TRIANS THE DATA\n",
        "\n",
        "predict_train_y = gb.predict(X_train)\n",
        "\n",
        "\n",
        "\n",
        "# Calculate the evaluation scores\n",
        "gb_accuracy_train_y = accuracy_score(y_train, predict_train_y)* 100\n",
        "gb_f1_train_y = f1_score(y_train, predict_train_y, average='macro')* 100\n",
        "gb_precision_train_y = precision_score(y_train, predict_train_y, average='macro')* 100\n",
        "gb_recall_train_y = recall_score(y_train, predict_train_y, average='macro')* 100\n",
        "\n",
        "\n",
        "# Add the Neural Network model results to the DataFrame\n",
        "train_result = train_result.append(pd.DataFrame([['Gboost Train', gb_accuracy_train_y, gb_f1_train_y, gb_precision_train_y, gb_recall_train_y]],\n",
        "                                      columns=['Model', 'Accuracy', 'F1', 'Precision', 'Recall']), ignore_index = True)\n",
        "\n",
        "\n",
        "\n",
        "# results = results.append(pd.DataFrame([['Decision Tree Test', dt_accuracy_test_y, dt_f1_test_y, dt_precision_test_y, dt_recall_test_y]],\n",
        "#                                       columns=['Model', 'Accuracy', 'F1', 'Precision', 'Recall']), ignore_index = True)\n",
        "\n",
        "\n",
        "\n",
        "#........................................... PREDICT TEST DATA........................................................\n",
        "# Use the trained model to predict labels for the test data\n",
        "pred_test_y =gb.predict(X_test)\n",
        "\n",
        "\n",
        "# Calculate the evaluation scores\n",
        "gb_accuracy_test_y = accuracy_score(y_test, pred_test_y)* 100\n",
        "gb_f1_test_y = f1_score(y_test, pred_test_y, average='macro')* 100\n",
        "gb_precision_test_y = precision_score(y_test, pred_test_y, average='macro')* 100\n",
        "gb_recall_test_y = recall_score(y_test, pred_test_y, average='macro')* 100\n",
        "\n",
        "\n",
        "\n",
        "# Add the Neural Network model results to the DataFrame\n",
        "test_result = test_result.append(pd.DataFrame([['Gboost Test', gb_accuracy_test_y, gb_f1_test_y, gb_precision_test_y, gb_recall_test_y]],\n",
        "                                      columns=['Model', 'Accuracy', 'F1', 'Precision', 'Recall']), ignore_index = True)\n",
        "\n",
        "# # Use the trained model to predict labels for the test data\n",
        "# y_pred = gb.predict(X_test)\n",
        "\n",
        "# # Calculate the evaluation scores\n",
        "# gb_accuracy = accuracy_score(y_test, y_pred)\n",
        "# gb_f1 = f1_score(y_test, y_pred, average='macro')\n",
        "# gb_precision = precision_score(y_test, y_pred, average='macro')\n",
        "# gb_recall = recall_score(y_test, y_pred, average='macro')\n",
        "\n",
        "\n",
        "\n",
        "# # Add the Neural Network model results to the DataFrame\n",
        "# results = results.append(pd.DataFrame([['Grdient Boosting', gb_accuracy, gb_f1, gb_precision, gb_recall]],\n",
        "#                                       columns=['Model', 'Accuracy', 'F1', 'Precision', 'Recall']),ignore_index = True)\n",
        "\n",
        "# # Print the evaluation scores\n",
        "# print(\"Accuracy:\", gb_accuracy)\n",
        "# print(\"F1 Score:\", gb_f1)\n",
        "# print(\"Precision:\", gb_precision)\n",
        "# print(\"Recall:\", gb_recall)"
      ],
      "metadata": {
        "colab": {
          "base_uri": "https://localhost:8080/"
        },
        "id": "4NXawHM3ObFS",
        "outputId": "36d0eca1-956a-4b92-afa7-97044f5e9c72"
      },
      "execution_count": 899,
      "outputs": [
        {
          "output_type": "stream",
          "name": "stderr",
          "text": [
            "<ipython-input-899-ea6a20a61ac6>:26: FutureWarning: The frame.append method is deprecated and will be removed from pandas in a future version. Use pandas.concat instead.\n",
            "  train_result = train_result.append(pd.DataFrame([['Gboost Train', gb_accuracy_train_y, gb_f1_train_y, gb_precision_train_y, gb_recall_train_y]],\n",
            "<ipython-input-899-ea6a20a61ac6>:50: FutureWarning: The frame.append method is deprecated and will be removed from pandas in a future version. Use pandas.concat instead.\n",
            "  test_result = test_result.append(pd.DataFrame([['Gboost Test', gb_accuracy_test_y, gb_f1_test_y, gb_precision_test_y, gb_recall_test_y]],\n"
          ]
        }
      ]
    },
    {
      "cell_type": "markdown",
      "metadata": {
        "id": "zoS6nLdAV1Fb"
      },
      "source": [
        "## Model 5: Support Vector Machines (SVMs)\n"
      ]
    },
    {
      "cell_type": "code",
      "source": [
        "from sklearn.svm import SVC\n",
        "from sklearn.metrics import accuracy_score, f1_score, precision_score, recall_score\n",
        "\n",
        "# Assuming you have your training data (X_train, y_train) and test data (X_test, y_test)\n",
        "\n",
        "# Create and train the SVM classifier\n",
        "svm = SVC()\n",
        "svm.fit(X_train, y_train)\n",
        "\n",
        "\n",
        "\n",
        "\n",
        "\n",
        "# ...........................................HOW MACHINE TRIANS THE DATA\n",
        "\n",
        "predict_train_y =svm.predict(X_train)\n",
        "\n",
        "\n",
        "\n",
        "# Calculate the evaluation scores\n",
        "svm_accuracy_train_y = accuracy_score(y_train, predict_train_y)* 100\n",
        "svm_f1_train_y = f1_score(y_train, predict_train_y, average='macro')* 100\n",
        "svm_precision_train_y = precision_score(y_train, predict_train_y, average='macro')* 100\n",
        "svm_recall_train_y = recall_score(y_train, predict_train_y, average='macro')* 100\n",
        "\n",
        "\n",
        "# Add the Neural Network model results to the DataFrame\n",
        "train_result = train_result.append(pd.DataFrame([['SVM Train', svm_accuracy_train_y, svm_f1_train_y, svm_precision_train_y, svm_recall_train_y]],\n",
        "                                      columns=['Model', 'Accuracy', 'F1', 'Precision', 'Recall']), ignore_index = True)\n",
        "\n",
        "\n",
        "\n",
        "# results = results.append(pd.DataFrame([['Decision Tree Test', dt_accuracy_test_y, dt_f1_test_y, dt_precision_test_y, dt_recall_test_y]],\n",
        "#                                       columns=['Model', 'Accuracy', 'F1', 'Precision', 'Recall']), ignore_index = True)\n",
        "\n",
        "\n",
        "\n",
        "#........................................... PREDICT TEST DATA........................................................\n",
        "# Use the trained model to predict labels for the test data\n",
        "pred_test_y =svm.predict(X_test)\n",
        "\n",
        "\n",
        "# Calculate the evaluation scores\n",
        "svm_accuracy_test_y = accuracy_score(y_test, pred_test_y)* 100\n",
        "svm_f1_test_y = f1_score(y_test, pred_test_y, average='macro')* 100\n",
        "svm_precision_test_y = precision_score(y_test, pred_test_y, average='macro')* 100\n",
        "svm_recall_test_y = recall_score(y_test, pred_test_y, average='macro')* 100\n",
        "\n",
        "\n",
        "\n",
        "# Add the Neural Network model results to the DataFrame\n",
        "test_result = test_result.append(pd.DataFrame([['SVM Test', svm_accuracy_test_y, svm_f1_test_y, svm_precision_test_y, svm_recall_test_y]],\n",
        "                                      columns=['Model', 'Accuracy', 'F1', 'Precision', 'Recall']), ignore_index = True)\n",
        "\n",
        "\n",
        "\n",
        "\n",
        "\n",
        "\n",
        "\n",
        "# # Use the trained model to predict labels for the test data\n",
        "# y_pred = svm.predict(X_test)\n",
        "\n",
        "# # Calculate the evaluation scores\n",
        "# svm_accuracy = accuracy_score(y_test, y_pred)\n",
        "# svm_f1 = f1_score(y_test, y_pred, average='macro')\n",
        "# svm_precision = precision_score(y_test, y_pred, average='macro')\n",
        "# svm_recall = recall_score(y_test, y_pred, average='macro')\n",
        "\n",
        "\n",
        "# # Add the Neural Network model results to the DataFrame\n",
        "# results = results.append(pd.DataFrame([['SVM', svm_accuracy, svm_f1, svm_precision, svm_recall]],\n",
        "#                                       columns=['Model', 'Accuracy', 'F1', 'Precision', 'Recall']),ignore_index = True)\n",
        "\n",
        "\n",
        "\n",
        "# # Print the evaluation scores\n",
        "# print(\"Accuracy:\", svm_accuracy)\n",
        "# print(\"F1 Score:\", svm_f1)\n",
        "# print(\"Precision:\", svm_precision)\n",
        "# print(\"Recall:\", svm_recall)"
      ],
      "metadata": {
        "colab": {
          "base_uri": "https://localhost:8080/"
        },
        "id": "dEtSEUY3OhTW",
        "outputId": "76c80a36-b0cc-43ea-b467-3e3dabc1eda6"
      },
      "execution_count": 900,
      "outputs": [
        {
          "output_type": "stream",
          "name": "stderr",
          "text": [
            "<ipython-input-900-598abaace656>:28: FutureWarning: The frame.append method is deprecated and will be removed from pandas in a future version. Use pandas.concat instead.\n",
            "  train_result = train_result.append(pd.DataFrame([['SVM Train', svm_accuracy_train_y, svm_f1_train_y, svm_precision_train_y, svm_recall_train_y]],\n",
            "<ipython-input-900-598abaace656>:52: FutureWarning: The frame.append method is deprecated and will be removed from pandas in a future version. Use pandas.concat instead.\n",
            "  test_result = test_result.append(pd.DataFrame([['SVM Test', svm_accuracy_test_y, svm_f1_test_y, svm_precision_test_y, svm_recall_test_y]],\n"
          ]
        }
      ]
    },
    {
      "cell_type": "markdown",
      "metadata": {
        "id": "sc8hl5EBV1ae"
      },
      "source": [
        "## Model 6: Naive Bayes\n"
      ]
    },
    {
      "cell_type": "code",
      "source": [
        "from sklearn.naive_bayes import GaussianNB\n",
        "from sklearn.metrics import accuracy_score, f1_score, precision_score, recall_score\n",
        "\n",
        "# Assuming you have your training data (X_train, y_train) and test data (X_test, y_test)\n",
        "\n",
        "# Create and train the Naive Bayes classifier\n",
        "nb = GaussianNB()\n",
        "nb.fit(X_train, y_train)\n",
        "\n",
        "\n",
        "\n",
        "# ...........................................HOW MACHINE TRIANS THE DATA\n",
        "\n",
        "predict_train_y =nb.predict(X_train)\n",
        "\n",
        "\n",
        "\n",
        "# Calculate the evaluation scores\n",
        "nb_accuracy_train_y = accuracy_score(y_train, predict_train_y)* 100\n",
        "nb_f1_train_y = f1_score(y_train, predict_train_y, average='macro')* 100\n",
        "svm_precision_train_y = precision_score(y_train, predict_train_y, average='macro')* 100\n",
        "svm_recall_train_y = recall_score(y_train, predict_train_y, average='macro')* 100\n",
        "\n",
        "\n",
        "# Add the Neural Network model results to the DataFrame\n",
        "train_result = train_result.append(pd.DataFrame([['Naive Beys Train',nb_accuracy_train_y, nb_f1_train_y, svm_precision_train_y, svm_recall_train_y]],\n",
        "                                      columns=['Model', 'Accuracy', 'F1', 'Precision', 'Recall']), ignore_index = True)\n",
        "\n",
        "\n",
        "\n",
        "# results = results.append(pd.DataFrame([['Decision Tree Test', dt_accuracy_test_y, dt_f1_test_y, dt_precision_test_y, dt_recall_test_y]],\n",
        "#                                       columns=['Model', 'Accuracy', 'F1', 'Precision', 'Recall']), ignore_index = True)\n",
        "\n",
        "\n",
        "\n",
        "#........................................... PREDICT TEST DATA........................................................\n",
        "# Use the trained model to predict labels for the test data\n",
        "pred_test_y =nb.predict(X_test)\n",
        "\n",
        "\n",
        "# Calculate the evaluation scores\n",
        "nb_accuracy_test_y = accuracy_score(y_test, pred_test_y)* 100\n",
        "nb_f1_test_y = f1_score(y_test, pred_test_y, average='macro')* 100\n",
        "nb_precision_test_y = precision_score(y_test, pred_test_y, average='macro')* 100\n",
        "nb_recall_test_y = recall_score(y_test, pred_test_y, average='macro')* 100\n",
        "\n",
        "\n",
        "\n",
        "# Add the Neural Network model results to the DataFrame\n",
        "test_result = test_result.append(pd.DataFrame([['Naive Beys Test',nb_accuracy_test_y , nb_f1_test_y, nb_precision_test_y, nb_recall_test_y]],\n",
        "                                      columns=['Model', 'Accuracy', 'F1', 'Precision', 'Recall']), ignore_index = True)\n",
        "\n",
        "\n",
        "\n",
        "\n",
        "\n",
        "\n",
        "# # Use the trained model to predict labels for the test data\n",
        "# y_pred = nb.predict(X_test)\n",
        "\n",
        "# # Calculate the evaluation scores\n",
        "# nb_accuracy = accuracy_score(y_test, y_pred)\n",
        "# nb_f1 = f1_score(y_test, y_pred, average='macro')\n",
        "# nb_precision = precision_score(y_test, y_pred, average='macro')\n",
        "# nb_recall = recall_score(y_test, y_pred, average='macro')\n",
        "\n",
        "\n",
        "\n",
        "# # Add the Neural Network model results to the DataFrame\n",
        "# results = results.append(pd.DataFrame([['Naive Beyes', nb_accuracy, nb_f1, nb_precision, nb_recall]],\n",
        "#                                       columns=['Model', 'Accuracy', 'F1', 'Precision', 'Recall']) ,ignore_index = True)\n",
        "\n",
        "# # Print the evaluation scores\n",
        "# print(\"Accuracy:\", nb_accuracy)\n",
        "# print(\"F1 Score:\", nb_f1)\n",
        "# print(\"Precision:\", nb_precision)\n",
        "# print(\"Recall:\", nb_recall)"
      ],
      "metadata": {
        "colab": {
          "base_uri": "https://localhost:8080/"
        },
        "id": "lsEDFxa4OncX",
        "outputId": "bf07026b-ce2a-435e-9bfd-bb0d67230eb7"
      },
      "execution_count": 901,
      "outputs": [
        {
          "output_type": "stream",
          "name": "stderr",
          "text": [
            "<ipython-input-901-072145788664>:26: FutureWarning: The frame.append method is deprecated and will be removed from pandas in a future version. Use pandas.concat instead.\n",
            "  train_result = train_result.append(pd.DataFrame([['Naive Beys Train',nb_accuracy_train_y, nb_f1_train_y, svm_precision_train_y, svm_recall_train_y]],\n",
            "<ipython-input-901-072145788664>:50: FutureWarning: The frame.append method is deprecated and will be removed from pandas in a future version. Use pandas.concat instead.\n",
            "  test_result = test_result.append(pd.DataFrame([['Naive Beys Test',nb_accuracy_test_y , nb_f1_test_y, nb_precision_test_y, nb_recall_test_y]],\n"
          ]
        }
      ]
    },
    {
      "cell_type": "code",
      "source": [],
      "metadata": {
        "id": "ot3v2e5gOu5_"
      },
      "execution_count": 901,
      "outputs": []
    },
    {
      "cell_type": "markdown",
      "metadata": {
        "id": "vIcBqIrFWNeJ"
      },
      "source": [
        "## Model 7: k-Nearest Neighbors (k-NN)\n"
      ]
    },
    {
      "cell_type": "code",
      "source": [
        "from sklearn.neighbors import KNeighborsClassifier\n",
        "from sklearn.metrics import accuracy_score, f1_score, precision_score, recall_score\n",
        "\n",
        "# Assuming you have your training data (X_train, y_train) and test data (X_test, y_test)\n",
        "\n",
        "# Create and train the KNN classifier\n",
        "knn = KNeighborsClassifier()\n",
        "knn.fit(X_train, y_train)\n",
        "\n",
        "\n",
        "# ...........................................HOW MACHINE TRIANS THE DATA\n",
        "\n",
        "predict_train_y =knn.predict(X_train)\n",
        "\n",
        "\n",
        "\n",
        "# Calculate the evaluation scores\n",
        "knn_accuracy_train_y = accuracy_score(y_train, predict_train_y)* 100\n",
        "knn_f1_train_y = f1_score(y_train, predict_train_y, average='macro')* 100\n",
        "knn_precision_train_y = precision_score(y_train, predict_train_y, average='macro')* 100\n",
        "knn_recall_train_y = recall_score(y_train, predict_train_y, average='macro')* 100\n",
        "\n",
        "\n",
        "# Add the Neural Network model results to the DataFrame\n",
        "train_result = train_result.append(pd.DataFrame([['KNN Train',knn_accuracy_train_y, knn_f1_train_y, knn_precision_train_y, knn_recall_train_y]],\n",
        "                                      columns=['Model', 'Accuracy', 'F1', 'Precision', 'Recall']), ignore_index = True)\n",
        "\n",
        "\n",
        "\n",
        "# results = results.append(pd.DataFrame([['Decision Tree Test', dt_accuracy_test_y, dt_f1_test_y, dt_precision_test_y, dt_recall_test_y]],\n",
        "#                                       columns=['Model', 'Accuracy', 'F1', 'Precision', 'Recall']), ignore_index = True)\n",
        "\n",
        "\n",
        "\n",
        "#........................................... PREDICT TEST DATA........................................................\n",
        "# Use the trained model to predict labels for the test data\n",
        "pred_test_y =knn.predict(X_test)\n",
        "\n",
        "\n",
        "# Calculate the evaluation scores\n",
        "knn_accuracy_test_y = accuracy_score(y_test, pred_test_y)* 100\n",
        "knn_f1_test_y = f1_score(y_test, pred_test_y, average='macro')* 100\n",
        "knn_precision_test_y = precision_score(y_test, pred_test_y, average='macro')* 100\n",
        "knn_recall_test_y = recall_score(y_test, pred_test_y, average='macro')* 100\n",
        "\n",
        "\n",
        "\n",
        "# Add the Neural Network model results to the DataFrame\n",
        "test_result = test_result.append(pd.DataFrame([['KNN Test',knn_accuracy_test_y , knn_f1_test_y, knn_precision_test_y, knn_recall_test_y]],\n",
        "                                      columns=['Model', 'Accuracy', 'F1', 'Precision', 'Recall']), ignore_index = True)\n",
        "\n",
        "\n",
        "\n",
        "\n",
        "# # Use the trained model to predict labels for the test data\n",
        "# y_pred = knn.predict(X_test)\n",
        "\n",
        "# # Calculate the evaluation scores\n",
        "# knn_accuracy = accuracy_score(y_test, y_pred)\n",
        "# knn_f1 = f1_score(y_test, y_pred, average='macro')\n",
        "# knn_precision = precision_score(y_test, y_pred, average='macro')\n",
        "# knn_recall = recall_score(y_test, y_pred, average='macro')\n",
        "\n",
        "# # Add the Neural Network model results to the DataFrame\n",
        "# # results = results.append(pd.DataFrame([['KNN', knn_accuracy, knn_f1, knn_precision, knn_recall]],\n",
        "# #                                       columns=['Model', 'Accuracy', 'F1', 'Precision', 'Recall']), ignore_index = True)\n",
        "\n",
        "# # Print the evaluation scores\n",
        "# print(\"Accuracy:\", knn_accuracy)\n",
        "# print(\"F1 Score:\", knn_f1)\n",
        "# print(\"Precision:\", knn_precision)\n",
        "# print(\"Recall:\", knn_recall)"
      ],
      "metadata": {
        "colab": {
          "base_uri": "https://localhost:8080/"
        },
        "id": "zHgeFi7GOuZM",
        "outputId": "1bcefbd8-6a19-479a-f80a-b7136feeb8f1"
      },
      "execution_count": 902,
      "outputs": [
        {
          "output_type": "stream",
          "name": "stderr",
          "text": [
            "<ipython-input-902-fd26c69442f2>:25: FutureWarning: The frame.append method is deprecated and will be removed from pandas in a future version. Use pandas.concat instead.\n",
            "  train_result = train_result.append(pd.DataFrame([['KNN Train',knn_accuracy_train_y, knn_f1_train_y, knn_precision_train_y, knn_recall_train_y]],\n",
            "<ipython-input-902-fd26c69442f2>:49: FutureWarning: The frame.append method is deprecated and will be removed from pandas in a future version. Use pandas.concat instead.\n",
            "  test_result = test_result.append(pd.DataFrame([['KNN Test',knn_accuracy_test_y , knn_f1_test_y, knn_precision_test_y, knn_recall_test_y]],\n"
          ]
        }
      ]
    },
    {
      "cell_type": "code",
      "source": [],
      "metadata": {
        "id": "zOu6ITQWeHV-"
      },
      "execution_count": 902,
      "outputs": []
    },
    {
      "cell_type": "markdown",
      "metadata": {
        "id": "E-6fRvw2WU8H"
      },
      "source": [
        "# Part 9: choosing the best Model\n"
      ]
    },
    {
      "cell_type": "markdown",
      "source": [
        "## showing the trianing data as a dataframe"
      ],
      "metadata": {
        "id": "vjbgtNY_F_ff"
      }
    },
    {
      "cell_type": "code",
      "source": [
        "train_result"
      ],
      "metadata": {
        "colab": {
          "base_uri": "https://localhost:8080/",
          "height": 269
        },
        "id": "A0a7YgTXvbW7",
        "outputId": "8d867d43-baf5-4fcc-a304-a7d653e934de"
      },
      "execution_count": 903,
      "outputs": [
        {
          "output_type": "execute_result",
          "data": {
            "text/plain": [
              "                       Model  Accuracy          F1   Precision      Recall\n",
              "0  Logistic Regression Train   94.0625   94.110739   94.125460   94.098756\n",
              "1        Decision Tree Train  100.0000  100.000000  100.000000  100.000000\n",
              "2        Random Forest Train  100.0000  100.000000  100.000000  100.000000\n",
              "3               Gboost Train   99.6875   99.692771   99.692366   99.694227\n",
              "4                  SVM Train   96.6250   96.654635   96.684389   96.636923\n",
              "5           Naive Beys Train   80.3750   80.563804   80.587616   80.549579\n",
              "6                  KNN Train   71.6250   71.744215   72.918459   71.678141"
            ],
            "text/html": [
              "\n",
              "  <div id=\"df-e1961e70-7395-4782-a08b-838fdc36ffb2\" class=\"colab-df-container\">\n",
              "    <div>\n",
              "<style scoped>\n",
              "    .dataframe tbody tr th:only-of-type {\n",
              "        vertical-align: middle;\n",
              "    }\n",
              "\n",
              "    .dataframe tbody tr th {\n",
              "        vertical-align: top;\n",
              "    }\n",
              "\n",
              "    .dataframe thead th {\n",
              "        text-align: right;\n",
              "    }\n",
              "</style>\n",
              "<table border=\"1\" class=\"dataframe\">\n",
              "  <thead>\n",
              "    <tr style=\"text-align: right;\">\n",
              "      <th></th>\n",
              "      <th>Model</th>\n",
              "      <th>Accuracy</th>\n",
              "      <th>F1</th>\n",
              "      <th>Precision</th>\n",
              "      <th>Recall</th>\n",
              "    </tr>\n",
              "  </thead>\n",
              "  <tbody>\n",
              "    <tr>\n",
              "      <th>0</th>\n",
              "      <td>Logistic Regression Train</td>\n",
              "      <td>94.0625</td>\n",
              "      <td>94.110739</td>\n",
              "      <td>94.125460</td>\n",
              "      <td>94.098756</td>\n",
              "    </tr>\n",
              "    <tr>\n",
              "      <th>1</th>\n",
              "      <td>Decision Tree Train</td>\n",
              "      <td>100.0000</td>\n",
              "      <td>100.000000</td>\n",
              "      <td>100.000000</td>\n",
              "      <td>100.000000</td>\n",
              "    </tr>\n",
              "    <tr>\n",
              "      <th>2</th>\n",
              "      <td>Random Forest Train</td>\n",
              "      <td>100.0000</td>\n",
              "      <td>100.000000</td>\n",
              "      <td>100.000000</td>\n",
              "      <td>100.000000</td>\n",
              "    </tr>\n",
              "    <tr>\n",
              "      <th>3</th>\n",
              "      <td>Gboost Train</td>\n",
              "      <td>99.6875</td>\n",
              "      <td>99.692771</td>\n",
              "      <td>99.692366</td>\n",
              "      <td>99.694227</td>\n",
              "    </tr>\n",
              "    <tr>\n",
              "      <th>4</th>\n",
              "      <td>SVM Train</td>\n",
              "      <td>96.6250</td>\n",
              "      <td>96.654635</td>\n",
              "      <td>96.684389</td>\n",
              "      <td>96.636923</td>\n",
              "    </tr>\n",
              "    <tr>\n",
              "      <th>5</th>\n",
              "      <td>Naive Beys Train</td>\n",
              "      <td>80.3750</td>\n",
              "      <td>80.563804</td>\n",
              "      <td>80.587616</td>\n",
              "      <td>80.549579</td>\n",
              "    </tr>\n",
              "    <tr>\n",
              "      <th>6</th>\n",
              "      <td>KNN Train</td>\n",
              "      <td>71.6250</td>\n",
              "      <td>71.744215</td>\n",
              "      <td>72.918459</td>\n",
              "      <td>71.678141</td>\n",
              "    </tr>\n",
              "  </tbody>\n",
              "</table>\n",
              "</div>\n",
              "    <div class=\"colab-df-buttons\">\n",
              "\n",
              "  <div class=\"colab-df-container\">\n",
              "    <button class=\"colab-df-convert\" onclick=\"convertToInteractive('df-e1961e70-7395-4782-a08b-838fdc36ffb2')\"\n",
              "            title=\"Convert this dataframe to an interactive table.\"\n",
              "            style=\"display:none;\">\n",
              "\n",
              "  <svg xmlns=\"http://www.w3.org/2000/svg\" height=\"24px\" viewBox=\"0 -960 960 960\">\n",
              "    <path d=\"M120-120v-720h720v720H120Zm60-500h600v-160H180v160Zm220 220h160v-160H400v160Zm0 220h160v-160H400v160ZM180-400h160v-160H180v160Zm440 0h160v-160H620v160ZM180-180h160v-160H180v160Zm440 0h160v-160H620v160Z\"/>\n",
              "  </svg>\n",
              "    </button>\n",
              "\n",
              "  <style>\n",
              "    .colab-df-container {\n",
              "      display:flex;\n",
              "      gap: 12px;\n",
              "    }\n",
              "\n",
              "    .colab-df-convert {\n",
              "      background-color: #E8F0FE;\n",
              "      border: none;\n",
              "      border-radius: 50%;\n",
              "      cursor: pointer;\n",
              "      display: none;\n",
              "      fill: #1967D2;\n",
              "      height: 32px;\n",
              "      padding: 0 0 0 0;\n",
              "      width: 32px;\n",
              "    }\n",
              "\n",
              "    .colab-df-convert:hover {\n",
              "      background-color: #E2EBFA;\n",
              "      box-shadow: 0px 1px 2px rgba(60, 64, 67, 0.3), 0px 1px 3px 1px rgba(60, 64, 67, 0.15);\n",
              "      fill: #174EA6;\n",
              "    }\n",
              "\n",
              "    .colab-df-buttons div {\n",
              "      margin-bottom: 4px;\n",
              "    }\n",
              "\n",
              "    [theme=dark] .colab-df-convert {\n",
              "      background-color: #3B4455;\n",
              "      fill: #D2E3FC;\n",
              "    }\n",
              "\n",
              "    [theme=dark] .colab-df-convert:hover {\n",
              "      background-color: #434B5C;\n",
              "      box-shadow: 0px 1px 3px 1px rgba(0, 0, 0, 0.15);\n",
              "      filter: drop-shadow(0px 1px 2px rgba(0, 0, 0, 0.3));\n",
              "      fill: #FFFFFF;\n",
              "    }\n",
              "  </style>\n",
              "\n",
              "    <script>\n",
              "      const buttonEl =\n",
              "        document.querySelector('#df-e1961e70-7395-4782-a08b-838fdc36ffb2 button.colab-df-convert');\n",
              "      buttonEl.style.display =\n",
              "        google.colab.kernel.accessAllowed ? 'block' : 'none';\n",
              "\n",
              "      async function convertToInteractive(key) {\n",
              "        const element = document.querySelector('#df-e1961e70-7395-4782-a08b-838fdc36ffb2');\n",
              "        const dataTable =\n",
              "          await google.colab.kernel.invokeFunction('convertToInteractive',\n",
              "                                                    [key], {});\n",
              "        if (!dataTable) return;\n",
              "\n",
              "        const docLinkHtml = 'Like what you see? Visit the ' +\n",
              "          '<a target=\"_blank\" href=https://colab.research.google.com/notebooks/data_table.ipynb>data table notebook</a>'\n",
              "          + ' to learn more about interactive tables.';\n",
              "        element.innerHTML = '';\n",
              "        dataTable['output_type'] = 'display_data';\n",
              "        await google.colab.output.renderOutput(dataTable, element);\n",
              "        const docLink = document.createElement('div');\n",
              "        docLink.innerHTML = docLinkHtml;\n",
              "        element.appendChild(docLink);\n",
              "      }\n",
              "    </script>\n",
              "  </div>\n",
              "\n",
              "\n",
              "<div id=\"df-bd66cf53-c618-4c72-a1fb-62d5dba02403\">\n",
              "  <button class=\"colab-df-quickchart\" onclick=\"quickchart('df-bd66cf53-c618-4c72-a1fb-62d5dba02403')\"\n",
              "            title=\"Suggest charts\"\n",
              "            style=\"display:none;\">\n",
              "\n",
              "<svg xmlns=\"http://www.w3.org/2000/svg\" height=\"24px\"viewBox=\"0 0 24 24\"\n",
              "     width=\"24px\">\n",
              "    <g>\n",
              "        <path d=\"M19 3H5c-1.1 0-2 .9-2 2v14c0 1.1.9 2 2 2h14c1.1 0 2-.9 2-2V5c0-1.1-.9-2-2-2zM9 17H7v-7h2v7zm4 0h-2V7h2v10zm4 0h-2v-4h2v4z\"/>\n",
              "    </g>\n",
              "</svg>\n",
              "  </button>\n",
              "\n",
              "<style>\n",
              "  .colab-df-quickchart {\n",
              "      --bg-color: #E8F0FE;\n",
              "      --fill-color: #1967D2;\n",
              "      --hover-bg-color: #E2EBFA;\n",
              "      --hover-fill-color: #174EA6;\n",
              "      --disabled-fill-color: #AAA;\n",
              "      --disabled-bg-color: #DDD;\n",
              "  }\n",
              "\n",
              "  [theme=dark] .colab-df-quickchart {\n",
              "      --bg-color: #3B4455;\n",
              "      --fill-color: #D2E3FC;\n",
              "      --hover-bg-color: #434B5C;\n",
              "      --hover-fill-color: #FFFFFF;\n",
              "      --disabled-bg-color: #3B4455;\n",
              "      --disabled-fill-color: #666;\n",
              "  }\n",
              "\n",
              "  .colab-df-quickchart {\n",
              "    background-color: var(--bg-color);\n",
              "    border: none;\n",
              "    border-radius: 50%;\n",
              "    cursor: pointer;\n",
              "    display: none;\n",
              "    fill: var(--fill-color);\n",
              "    height: 32px;\n",
              "    padding: 0;\n",
              "    width: 32px;\n",
              "  }\n",
              "\n",
              "  .colab-df-quickchart:hover {\n",
              "    background-color: var(--hover-bg-color);\n",
              "    box-shadow: 0 1px 2px rgba(60, 64, 67, 0.3), 0 1px 3px 1px rgba(60, 64, 67, 0.15);\n",
              "    fill: var(--button-hover-fill-color);\n",
              "  }\n",
              "\n",
              "  .colab-df-quickchart-complete:disabled,\n",
              "  .colab-df-quickchart-complete:disabled:hover {\n",
              "    background-color: var(--disabled-bg-color);\n",
              "    fill: var(--disabled-fill-color);\n",
              "    box-shadow: none;\n",
              "  }\n",
              "\n",
              "  .colab-df-spinner {\n",
              "    border: 2px solid var(--fill-color);\n",
              "    border-color: transparent;\n",
              "    border-bottom-color: var(--fill-color);\n",
              "    animation:\n",
              "      spin 1s steps(1) infinite;\n",
              "  }\n",
              "\n",
              "  @keyframes spin {\n",
              "    0% {\n",
              "      border-color: transparent;\n",
              "      border-bottom-color: var(--fill-color);\n",
              "      border-left-color: var(--fill-color);\n",
              "    }\n",
              "    20% {\n",
              "      border-color: transparent;\n",
              "      border-left-color: var(--fill-color);\n",
              "      border-top-color: var(--fill-color);\n",
              "    }\n",
              "    30% {\n",
              "      border-color: transparent;\n",
              "      border-left-color: var(--fill-color);\n",
              "      border-top-color: var(--fill-color);\n",
              "      border-right-color: var(--fill-color);\n",
              "    }\n",
              "    40% {\n",
              "      border-color: transparent;\n",
              "      border-right-color: var(--fill-color);\n",
              "      border-top-color: var(--fill-color);\n",
              "    }\n",
              "    60% {\n",
              "      border-color: transparent;\n",
              "      border-right-color: var(--fill-color);\n",
              "    }\n",
              "    80% {\n",
              "      border-color: transparent;\n",
              "      border-right-color: var(--fill-color);\n",
              "      border-bottom-color: var(--fill-color);\n",
              "    }\n",
              "    90% {\n",
              "      border-color: transparent;\n",
              "      border-bottom-color: var(--fill-color);\n",
              "    }\n",
              "  }\n",
              "</style>\n",
              "\n",
              "  <script>\n",
              "    async function quickchart(key) {\n",
              "      const quickchartButtonEl =\n",
              "        document.querySelector('#' + key + ' button');\n",
              "      quickchartButtonEl.disabled = true;  // To prevent multiple clicks.\n",
              "      quickchartButtonEl.classList.add('colab-df-spinner');\n",
              "      try {\n",
              "        const charts = await google.colab.kernel.invokeFunction(\n",
              "            'suggestCharts', [key], {});\n",
              "      } catch (error) {\n",
              "        console.error('Error during call to suggestCharts:', error);\n",
              "      }\n",
              "      quickchartButtonEl.classList.remove('colab-df-spinner');\n",
              "      quickchartButtonEl.classList.add('colab-df-quickchart-complete');\n",
              "    }\n",
              "    (() => {\n",
              "      let quickchartButtonEl =\n",
              "        document.querySelector('#df-bd66cf53-c618-4c72-a1fb-62d5dba02403 button');\n",
              "      quickchartButtonEl.style.display =\n",
              "        google.colab.kernel.accessAllowed ? 'block' : 'none';\n",
              "    })();\n",
              "  </script>\n",
              "</div>\n",
              "\n",
              "  <div id=\"id_fb4f449f-3e5e-46c6-9f72-9d041cb433ae\">\n",
              "    <style>\n",
              "      .colab-df-generate {\n",
              "        background-color: #E8F0FE;\n",
              "        border: none;\n",
              "        border-radius: 50%;\n",
              "        cursor: pointer;\n",
              "        display: none;\n",
              "        fill: #1967D2;\n",
              "        height: 32px;\n",
              "        padding: 0 0 0 0;\n",
              "        width: 32px;\n",
              "      }\n",
              "\n",
              "      .colab-df-generate:hover {\n",
              "        background-color: #E2EBFA;\n",
              "        box-shadow: 0px 1px 2px rgba(60, 64, 67, 0.3), 0px 1px 3px 1px rgba(60, 64, 67, 0.15);\n",
              "        fill: #174EA6;\n",
              "      }\n",
              "\n",
              "      [theme=dark] .colab-df-generate {\n",
              "        background-color: #3B4455;\n",
              "        fill: #D2E3FC;\n",
              "      }\n",
              "\n",
              "      [theme=dark] .colab-df-generate:hover {\n",
              "        background-color: #434B5C;\n",
              "        box-shadow: 0px 1px 3px 1px rgba(0, 0, 0, 0.15);\n",
              "        filter: drop-shadow(0px 1px 2px rgba(0, 0, 0, 0.3));\n",
              "        fill: #FFFFFF;\n",
              "      }\n",
              "    </style>\n",
              "    <button class=\"colab-df-generate\" onclick=\"generateWithVariable('train_result')\"\n",
              "            title=\"Generate code using this dataframe.\"\n",
              "            style=\"display:none;\">\n",
              "\n",
              "  <svg xmlns=\"http://www.w3.org/2000/svg\" height=\"24px\"viewBox=\"0 0 24 24\"\n",
              "       width=\"24px\">\n",
              "    <path d=\"M7,19H8.4L18.45,9,17,7.55,7,17.6ZM5,21V16.75L18.45,3.32a2,2,0,0,1,2.83,0l1.4,1.43a1.91,1.91,0,0,1,.58,1.4,1.91,1.91,0,0,1-.58,1.4L9.25,21ZM18.45,9,17,7.55Zm-12,3A5.31,5.31,0,0,0,4.9,8.1,5.31,5.31,0,0,0,1,6.5,5.31,5.31,0,0,0,4.9,4.9,5.31,5.31,0,0,0,6.5,1,5.31,5.31,0,0,0,8.1,4.9,5.31,5.31,0,0,0,12,6.5,5.46,5.46,0,0,0,6.5,12Z\"/>\n",
              "  </svg>\n",
              "    </button>\n",
              "    <script>\n",
              "      (() => {\n",
              "      const buttonEl =\n",
              "        document.querySelector('#id_fb4f449f-3e5e-46c6-9f72-9d041cb433ae button.colab-df-generate');\n",
              "      buttonEl.style.display =\n",
              "        google.colab.kernel.accessAllowed ? 'block' : 'none';\n",
              "\n",
              "      buttonEl.onclick = () => {\n",
              "        google.colab.notebook.generateWithVariable('train_result');\n",
              "      }\n",
              "      })();\n",
              "    </script>\n",
              "  </div>\n",
              "\n",
              "    </div>\n",
              "  </div>\n"
            ],
            "application/vnd.google.colaboratory.intrinsic+json": {
              "type": "dataframe",
              "variable_name": "train_result",
              "summary": "{\n  \"name\": \"train_result\",\n  \"rows\": 7,\n  \"fields\": [\n    {\n      \"column\": \"Model\",\n      \"properties\": {\n        \"dtype\": \"string\",\n        \"num_unique_values\": 7,\n        \"samples\": [\n          \"Logistic Regression Train\",\n          \"Decision Tree Train\",\n          \"Naive Beys Train\"\n        ],\n        \"semantic_type\": \"\",\n        \"description\": \"\"\n      }\n    },\n    {\n      \"column\": \"Accuracy\",\n      \"properties\": {\n        \"dtype\": \"number\",\n        \"std\": 11.274205111352957,\n        \"min\": 71.625,\n        \"max\": 100.0,\n        \"num_unique_values\": 6,\n        \"samples\": [\n          94.0625,\n          100.0,\n          71.625\n        ],\n        \"semantic_type\": \"\",\n        \"description\": \"\"\n      }\n    },\n    {\n      \"column\": \"F1\",\n      \"properties\": {\n        \"dtype\": \"number\",\n        \"std\": 11.211344665170635,\n        \"min\": 71.74421495075963,\n        \"max\": 100.0,\n        \"num_unique_values\": 6,\n        \"samples\": [\n          94.11073865127383,\n          100.0,\n          71.74421495075963\n        ],\n        \"semantic_type\": \"\",\n        \"description\": \"\"\n      }\n    },\n    {\n      \"column\": \"Precision\",\n      \"properties\": {\n        \"dtype\": \"number\",\n        \"std\": 10.86263690031573,\n        \"min\": 72.91845860348846,\n        \"max\": 100.0,\n        \"num_unique_values\": 6,\n        \"samples\": [\n          94.12546012622965,\n          100.0,\n          72.91845860348846\n        ],\n        \"semantic_type\": \"\",\n        \"description\": \"\"\n      }\n    },\n    {\n      \"column\": \"Recall\",\n      \"properties\": {\n        \"dtype\": \"number\",\n        \"std\": 11.231945505227946,\n        \"min\": 71.67814147267838,\n        \"max\": 100.0,\n        \"num_unique_values\": 6,\n        \"samples\": [\n          94.09875591407885,\n          100.0,\n          71.67814147267838\n        ],\n        \"semantic_type\": \"\",\n        \"description\": \"\"\n      }\n    }\n  ]\n}"
            }
          },
          "metadata": {},
          "execution_count": 903
        }
      ]
    },
    {
      "cell_type": "markdown",
      "source": [
        "## Displaying how data trained as a bar Graph"
      ],
      "metadata": {
        "id": "LlNTc9ErGGq9"
      }
    },
    {
      "cell_type": "code",
      "source": [
        "import matplotlib.pyplot as plt\n",
        "\n",
        "models = ['Logistic Regression', 'Decision Tree', 'Random Forest', 'Gboost', 'SVM', 'Naive Bayes', 'KNN']\n",
        "accuracy_train = [94.0625, 100.0000, 100.0000, 99.6875, 96.6250, 80.3750, 71.6250]\n",
        "\n",
        "# Sort the models and accuracy scores together\n",
        "sorted_data = sorted(zip(models, accuracy_train), key=lambda x: x[1], reverse=True)\n",
        "sorted_models, sorted_accuracy = zip(*sorted_data)\n",
        "\n",
        "# Set up the figure and axes\n",
        "fig, ax = plt.subplots(figsize=(10, 6))\n",
        "\n",
        "# Define custom colors for the bars\n",
        "bar_colors = ['skyblue', 'lightgreen', 'lightcoral', 'orange', 'lightgray', 'lightpink', 'lightsalmon']\n",
        "\n",
        "# Create a bar plot with ranking numbers and custom colors\n",
        "bars = ax.bar(range(len(sorted_models)), sorted_accuracy, color=bar_colors)\n",
        "\n",
        "# Customize the plot\n",
        "ax.set_ylabel('Accuracy', fontsize=12)\n",
        "ax.set_title('Accuracy Ranking of Different Models (Training Data)', fontsize=14, fontweight='bold')\n",
        "ax.spines['top'].set_visible(False)\n",
        "ax.spines['right'].set_visible(False)\n",
        "\n",
        "# Add data labels on top of each bar with both percentage and ranking numbers\n",
        "for i, bar in enumerate(bars):\n",
        "    height = bar.get_height()\n",
        "    ax.annotate(f'{sorted_accuracy[i]:.2f}%\\n{i+1}st', xy=(bar.get_x() + bar.get_width() / 2, height),\n",
        "                xytext=(0, 3), textcoords='offset points', ha='center', va='bottom', fontsize=10)\n",
        "\n",
        "# Set the x-axis tick labels to the sorted model names\n",
        "ax.set_xticks(range(len(sorted_models)))\n",
        "ax.set_xticklabels(sorted_models, rotation=45, ha='right')\n",
        "\n",
        "# Add some space at the top of the plot\n",
        "plt.ylim(top=max(sorted_accuracy) * 1.1)  # Adjust the 1.1 factor to increase or decrease the space\n",
        "\n",
        "# Adjust the layout\n",
        "plt.tight_layout()\n",
        "\n",
        "# Display the plot\n",
        "plt.show()"
      ],
      "metadata": {
        "colab": {
          "base_uri": "https://localhost:8080/",
          "height": 578
        },
        "id": "XIXUBptdCqrM",
        "outputId": "8738d133-ee93-4193-d512-7a223fadd970"
      },
      "execution_count": 904,
      "outputs": [
        {
          "output_type": "display_data",
          "data": {
            "text/plain": [
              "<Figure size 1000x600 with 1 Axes>"
            ],
            "image/png": "[encoded data removed]"
          },
          "metadata": {}
        }
      ]
    },
    {
      "cell_type": "markdown",
      "source": [
        "## showing the testing data Models as a dataframe\n",
        "\n"
      ],
      "metadata": {
        "id": "7t_lpCAoGky1"
      }
    },
    {
      "cell_type": "code",
      "source": [
        "test_result"
      ],
      "metadata": {
        "colab": {
          "base_uri": "https://localhost:8080/",
          "height": 269
        },
        "id": "Q_au83Q2vwYg",
        "outputId": "b58deec1-413b-48dc-c521-4eedf7b4fd88"
      },
      "execution_count": 905,
      "outputs": [
        {
          "output_type": "execute_result",
          "data": {
            "text/plain": [
              "                      Model  Accuracy         F1  Precision     Recall\n",
              "0  Logistic Regression Test     92.25  92.031669  92.002430  92.077958\n",
              "1        Decision Tree Test     83.50  83.065008  83.081870  83.112408\n",
              "2        Random Forest Test     88.50  88.152224  88.209488  88.220606\n",
              "3               Gboost Test     90.00  89.750263  89.723947  89.821329\n",
              "4                  SVM Test     86.50  86.212023  86.312297  86.314053\n",
              "5           Naive Beys Test     79.25  78.841697  79.398634  78.781802\n",
              "6                  KNN Test     56.00  55.369742  57.260181  55.302944"
            ],
            "text/html": [
              "\n",
              "  <div id=\"df-a63a417a-7d49-4882-a061-86fd7581484d\" class=\"colab-df-container\">\n",
              "    <div>\n",
              "<style scoped>\n",
              "    .dataframe tbody tr th:only-of-type {\n",
              "        vertical-align: middle;\n",
              "    }\n",
              "\n",
              "    .dataframe tbody tr th {\n",
              "        vertical-align: top;\n",
              "    }\n",
              "\n",
              "    .dataframe thead th {\n",
              "        text-align: right;\n",
              "    }\n",
              "</style>\n",
              "<table border=\"1\" class=\"dataframe\">\n",
              "  <thead>\n",
              "    <tr style=\"text-align: right;\">\n",
              "      <th></th>\n",
              "      <th>Model</th>\n",
              "      <th>Accuracy</th>\n",
              "      <th>F1</th>\n",
              "      <th>Precision</th>\n",
              "      <th>Recall</th>\n",
              "    </tr>\n",
              "  </thead>\n",
              "  <tbody>\n",
              "    <tr>\n",
              "      <th>0</th>\n",
              "      <td>Logistic Regression Test</td>\n",
              "      <td>92.25</td>\n",
              "      <td>92.031669</td>\n",
              "      <td>92.002430</td>\n",
              "      <td>92.077958</td>\n",
              "    </tr>\n",
              "    <tr>\n",
              "      <th>1</th>\n",
              "      <td>Decision Tree Test</td>\n",
              "      <td>83.50</td>\n",
              "      <td>83.065008</td>\n",
              "      <td>83.081870</td>\n",
              "      <td>83.112408</td>\n",
              "    </tr>\n",
              "    <tr>\n",
              "      <th>2</th>\n",
              "      <td>Random Forest Test</td>\n",
              "      <td>88.50</td>\n",
              "      <td>88.152224</td>\n",
              "      <td>88.209488</td>\n",
              "      <td>88.220606</td>\n",
              "    </tr>\n",
              "    <tr>\n",
              "      <th>3</th>\n",
              "      <td>Gboost Test</td>\n",
              "      <td>90.00</td>\n",
              "      <td>89.750263</td>\n",
              "      <td>89.723947</td>\n",
              "      <td>89.821329</td>\n",
              "    </tr>\n",
              "    <tr>\n",
              "      <th>4</th>\n",
              "      <td>SVM Test</td>\n",
              "      <td>86.50</td>\n",
              "      <td>86.212023</td>\n",
              "      <td>86.312297</td>\n",
              "      <td>86.314053</td>\n",
              "    </tr>\n",
              "    <tr>\n",
              "      <th>5</th>\n",
              "      <td>Naive Beys Test</td>\n",
              "      <td>79.25</td>\n",
              "      <td>78.841697</td>\n",
              "      <td>79.398634</td>\n",
              "      <td>78.781802</td>\n",
              "    </tr>\n",
              "    <tr>\n",
              "      <th>6</th>\n",
              "      <td>KNN Test</td>\n",
              "      <td>56.00</td>\n",
              "      <td>55.369742</td>\n",
              "      <td>57.260181</td>\n",
              "      <td>55.302944</td>\n",
              "    </tr>\n",
              "  </tbody>\n",
              "</table>\n",
              "</div>\n",
              "    <div class=\"colab-df-buttons\">\n",
              "\n",
              "  <div class=\"colab-df-container\">\n",
              "    <button class=\"colab-df-convert\" onclick=\"convertToInteractive('df-a63a417a-7d49-4882-a061-86fd7581484d')\"\n",
              "            title=\"Convert this dataframe to an interactive table.\"\n",
              "            style=\"display:none;\">\n",
              "\n",
              "  <svg xmlns=\"http://www.w3.org/2000/svg\" height=\"24px\" viewBox=\"0 -960 960 960\">\n",
              "    <path d=\"M120-120v-720h720v720H120Zm60-500h600v-160H180v160Zm220 220h160v-160H400v160Zm0 220h160v-160H400v160ZM180-400h160v-160H180v160Zm440 0h160v-160H620v160ZM180-180h160v-160H180v160Zm440 0h160v-160H620v160Z\"/>\n",
              "  </svg>\n",
              "    </button>\n",
              "\n",
              "  <style>\n",
              "    .colab-df-container {\n",
              "      display:flex;\n",
              "      gap: 12px;\n",
              "    }\n",
              "\n",
              "    .colab-df-convert {\n",
              "      background-color: #E8F0FE;\n",
              "      border: none;\n",
              "      border-radius: 50%;\n",
              "      cursor: pointer;\n",
              "      display: none;\n",
              "      fill: #1967D2;\n",
              "      height: 32px;\n",
              "      padding: 0 0 0 0;\n",
              "      width: 32px;\n",
              "    }\n",
              "\n",
              "    .colab-df-convert:hover {\n",
              "      background-color: #E2EBFA;\n",
              "      box-shadow: 0px 1px 2px rgba(60, 64, 67, 0.3), 0px 1px 3px 1px rgba(60, 64, 67, 0.15);\n",
              "      fill: #174EA6;\n",
              "    }\n",
              "\n",
              "    .colab-df-buttons div {\n",
              "      margin-bottom: 4px;\n",
              "    }\n",
              "\n",
              "    [theme=dark] .colab-df-convert {\n",
              "      background-color: #3B4455;\n",
              "      fill: #D2E3FC;\n",
              "    }\n",
              "\n",
              "    [theme=dark] .colab-df-convert:hover {\n",
              "      background-color: #434B5C;\n",
              "      box-shadow: 0px 1px 3px 1px rgba(0, 0, 0, 0.15);\n",
              "      filter: drop-shadow(0px 1px 2px rgba(0, 0, 0, 0.3));\n",
              "      fill: #FFFFFF;\n",
              "    }\n",
              "  </style>\n",
              "\n",
              "    <script>\n",
              "      const buttonEl =\n",
              "        document.querySelector('#df-a63a417a-7d49-4882-a061-86fd7581484d button.colab-df-convert');\n",
              "      buttonEl.style.display =\n",
              "        google.colab.kernel.accessAllowed ? 'block' : 'none';\n",
              "\n",
              "      async function convertToInteractive(key) {\n",
              "        const element = document.querySelector('#df-a63a417a-7d49-4882-a061-86fd7581484d');\n",
              "        const dataTable =\n",
              "          await google.colab.kernel.invokeFunction('convertToInteractive',\n",
              "                                                    [key], {});\n",
              "        if (!dataTable) return;\n",
              "\n",
              "        const docLinkHtml = 'Like what you see? Visit the ' +\n",
              "          '<a target=\"_blank\" href=https://colab.research.google.com/notebooks/data_table.ipynb>data table notebook</a>'\n",
              "          + ' to learn more about interactive tables.';\n",
              "        element.innerHTML = '';\n",
              "        dataTable['output_type'] = 'display_data';\n",
              "        await google.colab.output.renderOutput(dataTable, element);\n",
              "        const docLink = document.createElement('div');\n",
              "        docLink.innerHTML = docLinkHtml;\n",
              "        element.appendChild(docLink);\n",
              "      }\n",
              "    </script>\n",
              "  </div>\n",
              "\n",
              "\n",
              "<div id=\"df-b5e0f74d-f680-421b-b96d-335c69325e3e\">\n",
              "  <button class=\"colab-df-quickchart\" onclick=\"quickchart('df-b5e0f74d-f680-421b-b96d-335c69325e3e')\"\n",
              "            title=\"Suggest charts\"\n",
              "            style=\"display:none;\">\n",
              "\n",
              "<svg xmlns=\"http://www.w3.org/2000/svg\" height=\"24px\"viewBox=\"0 0 24 24\"\n",
              "     width=\"24px\">\n",
              "    <g>\n",
              "        <path d=\"M19 3H5c-1.1 0-2 .9-2 2v14c0 1.1.9 2 2 2h14c1.1 0 2-.9 2-2V5c0-1.1-.9-2-2-2zM9 17H7v-7h2v7zm4 0h-2V7h2v10zm4 0h-2v-4h2v4z\"/>\n",
              "    </g>\n",
              "</svg>\n",
              "  </button>\n",
              "\n",
              "<style>\n",
              "  .colab-df-quickchart {\n",
              "      --bg-color: #E8F0FE;\n",
              "      --fill-color: #1967D2;\n",
              "      --hover-bg-color: #E2EBFA;\n",
              "      --hover-fill-color: #174EA6;\n",
              "      --disabled-fill-color: #AAA;\n",
              "      --disabled-bg-color: #DDD;\n",
              "  }\n",
              "\n",
              "  [theme=dark] .colab-df-quickchart {\n",
              "      --bg-color: #3B4455;\n",
              "      --fill-color: #D2E3FC;\n",
              "      --hover-bg-color: #434B5C;\n",
              "      --hover-fill-color: #FFFFFF;\n",
              "      --disabled-bg-color: #3B4455;\n",
              "      --disabled-fill-color: #666;\n",
              "  }\n",
              "\n",
              "  .colab-df-quickchart {\n",
              "    background-color: var(--bg-color);\n",
              "    border: none;\n",
              "    border-radius: 50%;\n",
              "    cursor: pointer;\n",
              "    display: none;\n",
              "    fill: var(--fill-color);\n",
              "    height: 32px;\n",
              "    padding: 0;\n",
              "    width: 32px;\n",
              "  }\n",
              "\n",
              "  .colab-df-quickchart:hover {\n",
              "    background-color: var(--hover-bg-color);\n",
              "    box-shadow: 0 1px 2px rgba(60, 64, 67, 0.3), 0 1px 3px 1px rgba(60, 64, 67, 0.15);\n",
              "    fill: var(--button-hover-fill-color);\n",
              "  }\n",
              "\n",
              "  .colab-df-quickchart-complete:disabled,\n",
              "  .colab-df-quickchart-complete:disabled:hover {\n",
              "    background-color: var(--disabled-bg-color);\n",
              "    fill: var(--disabled-fill-color);\n",
              "    box-shadow: none;\n",
              "  }\n",
              "\n",
              "  .colab-df-spinner {\n",
              "    border: 2px solid var(--fill-color);\n",
              "    border-color: transparent;\n",
              "    border-bottom-color: var(--fill-color);\n",
              "    animation:\n",
              "      spin 1s steps(1) infinite;\n",
              "  }\n",
              "\n",
              "  @keyframes spin {\n",
              "    0% {\n",
              "      border-color: transparent;\n",
              "      border-bottom-color: var(--fill-color);\n",
              "      border-left-color: var(--fill-color);\n",
              "    }\n",
              "    20% {\n",
              "      border-color: transparent;\n",
              "      border-left-color: var(--fill-color);\n",
              "      border-top-color: var(--fill-color);\n",
              "    }\n",
              "    30% {\n",
              "      border-color: transparent;\n",
              "      border-left-color: var(--fill-color);\n",
              "      border-top-color: var(--fill-color);\n",
              "      border-right-color: var(--fill-color);\n",
              "    }\n",
              "    40% {\n",
              "      border-color: transparent;\n",
              "      border-right-color: var(--fill-color);\n",
              "      border-top-color: var(--fill-color);\n",
              "    }\n",
              "    60% {\n",
              "      border-color: transparent;\n",
              "      border-right-color: var(--fill-color);\n",
              "    }\n",
              "    80% {\n",
              "      border-color: transparent;\n",
              "      border-right-color: var(--fill-color);\n",
              "      border-bottom-color: var(--fill-color);\n",
              "    }\n",
              "    90% {\n",
              "      border-color: transparent;\n",
              "      border-bottom-color: var(--fill-color);\n",
              "    }\n",
              "  }\n",
              "</style>\n",
              "\n",
              "  <script>\n",
              "    async function quickchart(key) {\n",
              "      const quickchartButtonEl =\n",
              "        document.querySelector('#' + key + ' button');\n",
              "      quickchartButtonEl.disabled = true;  // To prevent multiple clicks.\n",
              "      quickchartButtonEl.classList.add('colab-df-spinner');\n",
              "      try {\n",
              "        const charts = await google.colab.kernel.invokeFunction(\n",
              "            'suggestCharts', [key], {});\n",
              "      } catch (error) {\n",
              "        console.error('Error during call to suggestCharts:', error);\n",
              "      }\n",
              "      quickchartButtonEl.classList.remove('colab-df-spinner');\n",
              "      quickchartButtonEl.classList.add('colab-df-quickchart-complete');\n",
              "    }\n",
              "    (() => {\n",
              "      let quickchartButtonEl =\n",
              "        document.querySelector('#df-b5e0f74d-f680-421b-b96d-335c69325e3e button');\n",
              "      quickchartButtonEl.style.display =\n",
              "        google.colab.kernel.accessAllowed ? 'block' : 'none';\n",
              "    })();\n",
              "  </script>\n",
              "</div>\n",
              "\n",
              "  <div id=\"id_5d75ba5d-7da8-4060-b5ab-a9e28bf59f88\">\n",
              "    <style>\n",
              "      .colab-df-generate {\n",
              "        background-color: #E8F0FE;\n",
              "        border: none;\n",
              "        border-radius: 50%;\n",
              "        cursor: pointer;\n",
              "        display: none;\n",
              "        fill: #1967D2;\n",
              "        height: 32px;\n",
              "        padding: 0 0 0 0;\n",
              "        width: 32px;\n",
              "      }\n",
              "\n",
              "      .colab-df-generate:hover {\n",
              "        background-color: #E2EBFA;\n",
              "        box-shadow: 0px 1px 2px rgba(60, 64, 67, 0.3), 0px 1px 3px 1px rgba(60, 64, 67, 0.15);\n",
              "        fill: #174EA6;\n",
              "      }\n",
              "\n",
              "      [theme=dark] .colab-df-generate {\n",
              "        background-color: #3B4455;\n",
              "        fill: #D2E3FC;\n",
              "      }\n",
              "\n",
              "      [theme=dark] .colab-df-generate:hover {\n",
              "        background-color: #434B5C;\n",
              "        box-shadow: 0px 1px 3px 1px rgba(0, 0, 0, 0.15);\n",
              "        filter: drop-shadow(0px 1px 2px rgba(0, 0, 0, 0.3));\n",
              "        fill: #FFFFFF;\n",
              "      }\n",
              "    </style>\n",
              "    <button class=\"colab-df-generate\" onclick=\"generateWithVariable('test_result')\"\n",
              "            title=\"Generate code using this dataframe.\"\n",
              "            style=\"display:none;\">\n",
              "\n",
              "  <svg xmlns=\"http://www.w3.org/2000/svg\" height=\"24px\"viewBox=\"0 0 24 24\"\n",
              "       width=\"24px\">\n",
              "    <path d=\"M7,19H8.4L18.45,9,17,7.55,7,17.6ZM5,21V16.75L18.45,3.32a2,2,0,0,1,2.83,0l1.4,1.43a1.91,1.91,0,0,1,.58,1.4,1.91,1.91,0,0,1-.58,1.4L9.25,21ZM18.45,9,17,7.55Zm-12,3A5.31,5.31,0,0,0,4.9,8.1,5.31,5.31,0,0,0,1,6.5,5.31,5.31,0,0,0,4.9,4.9,5.31,5.31,0,0,0,6.5,1,5.31,5.31,0,0,0,8.1,4.9,5.31,5.31,0,0,0,12,6.5,5.46,5.46,0,0,0,6.5,12Z\"/>\n",
              "  </svg>\n",
              "    </button>\n",
              "    <script>\n",
              "      (() => {\n",
              "      const buttonEl =\n",
              "        document.querySelector('#id_5d75ba5d-7da8-4060-b5ab-a9e28bf59f88 button.colab-df-generate');\n",
              "      buttonEl.style.display =\n",
              "        google.colab.kernel.accessAllowed ? 'block' : 'none';\n",
              "\n",
              "      buttonEl.onclick = () => {\n",
              "        google.colab.notebook.generateWithVariable('test_result');\n",
              "      }\n",
              "      })();\n",
              "    </script>\n",
              "  </div>\n",
              "\n",
              "    </div>\n",
              "  </div>\n"
            ],
            "application/vnd.google.colaboratory.intrinsic+json": {
              "type": "dataframe",
              "variable_name": "test_result",
              "summary": "{\n  \"name\": \"test_result\",\n  \"rows\": 7,\n  \"fields\": [\n    {\n      \"column\": \"Model\",\n      \"properties\": {\n        \"dtype\": \"string\",\n        \"num_unique_values\": 7,\n        \"samples\": [\n          \"Logistic Regression Test\",\n          \"Decision Tree Test\",\n          \"Naive Beys Test\"\n        ],\n        \"semantic_type\": \"\",\n        \"description\": \"\"\n      }\n    },\n    {\n      \"column\": \"Accuracy\",\n      \"properties\": {\n        \"dtype\": \"number\",\n        \"std\": 12.361253789082042,\n        \"min\": 56.00000000000001,\n        \"max\": 92.25,\n        \"num_unique_values\": 7,\n        \"samples\": [\n          92.25,\n          83.5,\n          79.25\n        ],\n        \"semantic_type\": \"\",\n        \"description\": \"\"\n      }\n    },\n    {\n      \"column\": \"F1\",\n      \"properties\": {\n        \"dtype\": \"number\",\n        \"std\": 12.49349238758856,\n        \"min\": 55.36974168289805,\n        \"max\": 92.03166867101292,\n        \"num_unique_values\": 7,\n        \"samples\": [\n          92.03166867101292,\n          83.06500806280293,\n          78.84169685753213\n        ],\n        \"semantic_type\": \"\",\n        \"description\": \"\"\n      }\n    },\n    {\n      \"column\": \"Precision\",\n      \"properties\": {\n        \"dtype\": \"number\",\n        \"std\": 11.806020529610612,\n        \"min\": 57.26018109893997,\n        \"max\": 92.00243019391955,\n        \"num_unique_values\": 7,\n        \"samples\": [\n          92.00243019391955,\n          83.08187019647661,\n          79.39863445378151\n        ],\n        \"semantic_type\": \"\",\n        \"description\": \"\"\n      }\n    },\n    {\n      \"column\": \"Recall\",\n      \"properties\": {\n        \"dtype\": \"number\",\n        \"std\": 12.545603574942595,\n        \"min\": 55.30294433827042,\n        \"max\": 92.07795827361045,\n        \"num_unique_values\": 7,\n        \"samples\": [\n          92.07795827361045,\n          83.11240842490844,\n          78.78180243669374\n        ],\n        \"semantic_type\": \"\",\n        \"description\": \"\"\n      }\n    }\n  ]\n}"
            }
          },
          "metadata": {},
          "execution_count": 905
        }
      ]
    },
    {
      "cell_type": "markdown",
      "source": [
        "## Displaying how data testing as a bar graph"
      ],
      "metadata": {
        "id": "jIXYuEIeGtfx"
      }
    },
    {
      "cell_type": "code",
      "source": [
        "import matplotlib.pyplot as plt\n",
        "\n",
        "models = ['Logistic Regression', 'Decision Tree', 'Random Forest', 'Gboost', 'SVM', 'Naive Bayes', 'KNN']\n",
        "accuracy = [92.25, 83.50, 88.50, 90.00, 86.50, 79.25, 56.00]\n",
        "\n",
        "# Sort the models and accuracy scores together\n",
        "sorted_data = sorted(zip(models, accuracy), key=lambda x: x[1], reverse=True)\n",
        "sorted_models, sorted_accuracy = zip(*sorted_data)\n",
        "\n",
        "# Set up the figure and axes\n",
        "fig, ax = plt.subplots(figsize=(10, 6))\n",
        "\n",
        "# Define custom colors for the bars\n",
        "bar_colors = ['skyblue', 'lightgreen', 'lightcoral', 'orange', 'lightgray', 'lightpink', 'lightsalmon']\n",
        "\n",
        "# Create a bar plot with ranking numbers and custom colors\n",
        "bars = ax.bar(range(len(sorted_models)), sorted_accuracy, color=bar_colors)\n",
        "\n",
        "# Customize the plot\n",
        "ax.set_ylabel('Accuracy', fontsize=12)\n",
        "ax.set_title('Accuracy Ranking of Different Models (Testing Data)', fontsize=14, fontweight='bold')\n",
        "ax.spines['top'].set_visible(False)\n",
        "ax.spines['right'].set_visible(False)\n",
        "\n",
        "# Add data labels on top of each bar with both percentage and ranking numbers\n",
        "for i, bar in enumerate(bars):\n",
        "    height = bar.get_height()\n",
        "    ax.annotate(f'{sorted_accuracy[i]:.2f}%\\n{i+1}st', xy=(bar.get_x() + bar.get_width() / 2, height),\n",
        "                xytext=(0, 3), textcoords='offset points', ha='center', va='bottom', fontsize=10)\n",
        "\n",
        "# Set the x-axis tick labels to the sorted model names\n",
        "ax.set_xticks(range(len(sorted_models)))\n",
        "ax.set_xticklabels(sorted_models, rotation=45, ha='right')\n",
        "\n",
        "# Add some space at the top of the plot\n",
        "plt.ylim(top=max(sorted_accuracy) * 1.1)  # Adjust the 1.1 factor to increase or decrease the space\n",
        "\n",
        "# Adjust the layout\n",
        "plt.tight_layout()\n",
        "\n",
        "# Display the plot\n",
        "plt.show()"
      ],
      "metadata": {
        "colab": {
          "base_uri": "https://localhost:8080/",
          "height": 578
        },
        "id": "ujLMdBRtAriA",
        "outputId": "56489ddd-a89d-427c-e1c3-1b762498adeb"
      },
      "execution_count": 906,
      "outputs": [
        {
          "output_type": "display_data",
          "data": {
            "text/plain": [
              "<Figure size 1000x600 with 1 Axes>"
            ],
            "image/png": "[encoded data removed]"
          },
          "metadata": {}
        }
      ]
    },
    {
      "cell_type": "markdown",
      "source": [
        "The best model that fits to my dataset is Logistic Regresssion, Cause it has the Highest Value of Accuracy"
      ],
      "metadata": {
        "id": "pyw-j9FqfZfa"
      }
    },
    {
      "cell_type": "markdown",
      "source": [
        "# Part 9: Predicting all the models"
      ],
      "metadata": {
        "id": "rHrMyq9IasIh"
      }
    },
    {
      "cell_type": "code",
      "source": [
        "# saadaalin ku sameey 7daani X_test\n",
        "\n",
        "# logisti regression : output will be only: price_prediction(0: low price, 1: normal price, 2: hight price, 3: high price)\n",
        "lr_prediction = lr.predict(X_test)\n",
        "# decision tree\n",
        "dt_prediction = dt.predict(X_test)\n",
        "# random forest\n",
        "rf_prediction = rf.predict(X_test)\n",
        "# gradient boosting\n",
        "gb_prediction = gb.predict(X_test)\n",
        "# svm\n",
        "svm_prediction = svm.predict(X_test)\n",
        "#  naive beys\n",
        "nb_prediction = nb.predict(X_test)\n",
        "#  knn\n",
        "knn_prediction = knn.predict(X_test)"
      ],
      "metadata": {
        "id": "aZO5cNgFazgA"
      },
      "execution_count": 918,
      "outputs": []
    },
    {
      "cell_type": "code",
      "source": [
        "\n",
        "\n",
        "# ...........................................LOGISTIC REGRESSION.........................................\n",
        "# Create a new DataFrame with the predicted labels and actual values\n",
        "output_data = pd.DataFrame({'Predicted Lr': lr_prediction, 'Actual ': y_test})\n",
        "\n",
        "# Specify the filename for the output Excel file\n",
        "output_filename = 'predicted_actual_lr.xlsx'\n",
        "\n",
        "# Save the DataFrame to Excel\n",
        "output_data.to_excel(output_filename, index=False)\n",
        "\n",
        "print(f\"Predicted output saved to {output_filename}\")"
      ],
      "metadata": {
        "colab": {
          "base_uri": "https://localhost:8080/"
        },
        "id": "uNJPTl-Wazmm",
        "outputId": "d4a2cb03-c610-4ac6-cb71-3f20b1580115"
      },
      "execution_count": 919,
      "outputs": [
        {
          "output_type": "stream",
          "name": "stdout",
          "text": [
            "Predicted output saved to predicted_actual_lr.xlsx\n"
          ]
        }
      ]
    },
    {
      "cell_type": "code",
      "source": [
        "\n",
        "\n",
        "# ...........................................DECISION TREE.........................................\n",
        "# Create a new DataFrame with the predicted labels and actual values\n",
        "output_data = pd.DataFrame({'Predicted dt': dt_prediction, 'Actual ': y_test})\n",
        "\n",
        "# Specify the filename for the output Excel file\n",
        "output_filename = 'predicted_actual_dt.xlsx'\n",
        "\n",
        "# Save the DataFrame to Excel\n",
        "output_data.to_excel(output_filename, index=False)\n",
        "\n",
        "print(f\"Predicted output saved to {output_filename}\")"
      ],
      "metadata": {
        "colab": {
          "base_uri": "https://localhost:8080/"
        },
        "id": "SX4QnI08azsc",
        "outputId": "c6c229f4-25a3-4b86-cc03-f48ff158ef79"
      },
      "execution_count": 920,
      "outputs": [
        {
          "output_type": "stream",
          "name": "stdout",
          "text": [
            "Predicted output saved to predicted_actual_dt.xlsx\n"
          ]
        }
      ]
    },
    {
      "cell_type": "code",
      "source": [
        "\n",
        "\n",
        "# ...........................................DECISION TREE.........................................\n",
        "# Create a new DataFrame with the predicted labels and actual values\n",
        "output_data = pd.DataFrame({'Predicted rf': rf_prediction, 'Actual ': y_test})\n",
        "\n",
        "# Specify the filename for the output Excel file\n",
        "output_filename = 'predicted_actual_rf.xlsx'\n",
        "\n",
        "# Save the DataFrame to Excel\n",
        "output_data.to_excel(output_filename, index=False)\n",
        "\n",
        "print(f\"Predicted output saved to {output_filename}\")"
      ],
      "metadata": {
        "colab": {
          "base_uri": "https://localhost:8080/"
        },
        "id": "au2eccJ2azx-",
        "outputId": "2ba6528c-e4a6-4a9c-d17b-76ca1bfbf588"
      },
      "execution_count": 921,
      "outputs": [
        {
          "output_type": "stream",
          "name": "stdout",
          "text": [
            "Predicted output saved to predicted_actual_rf.xlsx\n"
          ]
        }
      ]
    },
    {
      "cell_type": "code",
      "source": [
        "\n",
        "\n",
        "# ...........................................DECISION TREE.........................................\n",
        "# Create a new DataFrame with the predicted labels and actual values\n",
        "output_data = pd.DataFrame({'Predicted gb': gb_prediction, 'Actual ': y_test})\n",
        "\n",
        "# Specify the filename for the output Excel file\n",
        "output_filename = 'predicted_actual_gb.xlsx'\n",
        "\n",
        "# Save the DataFrame to Excel\n",
        "output_data.to_excel(output_filename, index=False)\n",
        "\n",
        "print(f\"Predicted output saved to {output_filename}\")"
      ],
      "metadata": {
        "colab": {
          "base_uri": "https://localhost:8080/"
        },
        "id": "MqFnU8AOaz30",
        "outputId": "eff49466-1699-42e5-ac5d-21de531c7337"
      },
      "execution_count": 922,
      "outputs": [
        {
          "output_type": "stream",
          "name": "stdout",
          "text": [
            "Predicted output saved to predicted_actual_gb.xlsx\n"
          ]
        }
      ]
    },
    {
      "cell_type": "code",
      "source": [
        "\n",
        "\n",
        "# ...........................................DECISION TREE.........................................\n",
        "# Create a new DataFrame with the predicted labels and actual values\n",
        "output_data = pd.DataFrame({'Predicted svm': svm_prediction, 'Actual ': y_test})\n",
        "\n",
        "# Specify the filename for the output Excel file\n",
        "output_filename = 'predicted_actual_svm.xlsx'\n",
        "\n",
        "# Save the DataFrame to Excel\n",
        "output_data.to_excel(output_filename, index=False)\n",
        "\n",
        "print(f\"Predicted output saved to {output_filename}\")"
      ],
      "metadata": {
        "colab": {
          "base_uri": "https://localhost:8080/"
        },
        "id": "fptCja3faz9t",
        "outputId": "a6206a72-bc2b-4a4b-a264-d52b27676f2d"
      },
      "execution_count": 923,
      "outputs": [
        {
          "output_type": "stream",
          "name": "stdout",
          "text": [
            "Predicted output saved to predicted_actual_svm.xlsx\n"
          ]
        }
      ]
    },
    {
      "cell_type": "code",
      "source": [
        "\n",
        "\n",
        "# ...........................................DECISION TREE.........................................\n",
        "# Create a new DataFrame with the predicted labels and actual values\n",
        "output_data = pd.DataFrame({'Predicted nb': nb_prediction, 'Actual ': y_test})\n",
        "\n",
        "# Specify the filename for the output Excel file\n",
        "output_filename = 'predicted_actual_nb.xlsx'\n",
        "\n",
        "# Save the DataFrame to Excel\n",
        "output_data.to_excel(output_filename, index=False)\n",
        "\n",
        "print(f\"Predicted output saved to {output_filename}\")"
      ],
      "metadata": {
        "colab": {
          "base_uri": "https://localhost:8080/"
        },
        "id": "Uy8AFItNa0EK",
        "outputId": "93105a77-3c82-4792-d72c-5bfbf992d3af"
      },
      "execution_count": 924,
      "outputs": [
        {
          "output_type": "stream",
          "name": "stdout",
          "text": [
            "Predicted output saved to predicted_actual_nb.xlsx\n"
          ]
        }
      ]
    },
    {
      "cell_type": "code",
      "source": [
        "\n",
        "\n",
        "# ...........................................DECISION TREE.........................................\n",
        "# Create a new DataFrame with the predicted labels and actual values\n",
        "output_data = pd.DataFrame({'Predicted knn': knn_prediction, 'Actual ': y_test})\n",
        "\n",
        "# Specify the filename for the output Excel file\n",
        "output_filename = 'predicted_actual_knn.xlsx'\n",
        "\n",
        "# Save the DataFrame to Excel\n",
        "output_data.to_excel(output_filename, index=False)\n",
        "\n",
        "print(f\"Predicted output saved to {output_filename}\")"
      ],
      "metadata": {
        "colab": {
          "base_uri": "https://localhost:8080/"
        },
        "id": "koYiVeDacbgz",
        "outputId": "e0380fef-a193-44a5-91fd-76802e21e769"
      },
      "execution_count": 925,
      "outputs": [
        {
          "output_type": "stream",
          "name": "stdout",
          "text": [
            "Predicted output saved to predicted_actual_knn.xlsx\n"
          ]
        }
      ]
    },
    {
      "cell_type": "code",
      "source": [],
      "metadata": {
        "id": "KSTcoDnMfGiV"
      },
      "execution_count": 925,
      "outputs": []
    },
    {
      "cell_type": "code",
      "source": [
        "#  .................................. SVM\n",
        "#  ....................... HOW ARE TRULY PREDICTED AND HOW ARE WRONGLY PREDICTED......................\n",
        "\n",
        "# Read the Excel file\n",
        "df = pd.read_excel('predicted_actual_svm.xlsx')\n",
        "\n",
        "# Initialize counters\n",
        "correct_count = 0\n",
        "wrong_count = 0\n",
        "\n",
        "# Iterate through the rows in the DataFrame\n",
        "for index, row in df.iterrows():\n",
        "    predicted = row['Predicted svm']\n",
        "    actual = row['Actual ']\n",
        "\n",
        "    # Check if the predicted value matches the actual value\n",
        "    if predicted == actual:\n",
        "        correct_count += 1\n",
        "    else:\n",
        "        wrong_count += 1\n",
        "corrected_svm = correct_count\n",
        "wrong_svm = wrong_count\n",
        "# Print the counts\n",
        "print(\"Correctly predicted count:\", correct_count)\n",
        "print(\"Wrongly predicted count:\", wrong_count)"
      ],
      "metadata": {
        "colab": {
          "base_uri": "https://localhost:8080/"
        },
        "id": "_VgOyN2LfGn2",
        "outputId": "de254c92-bd19-4583-dbb2-9a8443532a7a"
      },
      "execution_count": 926,
      "outputs": [
        {
          "output_type": "stream",
          "name": "stdout",
          "text": [
            "Correctly predicted count: 346\n",
            "Wrongly predicted count: 54\n"
          ]
        }
      ]
    },
    {
      "cell_type": "code",
      "source": [
        "#  .................................. DECISION TREE\n",
        "#  ....................... HOW ARE TRULY PREDICTED AND HOW ARE WRONGLY PREDICTED......................\n",
        "\n",
        "# Read the Excel file\n",
        "df = pd.read_excel('predicted_actual_dt.xlsx')\n",
        "\n",
        "# Initialize counters\n",
        "correct_count = 0\n",
        "wrong_count = 0\n",
        "\n",
        "# Iterate through the rows in the DataFrame\n",
        "for index, row in df.iterrows():\n",
        "    predicted = row['Predicted dt']\n",
        "    actual = row['Actual ']\n",
        "\n",
        "    # Check if the predicted value matches the actual value\n",
        "    if predicted == actual:\n",
        "        correct_count += 1\n",
        "    else:\n",
        "        wrong_count += 1\n",
        "corrected_dt = correct_count\n",
        "wrong_dt = wrong_count\n",
        "# Print the counts\n",
        "print(\"Correctly predicted count:\", correct_count)\n",
        "print(\"Wrongly predicted count:\", wrong_count)"
      ],
      "metadata": {
        "colab": {
          "base_uri": "https://localhost:8080/"
        },
        "id": "yl-2RWqzfGx3",
        "outputId": "a4f33f60-cb7a-4e02-f00a-4ac0455cd914"
      },
      "execution_count": 927,
      "outputs": [
        {
          "output_type": "stream",
          "name": "stdout",
          "text": [
            "Correctly predicted count: 334\n",
            "Wrongly predicted count: 66\n"
          ]
        }
      ]
    },
    {
      "cell_type": "code",
      "source": [
        "#  .................................. GRADIENT BOOSTING\n",
        "#  ....................... HOW ARE TRULY PREDICTED AND HOW ARE WRONGLY PREDICTED......................\n",
        "\n",
        "# Read the Excel file\n",
        "df = pd.read_excel('predicted_actual_gb.xlsx')\n",
        "\n",
        "# Initialize counters\n",
        "correct_count = 0\n",
        "wrong_count = 0\n",
        "\n",
        "# Iterate through the rows in the DataFrame\n",
        "for index, row in df.iterrows():\n",
        "    predicted = row['Predicted gb']\n",
        "    actual = row['Actual ']\n",
        "\n",
        "    # Check if the predicted value matches the actual value\n",
        "    if predicted == actual:\n",
        "        correct_count += 1\n",
        "    else:\n",
        "        wrong_count += 1\n",
        "corrected_gb = correct_count\n",
        "wrong_gb = wrong_count\n",
        "# Print the counts\n",
        "print(\"Correctly predicted count:\", correct_count)\n",
        "print(\"Wrongly predicted count:\", wrong_count)"
      ],
      "metadata": {
        "colab": {
          "base_uri": "https://localhost:8080/"
        },
        "id": "VXs0po5rfG5U",
        "outputId": "3641ae8d-c82f-4cfd-b8da-9b3b10bf6ef2"
      },
      "execution_count": 928,
      "outputs": [
        {
          "output_type": "stream",
          "name": "stdout",
          "text": [
            "Correctly predicted count: 360\n",
            "Wrongly predicted count: 40\n"
          ]
        }
      ]
    },
    {
      "cell_type": "code",
      "source": [
        "#  .................................. KNN\n",
        "#  ....................... HOW ARE TRULY PREDICTED AND HOW ARE WRONGLY PREDICTED......................\n",
        "\n",
        "# Read the Excel file\n",
        "df = pd.read_excel('predicted_actual_knn.xlsx')\n",
        "\n",
        "# Initialize counters\n",
        "correct_count = 0\n",
        "wrong_count = 0\n",
        "\n",
        "# Iterate through the rows in the DataFrame\n",
        "for index, row in df.iterrows():\n",
        "    predicted = row['Predicted knn']\n",
        "    actual = row['Actual ']\n",
        "\n",
        "    # Check if the predicted value matches the actual value\n",
        "    if predicted == actual:\n",
        "        correct_count += 1\n",
        "    else:\n",
        "        wrong_count += 1\n",
        "corrected_knn = correct_count\n",
        "wrong_knn = wrong_count\n",
        "# Print the counts\n",
        "print(\"Correctly predicted count:\", correct_count)\n",
        "print(\"Wrongly predicted count:\", wrong_count)"
      ],
      "metadata": {
        "colab": {
          "base_uri": "https://localhost:8080/"
        },
        "id": "zCH-z3c7hCS7",
        "outputId": "017f079f-b331-438b-9fa3-250746d7eb51"
      },
      "execution_count": 929,
      "outputs": [
        {
          "output_type": "stream",
          "name": "stdout",
          "text": [
            "Correctly predicted count: 224\n",
            "Wrongly predicted count: 176\n"
          ]
        }
      ]
    },
    {
      "cell_type": "code",
      "source": [
        "#  .................................. LOGISTIC REGRESSION\n",
        "#  ....................... HOW ARE TRULY PREDICTED AND HOW ARE WRONGLY PREDICTED......................\n",
        "\n",
        "# Read the Excel file\n",
        "df = pd.read_excel('predicted_actual_lr.xlsx')\n",
        "\n",
        "# Initialize counters\n",
        "correct_count = 0\n",
        "wrong_count = 0\n",
        "\n",
        "# Iterate through the rows in the DataFrame\n",
        "for index, row in df.iterrows():\n",
        "    predicted = row['Predicted Lr']\n",
        "    actual = row['Actual ']\n",
        "\n",
        "    # Check if the predicted value matches the actual value\n",
        "    if predicted == actual:\n",
        "        correct_count += 1\n",
        "    else:\n",
        "        wrong_count += 1\n",
        "corrected_lr = correct_count\n",
        "wrong_lr = wrong_count\n",
        "# Print the counts\n",
        "print(\"Correctly predicted count:\", correct_count)\n",
        "print(\"Wrongly predicted count:\", wrong_count)"
      ],
      "metadata": {
        "colab": {
          "base_uri": "https://localhost:8080/"
        },
        "id": "Ux6wtT0ShIzc",
        "outputId": "ce2a7747-b6f0-4f7f-813b-ce897e3ae34f"
      },
      "execution_count": 930,
      "outputs": [
        {
          "output_type": "stream",
          "name": "stdout",
          "text": [
            "Correctly predicted count: 369\n",
            "Wrongly predicted count: 31\n"
          ]
        }
      ]
    },
    {
      "cell_type": "markdown",
      "source": [
        "## Visualizing the correct and wronlgy predicted"
      ],
      "metadata": {
        "id": "HLobVUfZuG7i"
      }
    },
    {
      "cell_type": "code",
      "source": [
        "import matplotlib.pyplot as plt\n",
        "import numpy as np\n",
        "\n",
        "# Data\n",
        "labels = ['Logistic Regression', 'Decision Tree', 'Gradient Boosting', 'KNN', 'Naive Bayes', 'Random Forest', 'SVM']\n",
        "corrected_counts = [corrected_lr, corrected_dt, corrected_gb, corrected_knn, corrected_nb, corrected_rf, corrected_svm]\n",
        "wrong_counts = [wrong_lr, wrong_dt, wrong_gb, wrong_knn, wrong_nb, wrong_rf, wrong_svm]\n",
        "\n",
        "# Sort the algorithms based on corrected counts\n",
        "sorted_indices = np.argsort(corrected_counts)[::-1]\n",
        "sorted_labels = [labels[i] for i in sorted_indices]\n",
        "sorted_corrected_counts = [corrected_counts[i] for i in sorted_indices]\n",
        "sorted_wrong_counts = [wrong_counts[i] for i in sorted_indices]\n",
        "\n",
        "# Define individual colors for each bar\n",
        "corrected_colors = ['#1f77b4', '#ff7f0e', '#2ca02c', '#d62728', '#9467bd', '#8c564b', '#e377c2']\n",
        "wrong_colors = ['#1f77b4', '#ff7f0e', '#2ca02c', '#d62728', '#9467bd', '#8c564b', '#e377c2']\n",
        "\n",
        "# Create the figure and axes\n",
        "fig, (ax1, ax2) = plt.subplots(2, 1, figsize=(8, 8))\n",
        "\n",
        "# Bar graph for correctly predicted counts\n",
        "ax1.bar(range(len(sorted_labels)), sorted_corrected_counts, color=corrected_colors)\n",
        "ax1.set_ylabel('Correctly Predicted Counts')\n",
        "ax1.set_title('Correctly Predicted Counts by Algorithm')\n",
        "\n",
        "# Set the x-axis tick labels as rankings\n",
        "ax1.set_xticks(range(len(sorted_labels)))\n",
        "ax1.set_xticklabels([f'{i+1}. {label}' for i, label in enumerate(sorted_labels)], rotation=45, ha='right')\n",
        "\n",
        "# Add ranking number and count at the top of each bar\n",
        "for i, count in enumerate(sorted_corrected_counts):\n",
        "    ax1.text(i, count, f'{i+1}\\n({count})', ha='center', va='bottom')\n",
        "\n",
        "# Bar graph for wrongly predicted counts\n",
        "ax2.bar(range(len(sorted_labels)), sorted_wrong_counts, color=wrong_colors)\n",
        "ax2.set_ylabel('Wrongly Predicted Counts')\n",
        "ax2.set_title('Wrongly Predicted Counts by Algorithm')\n",
        "\n",
        "# Set the x-axis tick labels as rankings\n",
        "ax2.set_xticks(range(len(sorted_labels)))\n",
        "ax2.set_xticklabels([f'{i+1}. {label}' for i, label in enumerate(sorted_labels)], rotation=45, ha='right')\n",
        "\n",
        "# Add ranking number and count at the top of each bar\n",
        "for i, count in enumerate(sorted_wrong_counts):\n",
        "    ax2.text(i, count, f'{i+1}\\n({count})', ha='center', va='bottom')\n",
        "\n",
        "# Adjust the y-axis limits to add more space at the top\n",
        "ax1.set_ylim(top=max(sorted_corrected_counts) * 1.3)\n",
        "ax2.set_ylim(top=max(sorted_wrong_counts) * 1.3)\n",
        "\n",
        "# Adjust the layout\n",
        "plt.tight_layout()\n",
        "\n",
        "# Save the figure (optional)\n",
        "plt.savefig('presentation_graph.png', dpi=300)\n",
        "\n",
        "# Display the bar graphs\n",
        "plt.show()"
      ],
      "metadata": {
        "colab": {
          "base_uri": "https://localhost:8080/",
          "height": 807
        },
        "id": "efI-jlBHt4LS",
        "outputId": "b6b5f0e2-8831-472f-d1ea-8501613b3c85"
      },
      "execution_count": 947,
      "outputs": [
        {
          "output_type": "display_data",
          "data": {
            "text/plain": [
              "<Figure size 800x800 with 2 Axes>"
            ],
            "image/png": "[encoded data removed]"
          },
          "metadata": {}
        }
      ]
    },
    {
      "cell_type": "markdown",
      "source": [
        "# Part 10: Importing and working with test dataset"
      ],
      "metadata": {
        "id": "vgk_JVQq61Do"
      }
    },
    {
      "cell_type": "code",
      "source": [
        "test  = pd.read_csv(\"test.csv\")"
      ],
      "metadata": {
        "id": "ykjX36c06-Bw"
      },
      "execution_count": 907,
      "outputs": []
    },
    {
      "cell_type": "code",
      "source": [
        "test.head()"
      ],
      "metadata": {
        "colab": {
          "base_uri": "https://localhost:8080/",
          "height": 256
        },
        "id": "T4xmkSF96-Fi",
        "outputId": "37ccfbf2-8e17-4fd5-be57-d5f9ed78e114"
      },
      "execution_count": 908,
      "outputs": [
        {
          "output_type": "execute_result",
          "data": {
            "text/plain": [
              "   id  battery_power  blue  clock_speed  dual_sim  fc  four_g  int_memory  \\\n",
              "0   1           1043     1          1.8         1  14       0           5   \n",
              "1   2            841     1          0.5         1   4       1          61   \n",
              "2   3           1807     1          2.8         0   1       0          27   \n",
              "3   4           1546     0          0.5         1  18       1          25   \n",
              "4   5           1434     0          1.4         0  11       1          49   \n",
              "\n",
              "   m_dep  mobile_wt  ...  pc  px_height  px_width   ram  sc_h  sc_w  \\\n",
              "0    0.1        193  ...  16        226      1412  3476    12     7   \n",
              "1    0.8        191  ...  12        746       857  3895     6     0   \n",
              "2    0.9        186  ...   4       1270      1366  2396    17    10   \n",
              "3    0.5         96  ...  20        295      1752  3893    10     0   \n",
              "4    0.5        108  ...  18        749       810  1773    15     8   \n",
              "\n",
              "   talk_time  three_g  touch_screen  wifi  \n",
              "0          2        0             1     0  \n",
              "1          7        1             0     0  \n",
              "2         10        0             1     1  \n",
              "3          7        1             1     0  \n",
              "4          7        1             0     1  \n",
              "\n",
              "[5 rows x 21 columns]"
            ],
            "text/html": [
              "\n",
              "  <div id=\"df-bd7f4d40-a235-42e0-9c6d-432abd49ba37\" class=\"colab-df-container\">\n",
              "    <div>\n",
              "<style scoped>\n",
              "    .dataframe tbody tr th:only-of-type {\n",
              "        vertical-align: middle;\n",
              "    }\n",
              "\n",
              "    .dataframe tbody tr th {\n",
              "        vertical-align: top;\n",
              "    }\n",
              "\n",
              "    .dataframe thead th {\n",
              "        text-align: right;\n",
              "    }\n",
              "</style>\n",
              "<table border=\"1\" class=\"dataframe\">\n",
              "  <thead>\n",
              "    <tr style=\"text-align: right;\">\n",
              "      <th></th>\n",
              "      <th>id</th>\n",
              "      <th>battery_power</th>\n",
              "      <th>blue</th>\n",
              "      <th>clock_speed</th>\n",
              "      <th>dual_sim</th>\n",
              "      <th>fc</th>\n",
              "      <th>four_g</th>\n",
              "      <th>int_memory</th>\n",
              "      <th>m_dep</th>\n",
              "      <th>mobile_wt</th>\n",
              "      <th>...</th>\n",
              "      <th>pc</th>\n",
              "      <th>px_height</th>\n",
              "      <th>px_width</th>\n",
              "      <th>ram</th>\n",
              "      <th>sc_h</th>\n",
              "      <th>sc_w</th>\n",
              "      <th>talk_time</th>\n",
              "      <th>three_g</th>\n",
              "      <th>touch_screen</th>\n",
              "      <th>wifi</th>\n",
              "    </tr>\n",
              "  </thead>\n",
              "  <tbody>\n",
              "    <tr>\n",
              "      <th>0</th>\n",
              "      <td>1</td>\n",
              "      <td>1043</td>\n",
              "      <td>1</td>\n",
              "      <td>1.8</td>\n",
              "      <td>1</td>\n",
              "      <td>14</td>\n",
              "      <td>0</td>\n",
              "      <td>5</td>\n",
              "      <td>0.1</td>\n",
              "      <td>193</td>\n",
              "      <td>...</td>\n",
              "      <td>16</td>\n",
              "      <td>226</td>\n",
              "      <td>1412</td>\n",
              "      <td>3476</td>\n",
              "      <td>12</td>\n",
              "      <td>7</td>\n",
              "      <td>2</td>\n",
              "      <td>0</td>\n",
              "      <td>1</td>\n",
              "      <td>0</td>\n",
              "    </tr>\n",
              "    <tr>\n",
              "      <th>1</th>\n",
              "      <td>2</td>\n",
              "      <td>841</td>\n",
              "      <td>1</td>\n",
              "      <td>0.5</td>\n",
              "      <td>1</td>\n",
              "      <td>4</td>\n",
              "      <td>1</td>\n",
              "      <td>61</td>\n",
              "      <td>0.8</td>\n",
              "      <td>191</td>\n",
              "      <td>...</td>\n",
              "      <td>12</td>\n",
              "      <td>746</td>\n",
              "      <td>857</td>\n",
              "      <td>3895</td>\n",
              "      <td>6</td>\n",
              "      <td>0</td>\n",
              "      <td>7</td>\n",
              "      <td>1</td>\n",
              "      <td>0</td>\n",
              "      <td>0</td>\n",
              "    </tr>\n",
              "    <tr>\n",
              "      <th>2</th>\n",
              "      <td>3</td>\n",
              "      <td>1807</td>\n",
              "      <td>1</td>\n",
              "      <td>2.8</td>\n",
              "      <td>0</td>\n",
              "      <td>1</td>\n",
              "      <td>0</td>\n",
              "      <td>27</td>\n",
              "      <td>0.9</td>\n",
              "      <td>186</td>\n",
              "      <td>...</td>\n",
              "      <td>4</td>\n",
              "      <td>1270</td>\n",
              "      <td>1366</td>\n",
              "      <td>2396</td>\n",
              "      <td>17</td>\n",
              "      <td>10</td>\n",
              "      <td>10</td>\n",
              "      <td>0</td>\n",
              "      <td>1</td>\n",
              "      <td>1</td>\n",
              "    </tr>\n",
              "    <tr>\n",
              "      <th>3</th>\n",
              "      <td>4</td>\n",
              "      <td>1546</td>\n",
              "      <td>0</td>\n",
              "      <td>0.5</td>\n",
              "      <td>1</td>\n",
              "      <td>18</td>\n",
              "      <td>1</td>\n",
              "      <td>25</td>\n",
              "      <td>0.5</td>\n",
              "      <td>96</td>\n",
              "      <td>...</td>\n",
              "      <td>20</td>\n",
              "      <td>295</td>\n",
              "      <td>1752</td>\n",
              "      <td>3893</td>\n",
              "      <td>10</td>\n",
              "      <td>0</td>\n",
              "      <td>7</td>\n",
              "      <td>1</td>\n",
              "      <td>1</td>\n",
              "      <td>0</td>\n",
              "    </tr>\n",
              "    <tr>\n",
              "      <th>4</th>\n",
              "      <td>5</td>\n",
              "      <td>1434</td>\n",
              "      <td>0</td>\n",
              "      <td>1.4</td>\n",
              "      <td>0</td>\n",
              "      <td>11</td>\n",
              "      <td>1</td>\n",
              "      <td>49</td>\n",
              "      <td>0.5</td>\n",
              "      <td>108</td>\n",
              "      <td>...</td>\n",
              "      <td>18</td>\n",
              "      <td>749</td>\n",
              "      <td>810</td>\n",
              "      <td>1773</td>\n",
              "      <td>15</td>\n",
              "      <td>8</td>\n",
              "      <td>7</td>\n",
              "      <td>1</td>\n",
              "      <td>0</td>\n",
              "      <td>1</td>\n",
              "    </tr>\n",
              "  </tbody>\n",
              "</table>\n",
              "<p>5 rows × 21 columns</p>\n",
              "</div>\n",
              "    <div class=\"colab-df-buttons\">\n",
              "\n",
              "  <div class=\"colab-df-container\">\n",
              "    <button class=\"colab-df-convert\" onclick=\"convertToInteractive('df-bd7f4d40-a235-42e0-9c6d-432abd49ba37')\"\n",
              "            title=\"Convert this dataframe to an interactive table.\"\n",
              "            style=\"display:none;\">\n",
              "\n",
              "  <svg xmlns=\"http://www.w3.org/2000/svg\" height=\"24px\" viewBox=\"0 -960 960 960\">\n",
              "    <path d=\"M120-120v-720h720v720H120Zm60-500h600v-160H180v160Zm220 220h160v-160H400v160Zm0 220h160v-160H400v160ZM180-400h160v-160H180v160Zm440 0h160v-160H620v160ZM180-180h160v-160H180v160Zm440 0h160v-160H620v160Z\"/>\n",
              "  </svg>\n",
              "    </button>\n",
              "\n",
              "  <style>\n",
              "    .colab-df-container {\n",
              "      display:flex;\n",
              "      gap: 12px;\n",
              "    }\n",
              "\n",
              "    .colab-df-convert {\n",
              "      background-color: #E8F0FE;\n",
              "      border: none;\n",
              "      border-radius: 50%;\n",
              "      cursor: pointer;\n",
              "      display: none;\n",
              "      fill: #1967D2;\n",
              "      height: 32px;\n",
              "      padding: 0 0 0 0;\n",
              "      width: 32px;\n",
              "    }\n",
              "\n",
              "    .colab-df-convert:hover {\n",
              "      background-color: #E2EBFA;\n",
              "      box-shadow: 0px 1px 2px rgba(60, 64, 67, 0.3), 0px 1px 3px 1px rgba(60, 64, 67, 0.15);\n",
              "      fill: #174EA6;\n",
              "    }\n",
              "\n",
              "    .colab-df-buttons div {\n",
              "      margin-bottom: 4px;\n",
              "    }\n",
              "\n",
              "    [theme=dark] .colab-df-convert {\n",
              "      background-color: #3B4455;\n",
              "      fill: #D2E3FC;\n",
              "    }\n",
              "\n",
              "    [theme=dark] .colab-df-convert:hover {\n",
              "      background-color: #434B5C;\n",
              "      box-shadow: 0px 1px 3px 1px rgba(0, 0, 0, 0.15);\n",
              "      filter: drop-shadow(0px 1px 2px rgba(0, 0, 0, 0.3));\n",
              "      fill: #FFFFFF;\n",
              "    }\n",
              "  </style>\n",
              "\n",
              "    <script>\n",
              "      const buttonEl =\n",
              "        document.querySelector('#df-bd7f4d40-a235-42e0-9c6d-432abd49ba37 button.colab-df-convert');\n",
              "      buttonEl.style.display =\n",
              "        google.colab.kernel.accessAllowed ? 'block' : 'none';\n",
              "\n",
              "      async function convertToInteractive(key) {\n",
              "        const element = document.querySelector('#df-bd7f4d40-a235-42e0-9c6d-432abd49ba37');\n",
              "        const dataTable =\n",
              "          await google.colab.kernel.invokeFunction('convertToInteractive',\n",
              "                                                    [key], {});\n",
              "        if (!dataTable) return;\n",
              "\n",
              "        const docLinkHtml = 'Like what you see? Visit the ' +\n",
              "          '<a target=\"_blank\" href=https://colab.research.google.com/notebooks/data_table.ipynb>data table notebook</a>'\n",
              "          + ' to learn more about interactive tables.';\n",
              "        element.innerHTML = '';\n",
              "        dataTable['output_type'] = 'display_data';\n",
              "        await google.colab.output.renderOutput(dataTable, element);\n",
              "        const docLink = document.createElement('div');\n",
              "        docLink.innerHTML = docLinkHtml;\n",
              "        element.appendChild(docLink);\n",
              "      }\n",
              "    </script>\n",
              "  </div>\n",
              "\n",
              "\n",
              "<div id=\"df-7eefc869-461c-4843-b0c4-bbe9550b080f\">\n",
              "  <button class=\"colab-df-quickchart\" onclick=\"quickchart('df-7eefc869-461c-4843-b0c4-bbe9550b080f')\"\n",
              "            title=\"Suggest charts\"\n",
              "            style=\"display:none;\">\n",
              "\n",
              "<svg xmlns=\"http://www.w3.org/2000/svg\" height=\"24px\"viewBox=\"0 0 24 24\"\n",
              "     width=\"24px\">\n",
              "    <g>\n",
              "        <path d=\"M19 3H5c-1.1 0-2 .9-2 2v14c0 1.1.9 2 2 2h14c1.1 0 2-.9 2-2V5c0-1.1-.9-2-2-2zM9 17H7v-7h2v7zm4 0h-2V7h2v10zm4 0h-2v-4h2v4z\"/>\n",
              "    </g>\n",
              "</svg>\n",
              "  </button>\n",
              "\n",
              "<style>\n",
              "  .colab-df-quickchart {\n",
              "      --bg-color: #E8F0FE;\n",
              "      --fill-color: #1967D2;\n",
              "      --hover-bg-color: #E2EBFA;\n",
              "      --hover-fill-color: #174EA6;\n",
              "      --disabled-fill-color: #AAA;\n",
              "      --disabled-bg-color: #DDD;\n",
              "  }\n",
              "\n",
              "  [theme=dark] .colab-df-quickchart {\n",
              "      --bg-color: #3B4455;\n",
              "      --fill-color: #D2E3FC;\n",
              "      --hover-bg-color: #434B5C;\n",
              "      --hover-fill-color: #FFFFFF;\n",
              "      --disabled-bg-color: #3B4455;\n",
              "      --disabled-fill-color: #666;\n",
              "  }\n",
              "\n",
              "  .colab-df-quickchart {\n",
              "    background-color: var(--bg-color);\n",
              "    border: none;\n",
              "    border-radius: 50%;\n",
              "    cursor: pointer;\n",
              "    display: none;\n",
              "    fill: var(--fill-color);\n",
              "    height: 32px;\n",
              "    padding: 0;\n",
              "    width: 32px;\n",
              "  }\n",
              "\n",
              "  .colab-df-quickchart:hover {\n",
              "    background-color: var(--hover-bg-color);\n",
              "    box-shadow: 0 1px 2px rgba(60, 64, 67, 0.3), 0 1px 3px 1px rgba(60, 64, 67, 0.15);\n",
              "    fill: var(--button-hover-fill-color);\n",
              "  }\n",
              "\n",
              "  .colab-df-quickchart-complete:disabled,\n",
              "  .colab-df-quickchart-complete:disabled:hover {\n",
              "    background-color: var(--disabled-bg-color);\n",
              "    fill: var(--disabled-fill-color);\n",
              "    box-shadow: none;\n",
              "  }\n",
              "\n",
              "  .colab-df-spinner {\n",
              "    border: 2px solid var(--fill-color);\n",
              "    border-color: transparent;\n",
              "    border-bottom-color: var(--fill-color);\n",
              "    animation:\n",
              "      spin 1s steps(1) infinite;\n",
              "  }\n",
              "\n",
              "  @keyframes spin {\n",
              "    0% {\n",
              "      border-color: transparent;\n",
              "      border-bottom-color: var(--fill-color);\n",
              "      border-left-color: var(--fill-color);\n",
              "    }\n",
              "    20% {\n",
              "      border-color: transparent;\n",
              "      border-left-color: var(--fill-color);\n",
              "      border-top-color: var(--fill-color);\n",
              "    }\n",
              "    30% {\n",
              "      border-color: transparent;\n",
              "      border-left-color: var(--fill-color);\n",
              "      border-top-color: var(--fill-color);\n",
              "      border-right-color: var(--fill-color);\n",
              "    }\n",
              "    40% {\n",
              "      border-color: transparent;\n",
              "      border-right-color: var(--fill-color);\n",
              "      border-top-color: var(--fill-color);\n",
              "    }\n",
              "    60% {\n",
              "      border-color: transparent;\n",
              "      border-right-color: var(--fill-color);\n",
              "    }\n",
              "    80% {\n",
              "      border-color: transparent;\n",
              "      border-right-color: var(--fill-color);\n",
              "      border-bottom-color: var(--fill-color);\n",
              "    }\n",
              "    90% {\n",
              "      border-color: transparent;\n",
              "      border-bottom-color: var(--fill-color);\n",
              "    }\n",
              "  }\n",
              "</style>\n",
              "\n",
              "  <script>\n",
              "    async function quickchart(key) {\n",
              "      const quickchartButtonEl =\n",
              "        document.querySelector('#' + key + ' button');\n",
              "      quickchartButtonEl.disabled = true;  // To prevent multiple clicks.\n",
              "      quickchartButtonEl.classList.add('colab-df-spinner');\n",
              "      try {\n",
              "        const charts = await google.colab.kernel.invokeFunction(\n",
              "            'suggestCharts', [key], {});\n",
              "      } catch (error) {\n",
              "        console.error('Error during call to suggestCharts:', error);\n",
              "      }\n",
              "      quickchartButtonEl.classList.remove('colab-df-spinner');\n",
              "      quickchartButtonEl.classList.add('colab-df-quickchart-complete');\n",
              "    }\n",
              "    (() => {\n",
              "      let quickchartButtonEl =\n",
              "        document.querySelector('#df-7eefc869-461c-4843-b0c4-bbe9550b080f button');\n",
              "      quickchartButtonEl.style.display =\n",
              "        google.colab.kernel.accessAllowed ? 'block' : 'none';\n",
              "    })();\n",
              "  </script>\n",
              "</div>\n",
              "\n",
              "    </div>\n",
              "  </div>\n"
            ],
            "application/vnd.google.colaboratory.intrinsic+json": {
              "type": "dataframe",
              "variable_name": "test"
            }
          },
          "metadata": {},
          "execution_count": 908
        }
      ]
    },
    {
      "cell_type": "code",
      "source": [
        "test.columns"
      ],
      "metadata": {
        "id": "d6oRTmiD6-JC",
        "colab": {
          "base_uri": "https://localhost:8080/"
        },
        "outputId": "02f1cfa5-67b1-4eef-fdd4-3c62fb123d87"
      },
      "execution_count": 909,
      "outputs": [
        {
          "output_type": "execute_result",
          "data": {
            "text/plain": [
              "Index(['id', 'battery_power', 'blue', 'clock_speed', 'dual_sim', 'fc',\n",
              "       'four_g', 'int_memory', 'm_dep', 'mobile_wt', 'n_cores', 'pc',\n",
              "       'px_height', 'px_width', 'ram', 'sc_h', 'sc_w', 'talk_time', 'three_g',\n",
              "       'touch_screen', 'wifi'],\n",
              "      dtype='object')"
            ]
          },
          "metadata": {},
          "execution_count": 909
        }
      ]
    },
    {
      "cell_type": "markdown",
      "source": [
        "## Feature Engineering on Teset data"
      ],
      "metadata": {
        "id": "ODuRUz3H7FiA"
      }
    },
    {
      "cell_type": "code",
      "source": [
        "\n",
        "# Create new features\n",
        "test['total_camera_megapixels'] = test['fc'] + test['pc']  # Total megapixels of front and primary cameras\n",
        "test['screen_area'] = test['sc_h'] * test['sc_w']  # Screen area in square units\n",
        "test['memory_to_weight_ratio'] = test['int_memory'] / test['mobile_wt']  # Memory to weight ratio\n",
        "test['screen_resolution'] = test['px_width'] * test['px_height']  # Screen resolution in pixels\n",
        "# data['screen_resolution'] = data['px_width'].astype(str) + 'x' + data['px_height'].astype(str)\n",
        "\n",
        "test['processor_speed'] = test['clock_speed'] * test['n_cores']  # Processor speed based on clock speed and number of cores\n",
        "\n",
        "# Assuming your dataset is stored in a pandas DataFrame called 'df'\n",
        "test['ram'] = test['ram'] / 1024\n",
        "test.rename(columns={'ram': 'ram_GB'}, inplace=True)\n",
        "\n",
        "# Network Compatibility:\n",
        "# \"0\" for no network compatibility,\n",
        "# \"1\" for 3G compatibility,\n",
        "# \"2\" for 4G compatibility, and\n",
        "# \"3\" for devices compatible with both 3G and 4G networks.\n",
        "test['network_compatibility'] = test['three_g'] + test['four_g'] * 2\n",
        "\n",
        "# Delete used columns\n",
        "test.drop(['fc', 'pc', 'sc_h', 'sc_w', 'px_height', 'px_width', 'clock_speed', 'int_memory', 'mobile_wt', 'n_cores','three_g', 'four_g'], axis=1, inplace=True)\n",
        "\n"
      ],
      "metadata": {
        "id": "gwx1vG6d6-NN"
      },
      "execution_count": 910,
      "outputs": []
    },
    {
      "cell_type": "code",
      "source": [
        "test.head()"
      ],
      "metadata": {
        "colab": {
          "base_uri": "https://localhost:8080/",
          "height": 226
        },
        "id": "s600Wv4q6-QY",
        "outputId": "09531a24-5800-495f-bc27-e86599ebc16f"
      },
      "execution_count": 911,
      "outputs": [
        {
          "output_type": "execute_result",
          "data": {
            "text/plain": [
              "   id  battery_power  blue  dual_sim  m_dep    ram_GB  talk_time  \\\n",
              "0   1           1043     1         1    0.1  3.394531          2   \n",
              "1   2            841     1         1    0.8  3.803711          7   \n",
              "2   3           1807     1         0    0.9  2.339844         10   \n",
              "3   4           1546     0         1    0.5  3.801758          7   \n",
              "4   5           1434     0         0    0.5  1.731445          7   \n",
              "\n",
              "   touch_screen  wifi  total_camera_megapixels  screen_area  \\\n",
              "0             1     0                       30           84   \n",
              "1             0     0                       16            0   \n",
              "2             1     1                        5          170   \n",
              "3             1     0                       38            0   \n",
              "4             0     1                       29          120   \n",
              "\n",
              "   memory_to_weight_ratio  screen_resolution  processor_speed  \\\n",
              "0                0.025907             319112              5.4   \n",
              "1                0.319372             639322              2.5   \n",
              "2                0.145161            1734820              8.4   \n",
              "3                0.260417             516840              4.0   \n",
              "4                0.453704             606690              8.4   \n",
              "\n",
              "   network_compatibility  \n",
              "0                      0  \n",
              "1                      3  \n",
              "2                      0  \n",
              "3                      3  \n",
              "4                      3  "
            ],
            "text/html": [
              "\n",
              "  <div id=\"df-082e7ee8-f2cb-4abd-bbd1-a7ef335daae2\" class=\"colab-df-container\">\n",
              "    <div>\n",
              "<style scoped>\n",
              "    .dataframe tbody tr th:only-of-type {\n",
              "        vertical-align: middle;\n",
              "    }\n",
              "\n",
              "    .dataframe tbody tr th {\n",
              "        vertical-align: top;\n",
              "    }\n",
              "\n",
              "    .dataframe thead th {\n",
              "        text-align: right;\n",
              "    }\n",
              "</style>\n",
              "<table border=\"1\" class=\"dataframe\">\n",
              "  <thead>\n",
              "    <tr style=\"text-align: right;\">\n",
              "      <th></th>\n",
              "      <th>id</th>\n",
              "      <th>battery_power</th>\n",
              "      <th>blue</th>\n",
              "      <th>dual_sim</th>\n",
              "      <th>m_dep</th>\n",
              "      <th>ram_GB</th>\n",
              "      <th>talk_time</th>\n",
              "      <th>touch_screen</th>\n",
              "      <th>wifi</th>\n",
              "      <th>total_camera_megapixels</th>\n",
              "      <th>screen_area</th>\n",
              "      <th>memory_to_weight_ratio</th>\n",
              "      <th>screen_resolution</th>\n",
              "      <th>processor_speed</th>\n",
              "      <th>network_compatibility</th>\n",
              "    </tr>\n",
              "  </thead>\n",
              "  <tbody>\n",
              "    <tr>\n",
              "      <th>0</th>\n",
              "      <td>1</td>\n",
              "      <td>1043</td>\n",
              "      <td>1</td>\n",
              "      <td>1</td>\n",
              "      <td>0.1</td>\n",
              "      <td>3.394531</td>\n",
              "      <td>2</td>\n",
              "      <td>1</td>\n",
              "      <td>0</td>\n",
              "      <td>30</td>\n",
              "      <td>84</td>\n",
              "      <td>0.025907</td>\n",
              "      <td>319112</td>\n",
              "      <td>5.4</td>\n",
              "      <td>0</td>\n",
              "    </tr>\n",
              "    <tr>\n",
              "      <th>1</th>\n",
              "      <td>2</td>\n",
              "      <td>841</td>\n",
              "      <td>1</td>\n",
              "      <td>1</td>\n",
              "      <td>0.8</td>\n",
              "      <td>3.803711</td>\n",
              "      <td>7</td>\n",
              "      <td>0</td>\n",
              "      <td>0</td>\n",
              "      <td>16</td>\n",
              "      <td>0</td>\n",
              "      <td>0.319372</td>\n",
              "      <td>639322</td>\n",
              "      <td>2.5</td>\n",
              "      <td>3</td>\n",
              "    </tr>\n",
              "    <tr>\n",
              "      <th>2</th>\n",
              "      <td>3</td>\n",
              "      <td>1807</td>\n",
              "      <td>1</td>\n",
              "      <td>0</td>\n",
              "      <td>0.9</td>\n",
              "      <td>2.339844</td>\n",
              "      <td>10</td>\n",
              "      <td>1</td>\n",
              "      <td>1</td>\n",
              "      <td>5</td>\n",
              "      <td>170</td>\n",
              "      <td>0.145161</td>\n",
              "      <td>1734820</td>\n",
              "      <td>8.4</td>\n",
              "      <td>0</td>\n",
              "    </tr>\n",
              "    <tr>\n",
              "      <th>3</th>\n",
              "      <td>4</td>\n",
              "      <td>1546</td>\n",
              "      <td>0</td>\n",
              "      <td>1</td>\n",
              "      <td>0.5</td>\n",
              "      <td>3.801758</td>\n",
              "      <td>7</td>\n",
              "      <td>1</td>\n",
              "      <td>0</td>\n",
              "      <td>38</td>\n",
              "      <td>0</td>\n",
              "      <td>0.260417</td>\n",
              "      <td>516840</td>\n",
              "      <td>4.0</td>\n",
              "      <td>3</td>\n",
              "    </tr>\n",
              "    <tr>\n",
              "      <th>4</th>\n",
              "      <td>5</td>\n",
              "      <td>1434</td>\n",
              "      <td>0</td>\n",
              "      <td>0</td>\n",
              "      <td>0.5</td>\n",
              "      <td>1.731445</td>\n",
              "      <td>7</td>\n",
              "      <td>0</td>\n",
              "      <td>1</td>\n",
              "      <td>29</td>\n",
              "      <td>120</td>\n",
              "      <td>0.453704</td>\n",
              "      <td>606690</td>\n",
              "      <td>8.4</td>\n",
              "      <td>3</td>\n",
              "    </tr>\n",
              "  </tbody>\n",
              "</table>\n",
              "</div>\n",
              "    <div class=\"colab-df-buttons\">\n",
              "\n",
              "  <div class=\"colab-df-container\">\n",
              "    <button class=\"colab-df-convert\" onclick=\"convertToInteractive('df-082e7ee8-f2cb-4abd-bbd1-a7ef335daae2')\"\n",
              "            title=\"Convert this dataframe to an interactive table.\"\n",
              "            style=\"display:none;\">\n",
              "\n",
              "  <svg xmlns=\"http://www.w3.org/2000/svg\" height=\"24px\" viewBox=\"0 -960 960 960\">\n",
              "    <path d=\"M120-120v-720h720v720H120Zm60-500h600v-160H180v160Zm220 220h160v-160H400v160Zm0 220h160v-160H400v160ZM180-400h160v-160H180v160Zm440 0h160v-160H620v160ZM180-180h160v-160H180v160Zm440 0h160v-160H620v160Z\"/>\n",
              "  </svg>\n",
              "    </button>\n",
              "\n",
              "  <style>\n",
              "    .colab-df-container {\n",
              "      display:flex;\n",
              "      gap: 12px;\n",
              "    }\n",
              "\n",
              "    .colab-df-convert {\n",
              "      background-color: #E8F0FE;\n",
              "      border: none;\n",
              "      border-radius: 50%;\n",
              "      cursor: pointer;\n",
              "      display: none;\n",
              "      fill: #1967D2;\n",
              "      height: 32px;\n",
              "      padding: 0 0 0 0;\n",
              "      width: 32px;\n",
              "    }\n",
              "\n",
              "    .colab-df-convert:hover {\n",
              "      background-color: #E2EBFA;\n",
              "      box-shadow: 0px 1px 2px rgba(60, 64, 67, 0.3), 0px 1px 3px 1px rgba(60, 64, 67, 0.15);\n",
              "      fill: #174EA6;\n",
              "    }\n",
              "\n",
              "    .colab-df-buttons div {\n",
              "      margin-bottom: 4px;\n",
              "    }\n",
              "\n",
              "    [theme=dark] .colab-df-convert {\n",
              "      background-color: #3B4455;\n",
              "      fill: #D2E3FC;\n",
              "    }\n",
              "\n",
              "    [theme=dark] .colab-df-convert:hover {\n",
              "      background-color: #434B5C;\n",
              "      box-shadow: 0px 1px 3px 1px rgba(0, 0, 0, 0.15);\n",
              "      filter: drop-shadow(0px 1px 2px rgba(0, 0, 0, 0.3));\n",
              "      fill: #FFFFFF;\n",
              "    }\n",
              "  </style>\n",
              "\n",
              "    <script>\n",
              "      const buttonEl =\n",
              "        document.querySelector('#df-082e7ee8-f2cb-4abd-bbd1-a7ef335daae2 button.colab-df-convert');\n",
              "      buttonEl.style.display =\n",
              "        google.colab.kernel.accessAllowed ? 'block' : 'none';\n",
              "\n",
              "      async function convertToInteractive(key) {\n",
              "        const element = document.querySelector('#df-082e7ee8-f2cb-4abd-bbd1-a7ef335daae2');\n",
              "        const dataTable =\n",
              "          await google.colab.kernel.invokeFunction('convertToInteractive',\n",
              "                                                    [key], {});\n",
              "        if (!dataTable) return;\n",
              "\n",
              "        const docLinkHtml = 'Like what you see? Visit the ' +\n",
              "          '<a target=\"_blank\" href=https://colab.research.google.com/notebooks/data_table.ipynb>data table notebook</a>'\n",
              "          + ' to learn more about interactive tables.';\n",
              "        element.innerHTML = '';\n",
              "        dataTable['output_type'] = 'display_data';\n",
              "        await google.colab.output.renderOutput(dataTable, element);\n",
              "        const docLink = document.createElement('div');\n",
              "        docLink.innerHTML = docLinkHtml;\n",
              "        element.appendChild(docLink);\n",
              "      }\n",
              "    </script>\n",
              "  </div>\n",
              "\n",
              "\n",
              "<div id=\"df-7b7cf25d-5565-4459-9750-bd7792252692\">\n",
              "  <button class=\"colab-df-quickchart\" onclick=\"quickchart('df-7b7cf25d-5565-4459-9750-bd7792252692')\"\n",
              "            title=\"Suggest charts\"\n",
              "            style=\"display:none;\">\n",
              "\n",
              "<svg xmlns=\"http://www.w3.org/2000/svg\" height=\"24px\"viewBox=\"0 0 24 24\"\n",
              "     width=\"24px\">\n",
              "    <g>\n",
              "        <path d=\"M19 3H5c-1.1 0-2 .9-2 2v14c0 1.1.9 2 2 2h14c1.1 0 2-.9 2-2V5c0-1.1-.9-2-2-2zM9 17H7v-7h2v7zm4 0h-2V7h2v10zm4 0h-2v-4h2v4z\"/>\n",
              "    </g>\n",
              "</svg>\n",
              "  </button>\n",
              "\n",
              "<style>\n",
              "  .colab-df-quickchart {\n",
              "      --bg-color: #E8F0FE;\n",
              "      --fill-color: #1967D2;\n",
              "      --hover-bg-color: #E2EBFA;\n",
              "      --hover-fill-color: #174EA6;\n",
              "      --disabled-fill-color: #AAA;\n",
              "      --disabled-bg-color: #DDD;\n",
              "  }\n",
              "\n",
              "  [theme=dark] .colab-df-quickchart {\n",
              "      --bg-color: #3B4455;\n",
              "      --fill-color: #D2E3FC;\n",
              "      --hover-bg-color: #434B5C;\n",
              "      --hover-fill-color: #FFFFFF;\n",
              "      --disabled-bg-color: #3B4455;\n",
              "      --disabled-fill-color: #666;\n",
              "  }\n",
              "\n",
              "  .colab-df-quickchart {\n",
              "    background-color: var(--bg-color);\n",
              "    border: none;\n",
              "    border-radius: 50%;\n",
              "    cursor: pointer;\n",
              "    display: none;\n",
              "    fill: var(--fill-color);\n",
              "    height: 32px;\n",
              "    padding: 0;\n",
              "    width: 32px;\n",
              "  }\n",
              "\n",
              "  .colab-df-quickchart:hover {\n",
              "    background-color: var(--hover-bg-color);\n",
              "    box-shadow: 0 1px 2px rgba(60, 64, 67, 0.3), 0 1px 3px 1px rgba(60, 64, 67, 0.15);\n",
              "    fill: var(--button-hover-fill-color);\n",
              "  }\n",
              "\n",
              "  .colab-df-quickchart-complete:disabled,\n",
              "  .colab-df-quickchart-complete:disabled:hover {\n",
              "    background-color: var(--disabled-bg-color);\n",
              "    fill: var(--disabled-fill-color);\n",
              "    box-shadow: none;\n",
              "  }\n",
              "\n",
              "  .colab-df-spinner {\n",
              "    border: 2px solid var(--fill-color);\n",
              "    border-color: transparent;\n",
              "    border-bottom-color: var(--fill-color);\n",
              "    animation:\n",
              "      spin 1s steps(1) infinite;\n",
              "  }\n",
              "\n",
              "  @keyframes spin {\n",
              "    0% {\n",
              "      border-color: transparent;\n",
              "      border-bottom-color: var(--fill-color);\n",
              "      border-left-color: var(--fill-color);\n",
              "    }\n",
              "    20% {\n",
              "      border-color: transparent;\n",
              "      border-left-color: var(--fill-color);\n",
              "      border-top-color: var(--fill-color);\n",
              "    }\n",
              "    30% {\n",
              "      border-color: transparent;\n",
              "      border-left-color: var(--fill-color);\n",
              "      border-top-color: var(--fill-color);\n",
              "      border-right-color: var(--fill-color);\n",
              "    }\n",
              "    40% {\n",
              "      border-color: transparent;\n",
              "      border-right-color: var(--fill-color);\n",
              "      border-top-color: var(--fill-color);\n",
              "    }\n",
              "    60% {\n",
              "      border-color: transparent;\n",
              "      border-right-color: var(--fill-color);\n",
              "    }\n",
              "    80% {\n",
              "      border-color: transparent;\n",
              "      border-right-color: var(--fill-color);\n",
              "      border-bottom-color: var(--fill-color);\n",
              "    }\n",
              "    90% {\n",
              "      border-color: transparent;\n",
              "      border-bottom-color: var(--fill-color);\n",
              "    }\n",
              "  }\n",
              "</style>\n",
              "\n",
              "  <script>\n",
              "    async function quickchart(key) {\n",
              "      const quickchartButtonEl =\n",
              "        document.querySelector('#' + key + ' button');\n",
              "      quickchartButtonEl.disabled = true;  // To prevent multiple clicks.\n",
              "      quickchartButtonEl.classList.add('colab-df-spinner');\n",
              "      try {\n",
              "        const charts = await google.colab.kernel.invokeFunction(\n",
              "            'suggestCharts', [key], {});\n",
              "      } catch (error) {\n",
              "        console.error('Error during call to suggestCharts:', error);\n",
              "      }\n",
              "      quickchartButtonEl.classList.remove('colab-df-spinner');\n",
              "      quickchartButtonEl.classList.add('colab-df-quickchart-complete');\n",
              "    }\n",
              "    (() => {\n",
              "      let quickchartButtonEl =\n",
              "        document.querySelector('#df-7b7cf25d-5565-4459-9750-bd7792252692 button');\n",
              "      quickchartButtonEl.style.display =\n",
              "        google.colab.kernel.accessAllowed ? 'block' : 'none';\n",
              "    })();\n",
              "  </script>\n",
              "</div>\n",
              "\n",
              "    </div>\n",
              "  </div>\n"
            ],
            "application/vnd.google.colaboratory.intrinsic+json": {
              "type": "dataframe",
              "variable_name": "test",
              "summary": "{\n  \"name\": \"test\",\n  \"rows\": 1000,\n  \"fields\": [\n    {\n      \"column\": \"id\",\n      \"properties\": {\n        \"dtype\": \"number\",\n        \"std\": 288,\n        \"min\": 1,\n        \"max\": 1000,\n        \"num_unique_values\": 1000,\n        \"samples\": [\n          522,\n          738,\n          741\n        ],\n        \"semantic_type\": \"\",\n        \"description\": \"\"\n      }\n    },\n    {\n      \"column\": \"battery_power\",\n      \"properties\": {\n        \"dtype\": \"number\",\n        \"std\": 432,\n        \"min\": 500,\n        \"max\": 1999,\n        \"num_unique_values\": 721,\n        \"samples\": [\n          1423,\n          1949,\n          1391\n        ],\n        \"semantic_type\": \"\",\n        \"description\": \"\"\n      }\n    },\n    {\n      \"column\": \"blue\",\n      \"properties\": {\n        \"dtype\": \"number\",\n        \"std\": 0,\n        \"min\": 0,\n        \"max\": 1,\n        \"num_unique_values\": 2,\n        \"samples\": [\n          0,\n          1\n        ],\n        \"semantic_type\": \"\",\n        \"description\": \"\"\n      }\n    },\n    {\n      \"column\": \"dual_sim\",\n      \"properties\": {\n        \"dtype\": \"number\",\n        \"std\": 0,\n        \"min\": 0,\n        \"max\": 1,\n        \"num_unique_values\": 2,\n        \"samples\": [\n          0,\n          1\n        ],\n        \"semantic_type\": \"\",\n        \"description\": \"\"\n      }\n    },\n    {\n      \"column\": \"m_dep\",\n      \"properties\": {\n        \"dtype\": \"number\",\n        \"std\": 0.2808605216698008,\n        \"min\": 0.1,\n        \"max\": 1.0,\n        \"num_unique_values\": 10,\n        \"samples\": [\n          0.3,\n          0.8\n        ],\n        \"semantic_type\": \"\",\n        \"description\": \"\"\n      }\n    },\n    {\n      \"column\": \"ram_GB\",\n      \"properties\": {\n        \"dtype\": \"number\",\n        \"std\": 1.0625901149460852,\n        \"min\": 0.2568359375,\n        \"max\": 3.8955078125,\n        \"num_unique_values\": 872,\n        \"samples\": [\n          1.1689453125,\n          2.716796875\n        ],\n        \"semantic_type\": \"\",\n        \"description\": \"\"\n      }\n    },\n    {\n      \"column\": \"talk_time\",\n      \"properties\": {\n        \"dtype\": \"number\",\n        \"std\": 5,\n        \"min\": 2,\n        \"max\": 20,\n        \"num_unique_values\": 19,\n        \"samples\": [\n          2,\n          5\n        ],\n        \"semantic_type\": \"\",\n        \"description\": \"\"\n      }\n    },\n    {\n      \"column\": \"touch_screen\",\n      \"properties\": {\n        \"dtype\": \"number\",\n        \"std\": 0,\n        \"min\": 0,\n        \"max\": 1,\n        \"num_unique_values\": 2,\n        \"samples\": [\n          0,\n          1\n        ],\n        \"semantic_type\": \"\",\n        \"description\": \"\"\n      }\n    },\n    {\n      \"column\": \"wifi\",\n      \"properties\": {\n        \"dtype\": \"number\",\n        \"std\": 0,\n        \"min\": 0,\n        \"max\": 1,\n        \"num_unique_values\": 2,\n        \"samples\": [\n          1,\n          0\n        ],\n        \"semantic_type\": \"\",\n        \"description\": \"\"\n      }\n    },\n    {\n      \"column\": \"total_camera_megapixels\",\n      \"properties\": {\n        \"dtype\": \"number\",\n        \"std\": 9,\n        \"min\": 0,\n        \"max\": 39,\n        \"num_unique_values\": 40,\n        \"samples\": [\n          7,\n          25\n        ],\n        \"semantic_type\": \"\",\n        \"description\": \"\"\n      }\n    },\n    {\n      \"column\": \"screen_area\",\n      \"properties\": {\n        \"dtype\": \"number\",\n        \"std\": 74,\n        \"min\": 0,\n        \"max\": 342,\n        \"num_unique_values\": 126,\n        \"samples\": [\n          88,\n          150\n        ],\n        \"semantic_type\": \"\",\n        \"description\": \"\"\n      }\n    },\n    {\n      \"column\": \"memory_to_weight_ratio\",\n      \"properties\": {\n        \"dtype\": \"number\",\n        \"std\": 0.16236506851267693,\n        \"min\": 0.011627906976744186,\n        \"max\": 0.7710843373493976,\n        \"num_unique_values\": 897,\n        \"samples\": [\n          0.35570469798657717,\n          0.04419889502762431\n        ],\n        \"semantic_type\": \"\",\n        \"description\": \"\"\n      }\n    },\n    {\n      \"column\": \"screen_resolution\",\n      \"properties\": {\n        \"dtype\": \"number\",\n        \"std\": 795958,\n        \"min\": 0,\n        \"max\": 3722100,\n        \"num_unique_values\": 997,\n        \"samples\": [\n          784920,\n          6795\n        ],\n        \"semantic_type\": \"\",\n        \"description\": \"\"\n      }\n    },\n    {\n      \"column\": \"processor_speed\",\n      \"properties\": {\n        \"dtype\": \"number\",\n        \"std\": 5.372711455902726,\n        \"min\": 0.5,\n        \"max\": 24.0,\n        \"num_unique_values\": 136,\n        \"samples\": [\n          24.0,\n          1.7999999999999998\n        ],\n        \"semantic_type\": \"\",\n        \"description\": \"\"\n      }\n    },\n    {\n      \"column\": \"network_compatibility\",\n      \"properties\": {\n        \"dtype\": \"number\",\n        \"std\": 1,\n        \"min\": 0,\n        \"max\": 3,\n        \"num_unique_values\": 3,\n        \"samples\": [\n          0,\n          3\n        ],\n        \"semantic_type\": \"\",\n        \"description\": \"\"\n      }\n    }\n  ]\n}"
            }
          },
          "metadata": {},
          "execution_count": 911
        }
      ]
    },
    {
      "cell_type": "code",
      "source": [
        "test.shape"
      ],
      "metadata": {
        "colab": {
          "base_uri": "https://localhost:8080/"
        },
        "id": "0_ZUXTz16-TP",
        "outputId": "514be4ba-cde2-4eb7-e5fa-7f9458bd82c8"
      },
      "execution_count": 912,
      "outputs": [
        {
          "output_type": "execute_result",
          "data": {
            "text/plain": [
              "(1000, 15)"
            ]
          },
          "metadata": {},
          "execution_count": 912
        }
      ]
    },
    {
      "cell_type": "markdown",
      "source": [
        "## deleting undeed vairalbes"
      ],
      "metadata": {
        "id": "Eou_9Gui7gYd"
      }
    },
    {
      "cell_type": "code",
      "source": [
        "test = test.drop(['id'], axis = 1)"
      ],
      "metadata": {
        "id": "LMeldhb06-Wc"
      },
      "execution_count": 913,
      "outputs": []
    },
    {
      "cell_type": "code",
      "source": [
        "test.shape"
      ],
      "metadata": {
        "colab": {
          "base_uri": "https://localhost:8080/"
        },
        "id": "qbWByH1E7frH",
        "outputId": "9c444bcb-23a8-4037-fd1b-604f4ac31ffc"
      },
      "execution_count": 914,
      "outputs": [
        {
          "output_type": "execute_result",
          "data": {
            "text/plain": [
              "(1000, 14)"
            ]
          },
          "metadata": {},
          "execution_count": 914
        }
      ]
    },
    {
      "cell_type": "code",
      "source": [
        "# test.head()"
      ],
      "metadata": {
        "id": "WCy55r7C6-Z7"
      },
      "execution_count": 915,
      "outputs": []
    },
    {
      "cell_type": "markdown",
      "source": [
        "## Scaling test data using StandardScaler"
      ],
      "metadata": {
        "id": "8k-1-XAI7zZh"
      }
    },
    {
      "cell_type": "code",
      "source": [
        "test = scaler.fit_transform(test)"
      ],
      "metadata": {
        "id": "kfos1QsZ6-c9"
      },
      "execution_count": 916,
      "outputs": []
    },
    {
      "cell_type": "code",
      "source": [
        "test"
      ],
      "metadata": {
        "colab": {
          "base_uri": "https://localhost:8080/"
        },
        "id": "b9gvXHq46-f3",
        "outputId": "ed0ee4e1-fb64-49d0-9082-61e1ad694c32"
      },
      "execution_count": 917,
      "outputs": [
        {
          "output_type": "execute_result",
          "data": {
            "text/plain": [
              "array([[-0.47545131,  0.968496  ,  0.96655883, ..., -0.69989707,\n",
              "        -0.2319915 , -1.34310455],\n",
              "       [-0.94278218,  0.968496  ,  0.96655883, ..., -0.29740112,\n",
              "        -0.77202628,  0.98597849],\n",
              "       [ 1.29207729,  0.968496  , -1.03459817, ...,  1.07961244,\n",
              "         0.32666518, -1.34310455],\n",
              "       ...,\n",
              "       [-0.1469316 , -1.03252879, -1.03459817, ..., -0.6063618 ,\n",
              "        -0.97686706,  0.98597849],\n",
              "       [ 0.65817305,  0.968496  ,  0.96655883, ..., -1.06127235,\n",
              "        -1.05135462, -1.34310455],\n",
              "       [ 0.04971753,  0.968496  , -1.03459817, ..., -0.75175483,\n",
              "        -0.67891684,  0.98597849]])"
            ]
          },
          "metadata": {},
          "execution_count": 917
        }
      ]
    },
    {
      "cell_type": "markdown",
      "metadata": {
        "id": "6osKqQVaWngX"
      },
      "source": [
        "# Part 11: Predicint unseen data\n"
      ]
    },
    {
      "cell_type": "code",
      "source": [
        "data.shape, test.shape"
      ],
      "metadata": {
        "colab": {
          "base_uri": "https://localhost:8080/"
        },
        "id": "RUB2dOGLgise",
        "outputId": "99a958cf-c32d-4567-ecb8-659f70069a7b"
      },
      "execution_count": 931,
      "outputs": [
        {
          "output_type": "execute_result",
          "data": {
            "text/plain": [
              "((2000, 15), (1000, 14))"
            ]
          },
          "metadata": {},
          "execution_count": 931
        }
      ]
    },
    {
      "cell_type": "code",
      "source": [
        "test"
      ],
      "metadata": {
        "colab": {
          "base_uri": "https://localhost:8080/"
        },
        "id": "G5nh_4w2g8X2",
        "outputId": "3344d8a1-5bfe-4a62-bc14-c8f8de6794c3"
      },
      "execution_count": 932,
      "outputs": [
        {
          "output_type": "execute_result",
          "data": {
            "text/plain": [
              "array([[-0.47545131,  0.968496  ,  0.96655883, ..., -0.69989707,\n",
              "        -0.2319915 , -1.34310455],\n",
              "       [-0.94278218,  0.968496  ,  0.96655883, ..., -0.29740112,\n",
              "        -0.77202628,  0.98597849],\n",
              "       [ 1.29207729,  0.968496  , -1.03459817, ...,  1.07961244,\n",
              "         0.32666518, -1.34310455],\n",
              "       ...,\n",
              "       [-0.1469316 , -1.03252879, -1.03459817, ..., -0.6063618 ,\n",
              "        -0.97686706,  0.98597849],\n",
              "       [ 0.65817305,  0.968496  ,  0.96655883, ..., -1.06127235,\n",
              "        -1.05135462, -1.34310455],\n",
              "       [ 0.04971753,  0.968496  , -1.03459817, ..., -0.75175483,\n",
              "        -0.67891684,  0.98597849]])"
            ]
          },
          "metadata": {},
          "execution_count": 932
        }
      ]
    },
    {
      "cell_type": "markdown",
      "source": [],
      "metadata": {
        "id": "s-o9XrTQhe6B"
      }
    },
    {
      "cell_type": "code",
      "source": [
        "# battery_power, bluetooth, dual_sim, ram_GB, talk_time, touch_screen, wifi, price_range, total_camera_megapixels,\n",
        "# screen_resolution, processor_speed, network_cmpatibilit\n",
        "\n",
        "singleRow = [[200, 1, 1, 0.5, 1, 12, 1,1, 7,1, 0.056464, 15234, 3.3, 0 ]]"
      ],
      "metadata": {
        "id": "dHbfDrEigqlv"
      },
      "execution_count": 933,
      "outputs": []
    },
    {
      "cell_type": "code",
      "source": [
        "\n",
        "fistrowoftest = [[1043\t,1\t,1,\t0.1,\t3.394531\t,2\t,1,\t0,\t30,\t84,\t0.025907\t,319112,\t5.4,\t0]]\n",
        "lr.predict(scaler.transform(fistrowoftest))"
      ],
      "metadata": {
        "colab": {
          "base_uri": "https://localhost:8080/"
        },
        "id": "b-Exxu2F9L70",
        "outputId": "1a101512-7afc-4248-b671-0308c93b95b9"
      },
      "execution_count": 934,
      "outputs": [
        {
          "output_type": "stream",
          "name": "stderr",
          "text": [
            "/usr/local/lib/python3.10/dist-packages/sklearn/base.py:439: UserWarning: X does not have valid feature names, but StandardScaler was fitted with feature names\n",
            "  warnings.warn(\n"
          ]
        },
        {
          "output_type": "execute_result",
          "data": {
            "text/plain": [
              "array([2])"
            ]
          },
          "metadata": {},
          "execution_count": 934
        }
      ]
    },
    {
      "cell_type": "code",
      "source": [
        "secondrowoftst = [[\t841\t,1\t,1,\t0.8\t,3.803711,7\t,0\t,0\t,16,\t0,\t0.319372,\t639322,2.5,3\t]]\n",
        "lr.predict(scaler.transform(secondrowoftst))"
      ],
      "metadata": {
        "colab": {
          "base_uri": "https://localhost:8080/"
        },
        "id": "aRHMMDW39xk9",
        "outputId": "d6e1a32a-a71c-4fab-cac3-5538086afd16"
      },
      "execution_count": 935,
      "outputs": [
        {
          "output_type": "stream",
          "name": "stderr",
          "text": [
            "/usr/local/lib/python3.10/dist-packages/sklearn/base.py:439: UserWarning: X does not have valid feature names, but StandardScaler was fitted with feature names\n",
            "  warnings.warn(\n"
          ]
        },
        {
          "output_type": "execute_result",
          "data": {
            "text/plain": [
              "array([3])"
            ]
          },
          "metadata": {},
          "execution_count": 935
        }
      ]
    },
    {
      "cell_type": "code",
      "source": [
        "thirdrowftest = [[1807,\t1\t,0\t,0.9\t,2.339844\t,10\t,1,\t1,\t5\t,170,\t0.145161\t,1734820\t,8.4\t,0\t]]\n",
        "lr.predict(scaler.transform(thirdrowftest))\n"
      ],
      "metadata": {
        "colab": {
          "base_uri": "https://localhost:8080/"
        },
        "id": "ErSADxTLMhIJ",
        "outputId": "761fe85a-37ba-4e37-cec8-73fafc1e9c2a"
      },
      "execution_count": 936,
      "outputs": [
        {
          "output_type": "stream",
          "name": "stderr",
          "text": [
            "/usr/local/lib/python3.10/dist-packages/sklearn/base.py:439: UserWarning: X does not have valid feature names, but StandardScaler was fitted with feature names\n",
            "  warnings.warn(\n"
          ]
        },
        {
          "output_type": "execute_result",
          "data": {
            "text/plain": [
              "array([2])"
            ]
          },
          "metadata": {},
          "execution_count": 936
        }
      ]
    },
    {
      "cell_type": "code",
      "source": [
        "predictions  = lr.predict(test)"
      ],
      "metadata": {
        "id": "xcZEcHv11gMg"
      },
      "execution_count": 937,
      "outputs": []
    },
    {
      "cell_type": "code",
      "source": [],
      "metadata": {
        "id": "hsluADfQNRF6"
      },
      "execution_count": 937,
      "outputs": []
    },
    {
      "cell_type": "code",
      "source": [],
      "metadata": {
        "id": "Y1kkh_cMNRJp"
      },
      "execution_count": 937,
      "outputs": []
    },
    {
      "cell_type": "code",
      "source": [
        "lr.predict(test)"
      ],
      "metadata": {
        "colab": {
          "base_uri": "https://localhost:8080/"
        },
        "id": "ot5Mjl9uM_50",
        "outputId": "4da63c9c-fdee-4065-fd44-507ac18f4f95"
      },
      "execution_count": 938,
      "outputs": [
        {
          "output_type": "execute_result",
          "data": {
            "text/plain": [
              "array([2, 3, 2, 3, 1, 3, 3, 1, 3, 0, 3, 3, 0, 0, 2, 0, 2, 1, 3, 2, 1, 3,\n",
              "       1, 1, 3, 0, 2, 0, 3, 0, 2, 0, 3, 0, 1, 1, 3, 1, 2, 1, 1, 2, 0, 0,\n",
              "       0, 1, 0, 3, 1, 2, 1, 0, 3, 0, 3, 1, 3, 1, 1, 3, 3, 3, 0, 2, 0, 1,\n",
              "       2, 3, 1, 2, 1, 2, 2, 3, 3, 0, 2, 0, 2, 3, 0, 3, 3, 0, 3, 0, 3, 1,\n",
              "       3, 0, 1, 1, 2, 1, 2, 1, 0, 2, 1, 2, 1, 0, 0, 3, 0, 2, 0, 1, 2, 3,\n",
              "       3, 3, 1, 3, 3, 3, 3, 2, 3, 0, 0, 3, 2, 1, 2, 0, 3, 2, 2, 2, 0, 2,\n",
              "       1, 1, 3, 1, 1, 0, 3, 2, 1, 2, 1, 3, 2, 3, 3, 3, 2, 3, 2, 3, 1, 0,\n",
              "       3, 2, 3, 3, 3, 3, 2, 2, 3, 3, 3, 3, 1, 0, 3, 0, 0, 0, 2, 1, 0, 1,\n",
              "       0, 0, 1, 2, 1, 0, 0, 1, 1, 2, 2, 1, 0, 0, 0, 1, 0, 3, 1, 0, 2, 2,\n",
              "       2, 3, 1, 2, 2, 2, 3, 2, 1, 1, 0, 0, 1, 2, 0, 2, 3, 3, 0, 2, 0, 3,\n",
              "       2, 3, 3, 1, 0, 1, 0, 3, 0, 1, 0, 2, 2, 1, 3, 1, 3, 0, 3, 1, 2, 0,\n",
              "       0, 2, 1, 3, 3, 3, 1, 1, 3, 0, 0, 2, 3, 3, 1, 3, 1, 1, 3, 2, 1, 2,\n",
              "       3, 3, 3, 1, 0, 1, 2, 2, 1, 1, 3, 2, 0, 3, 0, 1, 3, 1, 0, 3, 2, 3,\n",
              "       3, 2, 1, 3, 3, 2, 3, 1, 2, 1, 2, 0, 2, 3, 1, 0, 0, 3, 0, 3, 0, 1,\n",
              "       2, 0, 2, 3, 1, 3, 2, 2, 0, 2, 0, 0, 0, 1, 3, 2, 0, 0, 0, 3, 2, 0,\n",
              "       3, 3, 1, 2, 2, 2, 3, 1, 3, 3, 2, 2, 3, 3, 3, 0, 3, 0, 3, 1, 3, 1,\n",
              "       3, 3, 0, 1, 0, 3, 1, 3, 1, 3, 0, 0, 0, 0, 2, 0, 0, 2, 2, 1, 2, 2,\n",
              "       2, 0, 1, 0, 0, 3, 2, 0, 3, 1, 2, 2, 1, 2, 3, 1, 1, 2, 2, 1, 2, 0,\n",
              "       1, 1, 0, 3, 2, 0, 0, 1, 0, 0, 1, 1, 0, 0, 0, 2, 2, 3, 1, 3, 0, 3,\n",
              "       0, 3, 0, 1, 1, 1, 1, 0, 3, 2, 3, 3, 1, 3, 1, 2, 1, 3, 2, 0, 1, 2,\n",
              "       1, 1, 0, 0, 0, 1, 2, 1, 0, 3, 2, 0, 2, 3, 0, 0, 2, 1, 2, 1, 2, 3,\n",
              "       3, 0, 3, 0, 2, 3, 2, 3, 0, 2, 0, 2, 3, 0, 1, 1, 0, 0, 1, 1, 1, 3,\n",
              "       3, 3, 2, 3, 1, 2, 2, 2, 3, 3, 2, 0, 2, 1, 2, 2, 1, 0, 2, 2, 0, 0,\n",
              "       0, 3, 1, 0, 2, 2, 2, 0, 3, 0, 2, 2, 1, 3, 0, 2, 3, 0, 1, 1, 3, 3,\n",
              "       1, 1, 2, 3, 2, 0, 2, 1, 3, 0, 3, 3, 1, 2, 2, 2, 3, 0, 1, 2, 3, 1,\n",
              "       3, 2, 3, 1, 1, 1, 0, 3, 2, 0, 3, 2, 3, 2, 0, 2, 3, 3, 2, 3, 3, 1,\n",
              "       2, 0, 2, 2, 3, 1, 0, 1, 1, 2, 2, 2, 0, 0, 2, 2, 3, 1, 0, 2, 1, 3,\n",
              "       3, 0, 1, 3, 0, 2, 1, 1, 0, 0, 2, 1, 0, 1, 2, 2, 1, 0, 2, 2, 1, 0,\n",
              "       3, 0, 0, 3, 2, 0, 0, 0, 0, 0, 3, 0, 3, 1, 3, 1, 1, 3, 2, 0, 2, 1,\n",
              "       3, 2, 2, 2, 0, 3, 0, 2, 0, 2, 0, 0, 1, 1, 1, 2, 1, 3, 1, 3, 2, 2,\n",
              "       1, 3, 2, 0, 2, 2, 0, 3, 3, 0, 2, 1, 1, 2, 0, 3, 2, 0, 3, 2, 3, 0,\n",
              "       0, 3, 0, 2, 2, 3, 2, 2, 2, 2, 1, 2, 3, 0, 1, 1, 1, 2, 1, 0, 0, 1,\n",
              "       0, 0, 3, 0, 1, 2, 0, 1, 0, 1, 3, 0, 3, 2, 3, 0, 0, 1, 2, 2, 1, 0,\n",
              "       1, 1, 0, 1, 1, 0, 0, 3, 3, 0, 3, 1, 2, 3, 0, 1, 0, 2, 2, 0, 3, 1,\n",
              "       0, 3, 1, 1, 0, 2, 3, 3, 2, 2, 0, 3, 2, 0, 1, 0, 3, 3, 2, 0, 2, 1,\n",
              "       3, 1, 0, 2, 3, 0, 3, 1, 2, 1, 1, 1, 3, 1, 1, 1, 2, 1, 0, 2, 2, 0,\n",
              "       2, 0, 0, 0, 0, 2, 3, 3, 3, 0, 1, 2, 1, 1, 0, 0, 2, 1, 0, 2, 0, 3,\n",
              "       2, 2, 1, 2, 0, 2, 1, 3, 0, 0, 3, 2, 3, 0, 0, 2, 3, 3, 1, 3, 2, 1,\n",
              "       0, 0, 2, 3, 1, 3, 0, 0, 0, 2, 2, 1, 2, 0, 3, 2, 1, 2, 3, 3, 0, 1,\n",
              "       1, 2, 1, 2, 2, 0, 1, 3, 1, 1, 3, 1, 2, 3, 1, 1, 1, 2, 3, 3, 0, 2,\n",
              "       3, 0, 2, 3, 2, 2, 2, 3, 2, 0, 1, 2, 0, 1, 1, 1, 2, 2, 2, 1, 2, 1,\n",
              "       0, 1, 3, 1, 0, 1, 2, 3, 1, 0, 0, 2, 2, 2, 3, 0, 3, 2, 2, 1, 3, 0,\n",
              "       1, 3, 1, 2, 1, 1, 3, 2, 0, 3, 0, 2, 3, 0, 2, 1, 3, 3, 1, 0, 2, 3,\n",
              "       1, 0, 2, 1, 2, 1, 2, 0, 2, 2, 0, 2, 3, 2, 3, 0, 2, 1, 1, 2, 2, 3,\n",
              "       3, 0, 2, 1, 2, 1, 3, 1, 1, 3, 0, 1, 0, 0, 3, 2, 2, 0, 0, 0, 0, 3,\n",
              "       2, 3, 3, 0, 0, 2, 1, 0, 2, 2])"
            ]
          },
          "metadata": {},
          "execution_count": 938
        }
      ]
    },
    {
      "cell_type": "code",
      "source": [
        "# x_test__predicted_y = lr.predict(X_test)"
      ],
      "metadata": {
        "id": "IWwghv7ONRB-"
      },
      "execution_count": 946,
      "outputs": []
    },
    {
      "cell_type": "code",
      "source": [],
      "metadata": {
        "id": "eYY56rj6Nu_S"
      },
      "execution_count": 946,
      "outputs": []
    },
    {
      "cell_type": "code",
      "source": [],
      "metadata": {
        "id": "T_rryZgmOsOU"
      },
      "execution_count": 946,
      "outputs": []
    },
    {
      "cell_type": "code",
      "source": [],
      "metadata": {
        "id": "-F_QNOlLOax9"
      },
      "execution_count": 946,
      "outputs": []
    }
  ],
  "metadata": {
    "colab": {
      "provenance": [],
      "collapsed_sections": [
        "7KzkD_39VPpG",
        "LU35EaDuVQpb",
        "4O0nQfXue8Bw",
        "S3pCK_JclmeQ",
        "sKLlA2D7lmhM",
        "c3yxr6MI3ZkZ",
        "gQHOGsBdsswe",
        "XBuuAOttsszU",
        "hGgwkO_h7o7M",
        "R8cQIqqjVQsK",
        "7cX7eDAZVm5c",
        "V3WyO-R1VnUk",
        "gwO8QSfLVncU",
        "JukoXB5YVm8g",
        "Z9lie8MoVnA2",
        "kUo7osOOV0eY",
        "06BZOKDLV0zj",
        "zoS6nLdAV1Fb",
        "sc8hl5EBV1ae",
        "vIcBqIrFWNeJ",
        "E-6fRvw2WU8H",
        "vjbgtNY_F_ff",
        "LlNTc9ErGGq9",
        "vgk_JVQq61Do",
        "6osKqQVaWngX"
      ]
    },
    "kernelspec": {
      "display_name": "Python 3",
      "name": "python3"
    },
    "language_info": {
      "name": "python"
    }
  },
  "nbformat": 4,
  "nbformat_minor": 0
}